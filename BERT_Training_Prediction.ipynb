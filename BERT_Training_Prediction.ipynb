{
  "nbformat": 4,
  "nbformat_minor": 0,
  "metadata": {
    "colab": {
      "name": "BERT_Training_Prediction.ipynb",
      "provenance": [],
      "collapsed_sections": []
    },
    "kernelspec": {
      "name": "python3",
      "display_name": "Python 3"
    },
    "language_info": {
      "name": "python"
    },
    "accelerator": "GPU",
    "widgets": {
      "application/vnd.jupyter.widget-state+json": {
        "3393011783b045eeae3dffb4c80b8efd": {
          "model_module": "@jupyter-widgets/controls",
          "model_name": "HBoxModel",
          "state": {
            "_view_name": "HBoxView",
            "_dom_classes": [],
            "_model_name": "HBoxModel",
            "_view_module": "@jupyter-widgets/controls",
            "_model_module_version": "1.5.0",
            "_view_count": null,
            "_view_module_version": "1.5.0",
            "box_style": "",
            "layout": "IPY_MODEL_b1236841753c43ed8bb30ff87f8fd49f",
            "_model_module": "@jupyter-widgets/controls",
            "children": [
              "IPY_MODEL_e594c75e66a545e7abd1fb02dd893467",
              "IPY_MODEL_e3e18db2e8434853b4920c1628dfb31b"
            ]
          }
        },
        "b1236841753c43ed8bb30ff87f8fd49f": {
          "model_module": "@jupyter-widgets/base",
          "model_name": "LayoutModel",
          "state": {
            "_view_name": "LayoutView",
            "grid_template_rows": null,
            "right": null,
            "justify_content": null,
            "_view_module": "@jupyter-widgets/base",
            "overflow": null,
            "_model_module_version": "1.2.0",
            "_view_count": null,
            "flex_flow": null,
            "width": null,
            "min_width": null,
            "border": null,
            "align_items": null,
            "bottom": null,
            "_model_module": "@jupyter-widgets/base",
            "top": null,
            "grid_column": null,
            "overflow_y": null,
            "overflow_x": null,
            "grid_auto_flow": null,
            "grid_area": null,
            "grid_template_columns": null,
            "flex": null,
            "_model_name": "LayoutModel",
            "justify_items": null,
            "grid_row": null,
            "max_height": null,
            "align_content": null,
            "visibility": null,
            "align_self": null,
            "height": null,
            "min_height": null,
            "padding": null,
            "grid_auto_rows": null,
            "grid_gap": null,
            "max_width": null,
            "order": null,
            "_view_module_version": "1.2.0",
            "grid_template_areas": null,
            "object_position": null,
            "object_fit": null,
            "grid_auto_columns": null,
            "margin": null,
            "display": null,
            "left": null
          }
        },
        "e594c75e66a545e7abd1fb02dd893467": {
          "model_module": "@jupyter-widgets/controls",
          "model_name": "FloatProgressModel",
          "state": {
            "_view_name": "ProgressView",
            "style": "IPY_MODEL_5fd6160053f148e4b2e01b4cce158e32",
            "_dom_classes": [],
            "description": "Downloading: 100%",
            "_model_name": "FloatProgressModel",
            "bar_style": "success",
            "max": 231508,
            "_view_module": "@jupyter-widgets/controls",
            "_model_module_version": "1.5.0",
            "value": 231508,
            "_view_count": null,
            "_view_module_version": "1.5.0",
            "orientation": "horizontal",
            "min": 0,
            "description_tooltip": null,
            "_model_module": "@jupyter-widgets/controls",
            "layout": "IPY_MODEL_977348b92ee644e3b382b664b407a0ab"
          }
        },
        "e3e18db2e8434853b4920c1628dfb31b": {
          "model_module": "@jupyter-widgets/controls",
          "model_name": "HTMLModel",
          "state": {
            "_view_name": "HTMLView",
            "style": "IPY_MODEL_bdcb1c9a90a246cf80c87fe3ac03b021",
            "_dom_classes": [],
            "description": "",
            "_model_name": "HTMLModel",
            "placeholder": "​",
            "_view_module": "@jupyter-widgets/controls",
            "_model_module_version": "1.5.0",
            "value": " 232k/232k [00:01&lt;00:00, 180kB/s]",
            "_view_count": null,
            "_view_module_version": "1.5.0",
            "description_tooltip": null,
            "_model_module": "@jupyter-widgets/controls",
            "layout": "IPY_MODEL_777cdd220c3f45328da541b658e8e740"
          }
        },
        "5fd6160053f148e4b2e01b4cce158e32": {
          "model_module": "@jupyter-widgets/controls",
          "model_name": "ProgressStyleModel",
          "state": {
            "_view_name": "StyleView",
            "_model_name": "ProgressStyleModel",
            "description_width": "initial",
            "_view_module": "@jupyter-widgets/base",
            "_model_module_version": "1.5.0",
            "_view_count": null,
            "_view_module_version": "1.2.0",
            "bar_color": null,
            "_model_module": "@jupyter-widgets/controls"
          }
        },
        "977348b92ee644e3b382b664b407a0ab": {
          "model_module": "@jupyter-widgets/base",
          "model_name": "LayoutModel",
          "state": {
            "_view_name": "LayoutView",
            "grid_template_rows": null,
            "right": null,
            "justify_content": null,
            "_view_module": "@jupyter-widgets/base",
            "overflow": null,
            "_model_module_version": "1.2.0",
            "_view_count": null,
            "flex_flow": null,
            "width": null,
            "min_width": null,
            "border": null,
            "align_items": null,
            "bottom": null,
            "_model_module": "@jupyter-widgets/base",
            "top": null,
            "grid_column": null,
            "overflow_y": null,
            "overflow_x": null,
            "grid_auto_flow": null,
            "grid_area": null,
            "grid_template_columns": null,
            "flex": null,
            "_model_name": "LayoutModel",
            "justify_items": null,
            "grid_row": null,
            "max_height": null,
            "align_content": null,
            "visibility": null,
            "align_self": null,
            "height": null,
            "min_height": null,
            "padding": null,
            "grid_auto_rows": null,
            "grid_gap": null,
            "max_width": null,
            "order": null,
            "_view_module_version": "1.2.0",
            "grid_template_areas": null,
            "object_position": null,
            "object_fit": null,
            "grid_auto_columns": null,
            "margin": null,
            "display": null,
            "left": null
          }
        },
        "bdcb1c9a90a246cf80c87fe3ac03b021": {
          "model_module": "@jupyter-widgets/controls",
          "model_name": "DescriptionStyleModel",
          "state": {
            "_view_name": "StyleView",
            "_model_name": "DescriptionStyleModel",
            "description_width": "",
            "_view_module": "@jupyter-widgets/base",
            "_model_module_version": "1.5.0",
            "_view_count": null,
            "_view_module_version": "1.2.0",
            "_model_module": "@jupyter-widgets/controls"
          }
        },
        "777cdd220c3f45328da541b658e8e740": {
          "model_module": "@jupyter-widgets/base",
          "model_name": "LayoutModel",
          "state": {
            "_view_name": "LayoutView",
            "grid_template_rows": null,
            "right": null,
            "justify_content": null,
            "_view_module": "@jupyter-widgets/base",
            "overflow": null,
            "_model_module_version": "1.2.0",
            "_view_count": null,
            "flex_flow": null,
            "width": null,
            "min_width": null,
            "border": null,
            "align_items": null,
            "bottom": null,
            "_model_module": "@jupyter-widgets/base",
            "top": null,
            "grid_column": null,
            "overflow_y": null,
            "overflow_x": null,
            "grid_auto_flow": null,
            "grid_area": null,
            "grid_template_columns": null,
            "flex": null,
            "_model_name": "LayoutModel",
            "justify_items": null,
            "grid_row": null,
            "max_height": null,
            "align_content": null,
            "visibility": null,
            "align_self": null,
            "height": null,
            "min_height": null,
            "padding": null,
            "grid_auto_rows": null,
            "grid_gap": null,
            "max_width": null,
            "order": null,
            "_view_module_version": "1.2.0",
            "grid_template_areas": null,
            "object_position": null,
            "object_fit": null,
            "grid_auto_columns": null,
            "margin": null,
            "display": null,
            "left": null
          }
        },
        "fb3d803744ce4f0cb0e88b9cf43b5249": {
          "model_module": "@jupyter-widgets/controls",
          "model_name": "HBoxModel",
          "state": {
            "_view_name": "HBoxView",
            "_dom_classes": [],
            "_model_name": "HBoxModel",
            "_view_module": "@jupyter-widgets/controls",
            "_model_module_version": "1.5.0",
            "_view_count": null,
            "_view_module_version": "1.5.0",
            "box_style": "",
            "layout": "IPY_MODEL_354ab8570d6e4cf0ad05f77890efb0f5",
            "_model_module": "@jupyter-widgets/controls",
            "children": [
              "IPY_MODEL_22d6ac6ad48f4d1fabbbcba50f2a49a6",
              "IPY_MODEL_b0cdba43d4d3488f9e85baaa88dc21fe"
            ]
          }
        },
        "354ab8570d6e4cf0ad05f77890efb0f5": {
          "model_module": "@jupyter-widgets/base",
          "model_name": "LayoutModel",
          "state": {
            "_view_name": "LayoutView",
            "grid_template_rows": null,
            "right": null,
            "justify_content": null,
            "_view_module": "@jupyter-widgets/base",
            "overflow": null,
            "_model_module_version": "1.2.0",
            "_view_count": null,
            "flex_flow": null,
            "width": null,
            "min_width": null,
            "border": null,
            "align_items": null,
            "bottom": null,
            "_model_module": "@jupyter-widgets/base",
            "top": null,
            "grid_column": null,
            "overflow_y": null,
            "overflow_x": null,
            "grid_auto_flow": null,
            "grid_area": null,
            "grid_template_columns": null,
            "flex": null,
            "_model_name": "LayoutModel",
            "justify_items": null,
            "grid_row": null,
            "max_height": null,
            "align_content": null,
            "visibility": null,
            "align_self": null,
            "height": null,
            "min_height": null,
            "padding": null,
            "grid_auto_rows": null,
            "grid_gap": null,
            "max_width": null,
            "order": null,
            "_view_module_version": "1.2.0",
            "grid_template_areas": null,
            "object_position": null,
            "object_fit": null,
            "grid_auto_columns": null,
            "margin": null,
            "display": null,
            "left": null
          }
        },
        "22d6ac6ad48f4d1fabbbcba50f2a49a6": {
          "model_module": "@jupyter-widgets/controls",
          "model_name": "FloatProgressModel",
          "state": {
            "_view_name": "ProgressView",
            "style": "IPY_MODEL_685d12f6e20e4118a5fbcc2488a41157",
            "_dom_classes": [],
            "description": "Downloading: 100%",
            "_model_name": "FloatProgressModel",
            "bar_style": "success",
            "max": 28,
            "_view_module": "@jupyter-widgets/controls",
            "_model_module_version": "1.5.0",
            "value": 28,
            "_view_count": null,
            "_view_module_version": "1.5.0",
            "orientation": "horizontal",
            "min": 0,
            "description_tooltip": null,
            "_model_module": "@jupyter-widgets/controls",
            "layout": "IPY_MODEL_9df9779659b6489099c3d236277dd7c0"
          }
        },
        "b0cdba43d4d3488f9e85baaa88dc21fe": {
          "model_module": "@jupyter-widgets/controls",
          "model_name": "HTMLModel",
          "state": {
            "_view_name": "HTMLView",
            "style": "IPY_MODEL_df18639f6fb24392b4d78387d57399bd",
            "_dom_classes": [],
            "description": "",
            "_model_name": "HTMLModel",
            "placeholder": "​",
            "_view_module": "@jupyter-widgets/controls",
            "_model_module_version": "1.5.0",
            "value": " 28.0/28.0 [00:00&lt;00:00, 34.8B/s]",
            "_view_count": null,
            "_view_module_version": "1.5.0",
            "description_tooltip": null,
            "_model_module": "@jupyter-widgets/controls",
            "layout": "IPY_MODEL_f6fd635e4acc42febb0ff8815eb35887"
          }
        },
        "685d12f6e20e4118a5fbcc2488a41157": {
          "model_module": "@jupyter-widgets/controls",
          "model_name": "ProgressStyleModel",
          "state": {
            "_view_name": "StyleView",
            "_model_name": "ProgressStyleModel",
            "description_width": "initial",
            "_view_module": "@jupyter-widgets/base",
            "_model_module_version": "1.5.0",
            "_view_count": null,
            "_view_module_version": "1.2.0",
            "bar_color": null,
            "_model_module": "@jupyter-widgets/controls"
          }
        },
        "9df9779659b6489099c3d236277dd7c0": {
          "model_module": "@jupyter-widgets/base",
          "model_name": "LayoutModel",
          "state": {
            "_view_name": "LayoutView",
            "grid_template_rows": null,
            "right": null,
            "justify_content": null,
            "_view_module": "@jupyter-widgets/base",
            "overflow": null,
            "_model_module_version": "1.2.0",
            "_view_count": null,
            "flex_flow": null,
            "width": null,
            "min_width": null,
            "border": null,
            "align_items": null,
            "bottom": null,
            "_model_module": "@jupyter-widgets/base",
            "top": null,
            "grid_column": null,
            "overflow_y": null,
            "overflow_x": null,
            "grid_auto_flow": null,
            "grid_area": null,
            "grid_template_columns": null,
            "flex": null,
            "_model_name": "LayoutModel",
            "justify_items": null,
            "grid_row": null,
            "max_height": null,
            "align_content": null,
            "visibility": null,
            "align_self": null,
            "height": null,
            "min_height": null,
            "padding": null,
            "grid_auto_rows": null,
            "grid_gap": null,
            "max_width": null,
            "order": null,
            "_view_module_version": "1.2.0",
            "grid_template_areas": null,
            "object_position": null,
            "object_fit": null,
            "grid_auto_columns": null,
            "margin": null,
            "display": null,
            "left": null
          }
        },
        "df18639f6fb24392b4d78387d57399bd": {
          "model_module": "@jupyter-widgets/controls",
          "model_name": "DescriptionStyleModel",
          "state": {
            "_view_name": "StyleView",
            "_model_name": "DescriptionStyleModel",
            "description_width": "",
            "_view_module": "@jupyter-widgets/base",
            "_model_module_version": "1.5.0",
            "_view_count": null,
            "_view_module_version": "1.2.0",
            "_model_module": "@jupyter-widgets/controls"
          }
        },
        "f6fd635e4acc42febb0ff8815eb35887": {
          "model_module": "@jupyter-widgets/base",
          "model_name": "LayoutModel",
          "state": {
            "_view_name": "LayoutView",
            "grid_template_rows": null,
            "right": null,
            "justify_content": null,
            "_view_module": "@jupyter-widgets/base",
            "overflow": null,
            "_model_module_version": "1.2.0",
            "_view_count": null,
            "flex_flow": null,
            "width": null,
            "min_width": null,
            "border": null,
            "align_items": null,
            "bottom": null,
            "_model_module": "@jupyter-widgets/base",
            "top": null,
            "grid_column": null,
            "overflow_y": null,
            "overflow_x": null,
            "grid_auto_flow": null,
            "grid_area": null,
            "grid_template_columns": null,
            "flex": null,
            "_model_name": "LayoutModel",
            "justify_items": null,
            "grid_row": null,
            "max_height": null,
            "align_content": null,
            "visibility": null,
            "align_self": null,
            "height": null,
            "min_height": null,
            "padding": null,
            "grid_auto_rows": null,
            "grid_gap": null,
            "max_width": null,
            "order": null,
            "_view_module_version": "1.2.0",
            "grid_template_areas": null,
            "object_position": null,
            "object_fit": null,
            "grid_auto_columns": null,
            "margin": null,
            "display": null,
            "left": null
          }
        },
        "3eb9a63ea5b240e1ab6cb47774aa7ff5": {
          "model_module": "@jupyter-widgets/controls",
          "model_name": "HBoxModel",
          "state": {
            "_view_name": "HBoxView",
            "_dom_classes": [],
            "_model_name": "HBoxModel",
            "_view_module": "@jupyter-widgets/controls",
            "_model_module_version": "1.5.0",
            "_view_count": null,
            "_view_module_version": "1.5.0",
            "box_style": "",
            "layout": "IPY_MODEL_ffc152a7891c4907be76b57099bd7837",
            "_model_module": "@jupyter-widgets/controls",
            "children": [
              "IPY_MODEL_40b3066e5ded4f36b48f79e3cbad5526",
              "IPY_MODEL_49fef7902ed1414ebd4586355c7ab7bf"
            ]
          }
        },
        "ffc152a7891c4907be76b57099bd7837": {
          "model_module": "@jupyter-widgets/base",
          "model_name": "LayoutModel",
          "state": {
            "_view_name": "LayoutView",
            "grid_template_rows": null,
            "right": null,
            "justify_content": null,
            "_view_module": "@jupyter-widgets/base",
            "overflow": null,
            "_model_module_version": "1.2.0",
            "_view_count": null,
            "flex_flow": null,
            "width": null,
            "min_width": null,
            "border": null,
            "align_items": null,
            "bottom": null,
            "_model_module": "@jupyter-widgets/base",
            "top": null,
            "grid_column": null,
            "overflow_y": null,
            "overflow_x": null,
            "grid_auto_flow": null,
            "grid_area": null,
            "grid_template_columns": null,
            "flex": null,
            "_model_name": "LayoutModel",
            "justify_items": null,
            "grid_row": null,
            "max_height": null,
            "align_content": null,
            "visibility": null,
            "align_self": null,
            "height": null,
            "min_height": null,
            "padding": null,
            "grid_auto_rows": null,
            "grid_gap": null,
            "max_width": null,
            "order": null,
            "_view_module_version": "1.2.0",
            "grid_template_areas": null,
            "object_position": null,
            "object_fit": null,
            "grid_auto_columns": null,
            "margin": null,
            "display": null,
            "left": null
          }
        },
        "40b3066e5ded4f36b48f79e3cbad5526": {
          "model_module": "@jupyter-widgets/controls",
          "model_name": "FloatProgressModel",
          "state": {
            "_view_name": "ProgressView",
            "style": "IPY_MODEL_e67461a5317146f2bbb9004f0968901d",
            "_dom_classes": [],
            "description": "Downloading: 100%",
            "_model_name": "FloatProgressModel",
            "bar_style": "success",
            "max": 466062,
            "_view_module": "@jupyter-widgets/controls",
            "_model_module_version": "1.5.0",
            "value": 466062,
            "_view_count": null,
            "_view_module_version": "1.5.0",
            "orientation": "horizontal",
            "min": 0,
            "description_tooltip": null,
            "_model_module": "@jupyter-widgets/controls",
            "layout": "IPY_MODEL_400e98c38aaa41eca066c314cd1408c8"
          }
        },
        "49fef7902ed1414ebd4586355c7ab7bf": {
          "model_module": "@jupyter-widgets/controls",
          "model_name": "HTMLModel",
          "state": {
            "_view_name": "HTMLView",
            "style": "IPY_MODEL_2f0b4bd02b5f4eb4b8d61aeafee90112",
            "_dom_classes": [],
            "description": "",
            "_model_name": "HTMLModel",
            "placeholder": "​",
            "_view_module": "@jupyter-widgets/controls",
            "_model_module_version": "1.5.0",
            "value": " 466k/466k [00:00&lt;00:00, 2.72MB/s]",
            "_view_count": null,
            "_view_module_version": "1.5.0",
            "description_tooltip": null,
            "_model_module": "@jupyter-widgets/controls",
            "layout": "IPY_MODEL_b90ec328953342e5ace4659d51a1f21c"
          }
        },
        "e67461a5317146f2bbb9004f0968901d": {
          "model_module": "@jupyter-widgets/controls",
          "model_name": "ProgressStyleModel",
          "state": {
            "_view_name": "StyleView",
            "_model_name": "ProgressStyleModel",
            "description_width": "initial",
            "_view_module": "@jupyter-widgets/base",
            "_model_module_version": "1.5.0",
            "_view_count": null,
            "_view_module_version": "1.2.0",
            "bar_color": null,
            "_model_module": "@jupyter-widgets/controls"
          }
        },
        "400e98c38aaa41eca066c314cd1408c8": {
          "model_module": "@jupyter-widgets/base",
          "model_name": "LayoutModel",
          "state": {
            "_view_name": "LayoutView",
            "grid_template_rows": null,
            "right": null,
            "justify_content": null,
            "_view_module": "@jupyter-widgets/base",
            "overflow": null,
            "_model_module_version": "1.2.0",
            "_view_count": null,
            "flex_flow": null,
            "width": null,
            "min_width": null,
            "border": null,
            "align_items": null,
            "bottom": null,
            "_model_module": "@jupyter-widgets/base",
            "top": null,
            "grid_column": null,
            "overflow_y": null,
            "overflow_x": null,
            "grid_auto_flow": null,
            "grid_area": null,
            "grid_template_columns": null,
            "flex": null,
            "_model_name": "LayoutModel",
            "justify_items": null,
            "grid_row": null,
            "max_height": null,
            "align_content": null,
            "visibility": null,
            "align_self": null,
            "height": null,
            "min_height": null,
            "padding": null,
            "grid_auto_rows": null,
            "grid_gap": null,
            "max_width": null,
            "order": null,
            "_view_module_version": "1.2.0",
            "grid_template_areas": null,
            "object_position": null,
            "object_fit": null,
            "grid_auto_columns": null,
            "margin": null,
            "display": null,
            "left": null
          }
        },
        "2f0b4bd02b5f4eb4b8d61aeafee90112": {
          "model_module": "@jupyter-widgets/controls",
          "model_name": "DescriptionStyleModel",
          "state": {
            "_view_name": "StyleView",
            "_model_name": "DescriptionStyleModel",
            "description_width": "",
            "_view_module": "@jupyter-widgets/base",
            "_model_module_version": "1.5.0",
            "_view_count": null,
            "_view_module_version": "1.2.0",
            "_model_module": "@jupyter-widgets/controls"
          }
        },
        "b90ec328953342e5ace4659d51a1f21c": {
          "model_module": "@jupyter-widgets/base",
          "model_name": "LayoutModel",
          "state": {
            "_view_name": "LayoutView",
            "grid_template_rows": null,
            "right": null,
            "justify_content": null,
            "_view_module": "@jupyter-widgets/base",
            "overflow": null,
            "_model_module_version": "1.2.0",
            "_view_count": null,
            "flex_flow": null,
            "width": null,
            "min_width": null,
            "border": null,
            "align_items": null,
            "bottom": null,
            "_model_module": "@jupyter-widgets/base",
            "top": null,
            "grid_column": null,
            "overflow_y": null,
            "overflow_x": null,
            "grid_auto_flow": null,
            "grid_area": null,
            "grid_template_columns": null,
            "flex": null,
            "_model_name": "LayoutModel",
            "justify_items": null,
            "grid_row": null,
            "max_height": null,
            "align_content": null,
            "visibility": null,
            "align_self": null,
            "height": null,
            "min_height": null,
            "padding": null,
            "grid_auto_rows": null,
            "grid_gap": null,
            "max_width": null,
            "order": null,
            "_view_module_version": "1.2.0",
            "grid_template_areas": null,
            "object_position": null,
            "object_fit": null,
            "grid_auto_columns": null,
            "margin": null,
            "display": null,
            "left": null
          }
        },
        "77330008efc74409bd929d803430db5d": {
          "model_module": "@jupyter-widgets/controls",
          "model_name": "HBoxModel",
          "state": {
            "_view_name": "HBoxView",
            "_dom_classes": [],
            "_model_name": "HBoxModel",
            "_view_module": "@jupyter-widgets/controls",
            "_model_module_version": "1.5.0",
            "_view_count": null,
            "_view_module_version": "1.5.0",
            "box_style": "",
            "layout": "IPY_MODEL_89a889816100474f8482855e3f84cc56",
            "_model_module": "@jupyter-widgets/controls",
            "children": [
              "IPY_MODEL_d98bd50a92e347099041bb59f3a3b996",
              "IPY_MODEL_00ea314856ff44b0bd77ce8035f374c1"
            ]
          }
        },
        "89a889816100474f8482855e3f84cc56": {
          "model_module": "@jupyter-widgets/base",
          "model_name": "LayoutModel",
          "state": {
            "_view_name": "LayoutView",
            "grid_template_rows": null,
            "right": null,
            "justify_content": null,
            "_view_module": "@jupyter-widgets/base",
            "overflow": null,
            "_model_module_version": "1.2.0",
            "_view_count": null,
            "flex_flow": null,
            "width": null,
            "min_width": null,
            "border": null,
            "align_items": null,
            "bottom": null,
            "_model_module": "@jupyter-widgets/base",
            "top": null,
            "grid_column": null,
            "overflow_y": null,
            "overflow_x": null,
            "grid_auto_flow": null,
            "grid_area": null,
            "grid_template_columns": null,
            "flex": null,
            "_model_name": "LayoutModel",
            "justify_items": null,
            "grid_row": null,
            "max_height": null,
            "align_content": null,
            "visibility": null,
            "align_self": null,
            "height": null,
            "min_height": null,
            "padding": null,
            "grid_auto_rows": null,
            "grid_gap": null,
            "max_width": null,
            "order": null,
            "_view_module_version": "1.2.0",
            "grid_template_areas": null,
            "object_position": null,
            "object_fit": null,
            "grid_auto_columns": null,
            "margin": null,
            "display": null,
            "left": null
          }
        },
        "d98bd50a92e347099041bb59f3a3b996": {
          "model_module": "@jupyter-widgets/controls",
          "model_name": "FloatProgressModel",
          "state": {
            "_view_name": "ProgressView",
            "style": "IPY_MODEL_eafa01fffd2d433c9bf15ef9d03a17c5",
            "_dom_classes": [],
            "description": "Downloading: 100%",
            "_model_name": "FloatProgressModel",
            "bar_style": "success",
            "max": 442,
            "_view_module": "@jupyter-widgets/controls",
            "_model_module_version": "1.5.0",
            "value": 442,
            "_view_count": null,
            "_view_module_version": "1.5.0",
            "orientation": "horizontal",
            "min": 0,
            "description_tooltip": null,
            "_model_module": "@jupyter-widgets/controls",
            "layout": "IPY_MODEL_2776ec5d14b4466ab5faff944f2eafef"
          }
        },
        "00ea314856ff44b0bd77ce8035f374c1": {
          "model_module": "@jupyter-widgets/controls",
          "model_name": "HTMLModel",
          "state": {
            "_view_name": "HTMLView",
            "style": "IPY_MODEL_3eed2c5c95ce40c385942b4469cb3d23",
            "_dom_classes": [],
            "description": "",
            "_model_name": "HTMLModel",
            "placeholder": "​",
            "_view_module": "@jupyter-widgets/controls",
            "_model_module_version": "1.5.0",
            "value": " 442/442 [00:00&lt;00:00, 1.30kB/s]",
            "_view_count": null,
            "_view_module_version": "1.5.0",
            "description_tooltip": null,
            "_model_module": "@jupyter-widgets/controls",
            "layout": "IPY_MODEL_b7a802f3653d414c8637cf5a02cbaff9"
          }
        },
        "eafa01fffd2d433c9bf15ef9d03a17c5": {
          "model_module": "@jupyter-widgets/controls",
          "model_name": "ProgressStyleModel",
          "state": {
            "_view_name": "StyleView",
            "_model_name": "ProgressStyleModel",
            "description_width": "initial",
            "_view_module": "@jupyter-widgets/base",
            "_model_module_version": "1.5.0",
            "_view_count": null,
            "_view_module_version": "1.2.0",
            "bar_color": null,
            "_model_module": "@jupyter-widgets/controls"
          }
        },
        "2776ec5d14b4466ab5faff944f2eafef": {
          "model_module": "@jupyter-widgets/base",
          "model_name": "LayoutModel",
          "state": {
            "_view_name": "LayoutView",
            "grid_template_rows": null,
            "right": null,
            "justify_content": null,
            "_view_module": "@jupyter-widgets/base",
            "overflow": null,
            "_model_module_version": "1.2.0",
            "_view_count": null,
            "flex_flow": null,
            "width": null,
            "min_width": null,
            "border": null,
            "align_items": null,
            "bottom": null,
            "_model_module": "@jupyter-widgets/base",
            "top": null,
            "grid_column": null,
            "overflow_y": null,
            "overflow_x": null,
            "grid_auto_flow": null,
            "grid_area": null,
            "grid_template_columns": null,
            "flex": null,
            "_model_name": "LayoutModel",
            "justify_items": null,
            "grid_row": null,
            "max_height": null,
            "align_content": null,
            "visibility": null,
            "align_self": null,
            "height": null,
            "min_height": null,
            "padding": null,
            "grid_auto_rows": null,
            "grid_gap": null,
            "max_width": null,
            "order": null,
            "_view_module_version": "1.2.0",
            "grid_template_areas": null,
            "object_position": null,
            "object_fit": null,
            "grid_auto_columns": null,
            "margin": null,
            "display": null,
            "left": null
          }
        },
        "3eed2c5c95ce40c385942b4469cb3d23": {
          "model_module": "@jupyter-widgets/controls",
          "model_name": "DescriptionStyleModel",
          "state": {
            "_view_name": "StyleView",
            "_model_name": "DescriptionStyleModel",
            "description_width": "",
            "_view_module": "@jupyter-widgets/base",
            "_model_module_version": "1.5.0",
            "_view_count": null,
            "_view_module_version": "1.2.0",
            "_model_module": "@jupyter-widgets/controls"
          }
        },
        "b7a802f3653d414c8637cf5a02cbaff9": {
          "model_module": "@jupyter-widgets/base",
          "model_name": "LayoutModel",
          "state": {
            "_view_name": "LayoutView",
            "grid_template_rows": null,
            "right": null,
            "justify_content": null,
            "_view_module": "@jupyter-widgets/base",
            "overflow": null,
            "_model_module_version": "1.2.0",
            "_view_count": null,
            "flex_flow": null,
            "width": null,
            "min_width": null,
            "border": null,
            "align_items": null,
            "bottom": null,
            "_model_module": "@jupyter-widgets/base",
            "top": null,
            "grid_column": null,
            "overflow_y": null,
            "overflow_x": null,
            "grid_auto_flow": null,
            "grid_area": null,
            "grid_template_columns": null,
            "flex": null,
            "_model_name": "LayoutModel",
            "justify_items": null,
            "grid_row": null,
            "max_height": null,
            "align_content": null,
            "visibility": null,
            "align_self": null,
            "height": null,
            "min_height": null,
            "padding": null,
            "grid_auto_rows": null,
            "grid_gap": null,
            "max_width": null,
            "order": null,
            "_view_module_version": "1.2.0",
            "grid_template_areas": null,
            "object_position": null,
            "object_fit": null,
            "grid_auto_columns": null,
            "margin": null,
            "display": null,
            "left": null
          }
        },
        "af1171a24a254d2281aee852d5774c6e": {
          "model_module": "@jupyter-widgets/controls",
          "model_name": "HBoxModel",
          "state": {
            "_view_name": "HBoxView",
            "_dom_classes": [],
            "_model_name": "HBoxModel",
            "_view_module": "@jupyter-widgets/controls",
            "_model_module_version": "1.5.0",
            "_view_count": null,
            "_view_module_version": "1.5.0",
            "box_style": "",
            "layout": "IPY_MODEL_88c8bdb0293b4272819cf128cfa68a69",
            "_model_module": "@jupyter-widgets/controls",
            "children": [
              "IPY_MODEL_e344dae553e04dc2abeff5e42c6d5f8a",
              "IPY_MODEL_66f78e4f715f439aaa8e3bca2f6fb159"
            ]
          }
        },
        "88c8bdb0293b4272819cf128cfa68a69": {
          "model_module": "@jupyter-widgets/base",
          "model_name": "LayoutModel",
          "state": {
            "_view_name": "LayoutView",
            "grid_template_rows": null,
            "right": null,
            "justify_content": null,
            "_view_module": "@jupyter-widgets/base",
            "overflow": null,
            "_model_module_version": "1.2.0",
            "_view_count": null,
            "flex_flow": null,
            "width": null,
            "min_width": null,
            "border": null,
            "align_items": null,
            "bottom": null,
            "_model_module": "@jupyter-widgets/base",
            "top": null,
            "grid_column": null,
            "overflow_y": null,
            "overflow_x": null,
            "grid_auto_flow": null,
            "grid_area": null,
            "grid_template_columns": null,
            "flex": null,
            "_model_name": "LayoutModel",
            "justify_items": null,
            "grid_row": null,
            "max_height": null,
            "align_content": null,
            "visibility": null,
            "align_self": null,
            "height": null,
            "min_height": null,
            "padding": null,
            "grid_auto_rows": null,
            "grid_gap": null,
            "max_width": null,
            "order": null,
            "_view_module_version": "1.2.0",
            "grid_template_areas": null,
            "object_position": null,
            "object_fit": null,
            "grid_auto_columns": null,
            "margin": null,
            "display": null,
            "left": null
          }
        },
        "e344dae553e04dc2abeff5e42c6d5f8a": {
          "model_module": "@jupyter-widgets/controls",
          "model_name": "FloatProgressModel",
          "state": {
            "_view_name": "ProgressView",
            "style": "IPY_MODEL_d92113175f72452f8b9adf0576e95305",
            "_dom_classes": [],
            "description": "Downloading: 100%",
            "_model_name": "FloatProgressModel",
            "bar_style": "success",
            "max": 267967963,
            "_view_module": "@jupyter-widgets/controls",
            "_model_module_version": "1.5.0",
            "value": 267967963,
            "_view_count": null,
            "_view_module_version": "1.5.0",
            "orientation": "horizontal",
            "min": 0,
            "description_tooltip": null,
            "_model_module": "@jupyter-widgets/controls",
            "layout": "IPY_MODEL_3154c5e265bb4f0590a721f1fae9548e"
          }
        },
        "66f78e4f715f439aaa8e3bca2f6fb159": {
          "model_module": "@jupyter-widgets/controls",
          "model_name": "HTMLModel",
          "state": {
            "_view_name": "HTMLView",
            "style": "IPY_MODEL_d5df45ceb3234d56ac5a5f5a7f5be45c",
            "_dom_classes": [],
            "description": "",
            "_model_name": "HTMLModel",
            "placeholder": "​",
            "_view_module": "@jupyter-widgets/controls",
            "_model_module_version": "1.5.0",
            "value": " 268M/268M [00:05&lt;00:00, 48.8MB/s]",
            "_view_count": null,
            "_view_module_version": "1.5.0",
            "description_tooltip": null,
            "_model_module": "@jupyter-widgets/controls",
            "layout": "IPY_MODEL_b21c20768de74f95ba98659ff36e4d4f"
          }
        },
        "d92113175f72452f8b9adf0576e95305": {
          "model_module": "@jupyter-widgets/controls",
          "model_name": "ProgressStyleModel",
          "state": {
            "_view_name": "StyleView",
            "_model_name": "ProgressStyleModel",
            "description_width": "initial",
            "_view_module": "@jupyter-widgets/base",
            "_model_module_version": "1.5.0",
            "_view_count": null,
            "_view_module_version": "1.2.0",
            "bar_color": null,
            "_model_module": "@jupyter-widgets/controls"
          }
        },
        "3154c5e265bb4f0590a721f1fae9548e": {
          "model_module": "@jupyter-widgets/base",
          "model_name": "LayoutModel",
          "state": {
            "_view_name": "LayoutView",
            "grid_template_rows": null,
            "right": null,
            "justify_content": null,
            "_view_module": "@jupyter-widgets/base",
            "overflow": null,
            "_model_module_version": "1.2.0",
            "_view_count": null,
            "flex_flow": null,
            "width": null,
            "min_width": null,
            "border": null,
            "align_items": null,
            "bottom": null,
            "_model_module": "@jupyter-widgets/base",
            "top": null,
            "grid_column": null,
            "overflow_y": null,
            "overflow_x": null,
            "grid_auto_flow": null,
            "grid_area": null,
            "grid_template_columns": null,
            "flex": null,
            "_model_name": "LayoutModel",
            "justify_items": null,
            "grid_row": null,
            "max_height": null,
            "align_content": null,
            "visibility": null,
            "align_self": null,
            "height": null,
            "min_height": null,
            "padding": null,
            "grid_auto_rows": null,
            "grid_gap": null,
            "max_width": null,
            "order": null,
            "_view_module_version": "1.2.0",
            "grid_template_areas": null,
            "object_position": null,
            "object_fit": null,
            "grid_auto_columns": null,
            "margin": null,
            "display": null,
            "left": null
          }
        },
        "d5df45ceb3234d56ac5a5f5a7f5be45c": {
          "model_module": "@jupyter-widgets/controls",
          "model_name": "DescriptionStyleModel",
          "state": {
            "_view_name": "StyleView",
            "_model_name": "DescriptionStyleModel",
            "description_width": "",
            "_view_module": "@jupyter-widgets/base",
            "_model_module_version": "1.5.0",
            "_view_count": null,
            "_view_module_version": "1.2.0",
            "_model_module": "@jupyter-widgets/controls"
          }
        },
        "b21c20768de74f95ba98659ff36e4d4f": {
          "model_module": "@jupyter-widgets/base",
          "model_name": "LayoutModel",
          "state": {
            "_view_name": "LayoutView",
            "grid_template_rows": null,
            "right": null,
            "justify_content": null,
            "_view_module": "@jupyter-widgets/base",
            "overflow": null,
            "_model_module_version": "1.2.0",
            "_view_count": null,
            "flex_flow": null,
            "width": null,
            "min_width": null,
            "border": null,
            "align_items": null,
            "bottom": null,
            "_model_module": "@jupyter-widgets/base",
            "top": null,
            "grid_column": null,
            "overflow_y": null,
            "overflow_x": null,
            "grid_auto_flow": null,
            "grid_area": null,
            "grid_template_columns": null,
            "flex": null,
            "_model_name": "LayoutModel",
            "justify_items": null,
            "grid_row": null,
            "max_height": null,
            "align_content": null,
            "visibility": null,
            "align_self": null,
            "height": null,
            "min_height": null,
            "padding": null,
            "grid_auto_rows": null,
            "grid_gap": null,
            "max_width": null,
            "order": null,
            "_view_module_version": "1.2.0",
            "grid_template_areas": null,
            "object_position": null,
            "object_fit": null,
            "grid_auto_columns": null,
            "margin": null,
            "display": null,
            "left": null
          }
        }
      }
    }
  },
  "cells": [
    {
      "cell_type": "markdown",
      "metadata": {
        "id": "v8jQ3A91-lbB"
      },
      "source": [
        "# Install, load the libraries"
      ]
    },
    {
      "cell_type": "code",
      "metadata": {
        "colab": {
          "base_uri": "https://localhost:8080/"
        },
        "id": "utf5exMpHpxo",
        "outputId": "e9662158-ae41-40e5-8430-828db38ad772"
      },
      "source": [
        "!pip install transformers"
      ],
      "execution_count": null,
      "outputs": [
        {
          "output_type": "stream",
          "text": [
            "Collecting transformers\n",
            "\u001b[?25l  Downloading https://files.pythonhosted.org/packages/d5/43/cfe4ee779bbd6a678ac6a97c5a5cdeb03c35f9eaebbb9720b036680f9a2d/transformers-4.6.1-py3-none-any.whl (2.2MB)\n",
            "\u001b[K     |████████████████████████████████| 2.3MB 7.2MB/s \n",
            "\u001b[?25hCollecting tokenizers<0.11,>=0.10.1\n",
            "\u001b[?25l  Downloading https://files.pythonhosted.org/packages/d4/e2/df3543e8ffdab68f5acc73f613de9c2b155ac47f162e725dcac87c521c11/tokenizers-0.10.3-cp37-cp37m-manylinux_2_5_x86_64.manylinux1_x86_64.manylinux_2_12_x86_64.manylinux2010_x86_64.whl (3.3MB)\n",
            "\u001b[K     |████████████████████████████████| 3.3MB 51.9MB/s \n",
            "\u001b[?25hRequirement already satisfied: numpy>=1.17 in /usr/local/lib/python3.7/dist-packages (from transformers) (1.19.5)\n",
            "Requirement already satisfied: regex!=2019.12.17 in /usr/local/lib/python3.7/dist-packages (from transformers) (2019.12.20)\n",
            "Collecting huggingface-hub==0.0.8\n",
            "  Downloading https://files.pythonhosted.org/packages/a1/88/7b1e45720ecf59c6c6737ff332f41c955963090a18e72acbcbeac6b25e86/huggingface_hub-0.0.8-py3-none-any.whl\n",
            "Requirement already satisfied: tqdm>=4.27 in /usr/local/lib/python3.7/dist-packages (from transformers) (4.41.1)\n",
            "Requirement already satisfied: importlib-metadata; python_version < \"3.8\" in /usr/local/lib/python3.7/dist-packages (from transformers) (4.0.1)\n",
            "Requirement already satisfied: packaging in /usr/local/lib/python3.7/dist-packages (from transformers) (20.9)\n",
            "Collecting sacremoses\n",
            "\u001b[?25l  Downloading https://files.pythonhosted.org/packages/75/ee/67241dc87f266093c533a2d4d3d69438e57d7a90abb216fa076e7d475d4a/sacremoses-0.0.45-py3-none-any.whl (895kB)\n",
            "\u001b[K     |████████████████████████████████| 901kB 53.5MB/s \n",
            "\u001b[?25hRequirement already satisfied: filelock in /usr/local/lib/python3.7/dist-packages (from transformers) (3.0.12)\n",
            "Requirement already satisfied: requests in /usr/local/lib/python3.7/dist-packages (from transformers) (2.23.0)\n",
            "Requirement already satisfied: zipp>=0.5 in /usr/local/lib/python3.7/dist-packages (from importlib-metadata; python_version < \"3.8\"->transformers) (3.4.1)\n",
            "Requirement already satisfied: typing-extensions>=3.6.4; python_version < \"3.8\" in /usr/local/lib/python3.7/dist-packages (from importlib-metadata; python_version < \"3.8\"->transformers) (3.7.4.3)\n",
            "Requirement already satisfied: pyparsing>=2.0.2 in /usr/local/lib/python3.7/dist-packages (from packaging->transformers) (2.4.7)\n",
            "Requirement already satisfied: joblib in /usr/local/lib/python3.7/dist-packages (from sacremoses->transformers) (1.0.1)\n",
            "Requirement already satisfied: six in /usr/local/lib/python3.7/dist-packages (from sacremoses->transformers) (1.15.0)\n",
            "Requirement already satisfied: click in /usr/local/lib/python3.7/dist-packages (from sacremoses->transformers) (7.1.2)\n",
            "Requirement already satisfied: certifi>=2017.4.17 in /usr/local/lib/python3.7/dist-packages (from requests->transformers) (2020.12.5)\n",
            "Requirement already satisfied: chardet<4,>=3.0.2 in /usr/local/lib/python3.7/dist-packages (from requests->transformers) (3.0.4)\n",
            "Requirement already satisfied: urllib3!=1.25.0,!=1.25.1,<1.26,>=1.21.1 in /usr/local/lib/python3.7/dist-packages (from requests->transformers) (1.24.3)\n",
            "Requirement already satisfied: idna<3,>=2.5 in /usr/local/lib/python3.7/dist-packages (from requests->transformers) (2.10)\n",
            "Installing collected packages: tokenizers, huggingface-hub, sacremoses, transformers\n",
            "Successfully installed huggingface-hub-0.0.8 sacremoses-0.0.45 tokenizers-0.10.3 transformers-4.6.1\n"
          ],
          "name": "stdout"
        }
      ]
    },
    {
      "cell_type": "code",
      "metadata": {
        "id": "qq7NKPXT-par"
      },
      "source": [
        "import numpy as np\n",
        "import pandas as pd\n",
        "import torch\n",
        "import transformers as ppb # pytorch transformers\n",
        "from sklearn.linear_model import LogisticRegression\n",
        "from sklearn.model_selection import cross_val_score\n",
        "from sklearn.model_selection import train_test_split"
      ],
      "execution_count": null,
      "outputs": []
    },
    {
      "cell_type": "markdown",
      "metadata": {
        "id": "YBDMOw2k-EdP"
      },
      "source": [
        "# Load, merge, clean the data"
      ]
    },
    {
      "cell_type": "code",
      "metadata": {
        "id": "0wPu5e4X70LG"
      },
      "source": [
        "# load the csv files\n",
        "stock_des = pd.read_csv('stock_des.csv')\n",
        "ta = pd.read_csv('ta.csv')\n",
        "rev = pd.read_csv('rev.csv')"
      ],
      "execution_count": null,
      "outputs": []
    },
    {
      "cell_type": "code",
      "metadata": {
        "id": "hJsJiL0H_aXb"
      },
      "source": [
        "# clean up the column names \n",
        "ta.rename(columns={'Unnamed: 0': 'ticker'}, inplace=True)\n",
        "rev.rename(columns={'Unnamed: 0': 'ticker'}, inplace=True)"
      ],
      "execution_count": null,
      "outputs": []
    },
    {
      "cell_type": "code",
      "metadata": {
        "id": "e5tv6NbXA1aD"
      },
      "source": [
        "# merge the dataframes into one\n",
        "df = pd.merge(ta, rev, on='ticker')\n",
        "df = pd.merge(df, stock_des, on='ticker')"
      ],
      "execution_count": null,
      "outputs": []
    },
    {
      "cell_type": "code",
      "metadata": {
        "colab": {
          "base_uri": "https://localhost:8080/"
        },
        "id": "QhEufJnNBJ1j",
        "outputId": "87d5e65a-529c-4684-962d-bbc570bee5c0"
      },
      "source": [
        "# remove the observations with ta and rev less than 10000 \n",
        "print(df.shape)\n",
        "df = df[(df['Total Assets'] >= 10000) & (df['Total Revenue'] >= 10000)]\n",
        "print(df.shape)"
      ],
      "execution_count": null,
      "outputs": [
        {
          "output_type": "stream",
          "text": [
            "(2830, 4)\n",
            "(2719, 4)\n"
          ],
          "name": "stdout"
        }
      ]
    },
    {
      "cell_type": "code",
      "metadata": {
        "colab": {
          "base_uri": "https://localhost:8080/",
          "height": 419
        },
        "id": "EZo4KwCLBmm4",
        "outputId": "e411eec2-f998-436f-b586-b497e6728524"
      },
      "source": [
        "# create the assets to revenue ratio \n",
        "df['ar_ratio'] = df['Total Assets']/df['Total Revenue']\n",
        "print(df['ar_ratio'].describe())\n",
        "df.boxplot(column='ar_ratio');"
      ],
      "execution_count": null,
      "outputs": [
        {
          "output_type": "stream",
          "text": [
            "count     2719.000000\n",
            "mean        22.795845\n",
            "std        386.905317\n",
            "min          0.134677\n",
            "25%          1.242993\n",
            "50%          2.239040\n",
            "75%          7.051726\n",
            "max      18819.875000\n",
            "Name: ar_ratio, dtype: float64\n"
          ],
          "name": "stdout"
        },
        {
          "output_type": "display_data",
          "data": {
            "image/png": "[encoded data removed]",
            "text/plain": [
              "<Figure size 432x288 with 1 Axes>"
            ]
          },
          "metadata": {
            "tags": [],
            "needs_background": "light"
          }
        }
      ]
    },
    {
      "cell_type": "markdown",
      "metadata": {
        "id": "8FRymKdBGwp0"
      },
      "source": [
        "We have 6 outliers with the ratio of 1000+. Let's remove them. "
      ]
    },
    {
      "cell_type": "code",
      "metadata": {
        "colab": {
          "base_uri": "https://localhost:8080/"
        },
        "id": "p37rgo5RG4EJ",
        "outputId": "e089eece-41a0-4f01-bef3-f4bf4109f1f0"
      },
      "source": [
        "df = df[df['ar_ratio']<1000]\n",
        "print(df.shape)"
      ],
      "execution_count": null,
      "outputs": [
        {
          "output_type": "stream",
          "text": [
            "(2713, 5)\n"
          ],
          "name": "stdout"
        }
      ]
    },
    {
      "cell_type": "markdown",
      "metadata": {
        "id": "ZZNjPX04Tcvh"
      },
      "source": [
        "Due to Colab's RAM limitations, limit the description size. We allow 350 characters, which is approximately 50 words and 3+ sentences. In case if you still face RAM issues try terminating other Colab notebooks (Runtime > Manage sessions) or reducing the characters to 300. "
      ]
    },
    {
      "cell_type": "code",
      "metadata": {
        "id": "HxLj5nuvJ-O1"
      },
      "source": [
        "df['description'] = df['description'].str.slice(0,350)"
      ],
      "execution_count": null,
      "outputs": []
    },
    {
      "cell_type": "markdown",
      "metadata": {
        "id": "cyQA5avIJbw9"
      },
      "source": [
        "Create a binary variable that is 1 if the assets to revenue ratio is above its median and 0 otherwise. \n",
        "\n",
        "This is the **dependent variable** (label) that we'll try to predict. "
      ]
    },
    {
      "cell_type": "code",
      "metadata": {
        "id": "Hry4H3FfI4Cl"
      },
      "source": [
        "df['HIGH_ARR'] = (df['ar_ratio'].gt(df['ar_ratio'].median())).astype(int)"
      ],
      "execution_count": null,
      "outputs": []
    },
    {
      "cell_type": "code",
      "metadata": {
        "colab": {
          "base_uri": "https://localhost:8080/",
          "height": 204
        },
        "id": "hHsV9zXnJRVy",
        "outputId": "d67769e5-0a68-42d6-fcdb-02d60a607f7e"
      },
      "source": [
        "df.sample(5)"
      ],
      "execution_count": null,
      "outputs": [
        {
          "output_type": "execute_result",
          "data": {
            "text/html": [
              "<div>\n",
              "<style scoped>\n",
              "    .dataframe tbody tr th:only-of-type {\n",
              "        vertical-align: middle;\n",
              "    }\n",
              "\n",
              "    .dataframe tbody tr th {\n",
              "        vertical-align: top;\n",
              "    }\n",
              "\n",
              "    .dataframe thead th {\n",
              "        text-align: right;\n",
              "    }\n",
              "</style>\n",
              "<table border=\"1\" class=\"dataframe\">\n",
              "  <thead>\n",
              "    <tr style=\"text-align: right;\">\n",
              "      <th></th>\n",
              "      <th>ticker</th>\n",
              "      <th>Total Assets</th>\n",
              "      <th>Total Revenue</th>\n",
              "      <th>description</th>\n",
              "      <th>ar_ratio</th>\n",
              "      <th>HIGH_ARR</th>\n",
              "    </tr>\n",
              "  </thead>\n",
              "  <tbody>\n",
              "    <tr>\n",
              "      <th>1295</th>\n",
              "      <td>IIPR</td>\n",
              "      <td>1.768081e+09</td>\n",
              "      <td>1.168960e+08</td>\n",
              "      <td>Innovative Industrial Properties, Inc. is a se...</td>\n",
              "      <td>15.125248</td>\n",
              "      <td>1</td>\n",
              "    </tr>\n",
              "    <tr>\n",
              "      <th>1098</th>\n",
              "      <td>GLW</td>\n",
              "      <td>3.077500e+10</td>\n",
              "      <td>1.130300e+10</td>\n",
              "      <td>Corning Incorporated engages in display techno...</td>\n",
              "      <td>2.722728</td>\n",
              "      <td>1</td>\n",
              "    </tr>\n",
              "    <tr>\n",
              "      <th>27</th>\n",
              "      <td>ACCO</td>\n",
              "      <td>3.048700e+09</td>\n",
              "      <td>1.655200e+09</td>\n",
              "      <td>ACCO Brands Corporation designs, manufactures,...</td>\n",
              "      <td>1.841892</td>\n",
              "      <td>0</td>\n",
              "    </tr>\n",
              "    <tr>\n",
              "      <th>457</th>\n",
              "      <td>CASY</td>\n",
              "      <td>3.943892e+09</td>\n",
              "      <td>8.112296e+09</td>\n",
              "      <td>Casey's General Stores, Inc., together with it...</td>\n",
              "      <td>0.486162</td>\n",
              "      <td>0</td>\n",
              "    </tr>\n",
              "    <tr>\n",
              "      <th>1321</th>\n",
              "      <td>INSP</td>\n",
              "      <td>2.811890e+08</td>\n",
              "      <td>1.153810e+08</td>\n",
              "      <td>Inspire Medical Systems, Inc., a medical techn...</td>\n",
              "      <td>2.437048</td>\n",
              "      <td>1</td>\n",
              "    </tr>\n",
              "  </tbody>\n",
              "</table>\n",
              "</div>"
            ],
            "text/plain": [
              "     ticker  Total Assets  ...   ar_ratio HIGH_ARR\n",
              "1295   IIPR  1.768081e+09  ...  15.125248        1\n",
              "1098    GLW  3.077500e+10  ...   2.722728        1\n",
              "27     ACCO  3.048700e+09  ...   1.841892        0\n",
              "457    CASY  3.943892e+09  ...   0.486162        0\n",
              "1321   INSP  2.811890e+08  ...   2.437048        1\n",
              "\n",
              "[5 rows x 6 columns]"
            ]
          },
          "metadata": {
            "tags": []
          },
          "execution_count": 14
        }
      ]
    },
    {
      "cell_type": "markdown",
      "metadata": {
        "id": "2xiIIro9Hd4Z"
      },
      "source": [
        "# Preparing the predictor and DistilBERT model"
      ]
    },
    {
      "cell_type": "markdown",
      "metadata": {
        "id": "45gG8_wRH26d"
      },
      "source": [
        "**Note**. Please enable GPU in Edit > Notebook settings > Hardware accelerator. "
      ]
    },
    {
      "cell_type": "markdown",
      "metadata": {
        "id": "F6L57WrVUdaH"
      },
      "source": [
        "Load a pre-trained BERT model."
      ]
    },
    {
      "cell_type": "code",
      "metadata": {
        "colab": {
          "base_uri": "https://localhost:8080/",
          "height": 333,
          "referenced_widgets": [
            "3393011783b045eeae3dffb4c80b8efd",
            "b1236841753c43ed8bb30ff87f8fd49f",
            "e594c75e66a545e7abd1fb02dd893467",
            "e3e18db2e8434853b4920c1628dfb31b",
            "5fd6160053f148e4b2e01b4cce158e32",
            "977348b92ee644e3b382b664b407a0ab",
            "bdcb1c9a90a246cf80c87fe3ac03b021",
            "777cdd220c3f45328da541b658e8e740",
            "fb3d803744ce4f0cb0e88b9cf43b5249",
            "354ab8570d6e4cf0ad05f77890efb0f5",
            "22d6ac6ad48f4d1fabbbcba50f2a49a6",
            "b0cdba43d4d3488f9e85baaa88dc21fe",
            "685d12f6e20e4118a5fbcc2488a41157",
            "9df9779659b6489099c3d236277dd7c0",
            "df18639f6fb24392b4d78387d57399bd",
            "f6fd635e4acc42febb0ff8815eb35887",
            "3eb9a63ea5b240e1ab6cb47774aa7ff5",
            "ffc152a7891c4907be76b57099bd7837",
            "40b3066e5ded4f36b48f79e3cbad5526",
            "49fef7902ed1414ebd4586355c7ab7bf",
            "e67461a5317146f2bbb9004f0968901d",
            "400e98c38aaa41eca066c314cd1408c8",
            "2f0b4bd02b5f4eb4b8d61aeafee90112",
            "b90ec328953342e5ace4659d51a1f21c",
            "77330008efc74409bd929d803430db5d",
            "89a889816100474f8482855e3f84cc56",
            "d98bd50a92e347099041bb59f3a3b996",
            "00ea314856ff44b0bd77ce8035f374c1",
            "eafa01fffd2d433c9bf15ef9d03a17c5",
            "2776ec5d14b4466ab5faff944f2eafef",
            "3eed2c5c95ce40c385942b4469cb3d23",
            "b7a802f3653d414c8637cf5a02cbaff9",
            "af1171a24a254d2281aee852d5774c6e",
            "88c8bdb0293b4272819cf128cfa68a69",
            "e344dae553e04dc2abeff5e42c6d5f8a",
            "66f78e4f715f439aaa8e3bca2f6fb159",
            "d92113175f72452f8b9adf0576e95305",
            "3154c5e265bb4f0590a721f1fae9548e",
            "d5df45ceb3234d56ac5a5f5a7f5be45c",
            "b21c20768de74f95ba98659ff36e4d4f"
          ]
        },
        "id": "K6nQvGTBHYnI",
        "outputId": "f27d8bd1-bbf3-49d4-c462-ebd7fc947b4e"
      },
      "source": [
        "model_class, tokenizer_class, pretrained_weights = (ppb.DistilBertModel, ppb.DistilBertTokenizer, 'distilbert-base-uncased')\n",
        "\n",
        "# Load pretrained model/tokenizer\n",
        "tokenizer = tokenizer_class.from_pretrained(pretrained_weights)\n",
        "model = model_class.from_pretrained(pretrained_weights)"
      ],
      "execution_count": null,
      "outputs": [
        {
          "output_type": "display_data",
          "data": {
            "application/vnd.jupyter.widget-view+json": {
              "model_id": "3393011783b045eeae3dffb4c80b8efd",
              "version_minor": 0,
              "version_major": 2
            },
            "text/plain": [
              "HBox(children=(FloatProgress(value=0.0, description='Downloading', max=231508.0, style=ProgressStyle(descripti…"
            ]
          },
          "metadata": {
            "tags": []
          }
        },
        {
          "output_type": "stream",
          "text": [
            "\n"
          ],
          "name": "stdout"
        },
        {
          "output_type": "display_data",
          "data": {
            "application/vnd.jupyter.widget-view+json": {
              "model_id": "fb3d803744ce4f0cb0e88b9cf43b5249",
              "version_minor": 0,
              "version_major": 2
            },
            "text/plain": [
              "HBox(children=(FloatProgress(value=0.0, description='Downloading', max=28.0, style=ProgressStyle(description_w…"
            ]
          },
          "metadata": {
            "tags": []
          }
        },
        {
          "output_type": "stream",
          "text": [
            "\n"
          ],
          "name": "stdout"
        },
        {
          "output_type": "display_data",
          "data": {
            "application/vnd.jupyter.widget-view+json": {
              "model_id": "3eb9a63ea5b240e1ab6cb47774aa7ff5",
              "version_minor": 0,
              "version_major": 2
            },
            "text/plain": [
              "HBox(children=(FloatProgress(value=0.0, description='Downloading', max=466062.0, style=ProgressStyle(descripti…"
            ]
          },
          "metadata": {
            "tags": []
          }
        },
        {
          "output_type": "stream",
          "text": [
            "\n"
          ],
          "name": "stdout"
        },
        {
          "output_type": "display_data",
          "data": {
            "application/vnd.jupyter.widget-view+json": {
              "model_id": "77330008efc74409bd929d803430db5d",
              "version_minor": 0,
              "version_major": 2
            },
            "text/plain": [
              "HBox(children=(FloatProgress(value=0.0, description='Downloading', max=442.0, style=ProgressStyle(description_…"
            ]
          },
          "metadata": {
            "tags": []
          }
        },
        {
          "output_type": "stream",
          "text": [
            "\n"
          ],
          "name": "stdout"
        },
        {
          "output_type": "display_data",
          "data": {
            "application/vnd.jupyter.widget-view+json": {
              "model_id": "af1171a24a254d2281aee852d5774c6e",
              "version_minor": 0,
              "version_major": 2
            },
            "text/plain": [
              "HBox(children=(FloatProgress(value=0.0, description='Downloading', max=267967963.0, style=ProgressStyle(descri…"
            ]
          },
          "metadata": {
            "tags": []
          }
        },
        {
          "output_type": "stream",
          "text": [
            "\n"
          ],
          "name": "stdout"
        },
        {
          "output_type": "stream",
          "text": [
            "Some weights of the model checkpoint at distilbert-base-uncased were not used when initializing DistilBertModel: ['vocab_transform.bias', 'vocab_layer_norm.weight', 'vocab_layer_norm.bias', 'vocab_projector.weight', 'vocab_transform.weight', 'vocab_projector.bias']\n",
            "- This IS expected if you are initializing DistilBertModel from the checkpoint of a model trained on another task or with another architecture (e.g. initializing a BertForSequenceClassification model from a BertForPreTraining model).\n",
            "- This IS NOT expected if you are initializing DistilBertModel from the checkpoint of a model that you expect to be exactly identical (initializing a BertForSequenceClassification model from a BertForSequenceClassification model).\n"
          ],
          "name": "stderr"
        }
      ]
    },
    {
      "cell_type": "markdown",
      "metadata": {
        "id": "WH42D3srUplB"
      },
      "source": [
        "Tokenize the textual data for DistilBERT. "
      ]
    },
    {
      "cell_type": "code",
      "metadata": {
        "id": "_MViVEVpHgc5"
      },
      "source": [
        "tokenized = df['description'].apply((lambda x: tokenizer.encode(x, add_special_tokens=True)))"
      ],
      "execution_count": null,
      "outputs": []
    },
    {
      "cell_type": "markdown",
      "metadata": {
        "id": "cpgaGZtHU5k5"
      },
      "source": [
        "Pad all lists of tokenized values to the same size. "
      ]
    },
    {
      "cell_type": "code",
      "metadata": {
        "id": "vRHi95SzIUBI"
      },
      "source": [
        "max_len = 0\n",
        "for i in tokenized.values:\n",
        "    if len(i) > max_len:\n",
        "        max_len = len(i)\n",
        "\n",
        "padded = np.array([i + [0]*(max_len-len(i)) for i in tokenized.values])"
      ],
      "execution_count": null,
      "outputs": []
    },
    {
      "cell_type": "code",
      "metadata": {
        "colab": {
          "base_uri": "https://localhost:8080/"
        },
        "id": "hoKj2ZEcIVEV",
        "outputId": "7119ca80-5613-4d9f-944d-7c5c06f7aa0d"
      },
      "source": [
        "np.array(padded).shape"
      ],
      "execution_count": null,
      "outputs": [
        {
          "output_type": "execute_result",
          "data": {
            "text/plain": [
              "(2713, 109)"
            ]
          },
          "metadata": {
            "tags": []
          },
          "execution_count": 18
        }
      ]
    },
    {
      "cell_type": "markdown",
      "metadata": {
        "id": "wB4v0BX5VmHH"
      },
      "source": [
        "Create attention mask variable for BERT to ignore (mask) the padding when it's processing its input."
      ]
    },
    {
      "cell_type": "code",
      "metadata": {
        "colab": {
          "base_uri": "https://localhost:8080/"
        },
        "id": "FN-YEkmAIX7M",
        "outputId": "0fbc40c9-306e-404b-a348-5fed3737ed67"
      },
      "source": [
        "attention_mask = np.where(padded != 0, 1, 0)\n",
        "attention_mask.shape"
      ],
      "execution_count": null,
      "outputs": [
        {
          "output_type": "execute_result",
          "data": {
            "text/plain": [
              "(2713, 109)"
            ]
          },
          "metadata": {
            "tags": []
          },
          "execution_count": 19
        }
      ]
    },
    {
      "cell_type": "markdown",
      "metadata": {
        "id": "foOCjD32Wv-o"
      },
      "source": [
        "# DistilBERT model"
      ]
    },
    {
      "cell_type": "markdown",
      "metadata": {
        "id": "FcwKErnPXdJW"
      },
      "source": [
        "We run the pretrained DistilBERT model on the prepared predictor and keep the result in `last_hidden_states` variable. "
      ]
    },
    {
      "cell_type": "code",
      "metadata": {
        "id": "E7q78fWpIZmE"
      },
      "source": [
        "input_ids = torch.tensor(padded)  \n",
        "attention_mask = torch.tensor(attention_mask)\n",
        "\n",
        "with torch.no_grad():\n",
        "    last_hidden_states = model(input_ids, attention_mask=attention_mask)"
      ],
      "execution_count": null,
      "outputs": []
    },
    {
      "cell_type": "markdown",
      "metadata": {
        "id": "Th0yBidYIcLn"
      },
      "source": [
        "# Logistic regression model \n",
        "\n"
      ]
    },
    {
      "cell_type": "markdown",
      "metadata": {
        "id": "VpUl1blQZhE2"
      },
      "source": [
        "Keep the first layer of the hidden states and assign the outcome variable to `labels`. "
      ]
    },
    {
      "cell_type": "code",
      "metadata": {
        "id": "TS8Qq-t5IhX2"
      },
      "source": [
        "features = last_hidden_states[0][:,0,:].numpy()\n",
        "labels = df['HIGH_ARR']"
      ],
      "execution_count": null,
      "outputs": []
    },
    {
      "cell_type": "markdown",
      "metadata": {
        "id": "UmpGJg0OZyom"
      },
      "source": [
        "Split the data in train and test subsets, train the Logistic Regression on train set and evaluate its accuracy on the test set. "
      ]
    },
    {
      "cell_type": "code",
      "metadata": {
        "colab": {
          "base_uri": "https://localhost:8080/"
        },
        "id": "T9M0Vj41Im1o",
        "outputId": "adab8be0-87d8-466a-cc33-64f74eec8d0c"
      },
      "source": [
        "train_features, test_features, train_labels, test_labels = train_test_split(features, labels)\n",
        "lr_clf = LogisticRegression(max_iter=5000)\n",
        "lr_clf.fit(train_features, train_labels)\n",
        "print(lr_clf.score(test_features, test_labels))"
      ],
      "execution_count": null,
      "outputs": [
        {
          "output_type": "stream",
          "text": [
            "0.8114874815905744\n"
          ],
          "name": "stdout"
        }
      ]
    },
    {
      "cell_type": "markdown",
      "metadata": {
        "id": "Lmdk9NS4Z_1e"
      },
      "source": [
        "Check if this approach works better than a random guess (0.8 > 0.5). "
      ]
    },
    {
      "cell_type": "code",
      "metadata": {
        "colab": {
          "base_uri": "https://localhost:8080/"
        },
        "id": "TxD6rghdKein",
        "outputId": "cc448249-cc2f-487b-b4b9-5c2069a4ebc8"
      },
      "source": [
        "from sklearn.dummy import DummyClassifier\n",
        "clf = DummyClassifier()\n",
        "\n",
        "scores = cross_val_score(clf, train_features, train_labels)\n",
        "print(\"Dummy classifier score: %0.3f (+/- %0.2f)\" % (scores.mean(), scores.std() * 2))"
      ],
      "execution_count": null,
      "outputs": [
        {
          "output_type": "stream",
          "text": [
            "Dummy classifier score: 0.507 (+/- 0.04)\n"
          ],
          "name": "stdout"
        },
        {
          "output_type": "stream",
          "text": [
            "/usr/local/lib/python3.7/dist-packages/sklearn/dummy.py:132: FutureWarning: The default value of strategy will change from stratified to prior in 0.24.\n",
            "  \"stratified to prior in 0.24.\", FutureWarning)\n"
          ],
          "name": "stderr"
        }
      ]
    },
    {
      "cell_type": "markdown",
      "metadata": {
        "id": "-1V0x_Ydc96U"
      },
      "source": [
        "The accuracy of a random guess is 0.5, which is much less than our model accuracy."
      ]
    },
    {
      "cell_type": "markdown",
      "metadata": {
        "id": "EV3foHM-_180"
      },
      "source": [
        "##Confusion Matrix"
      ]
    },
    {
      "cell_type": "code",
      "metadata": {
        "colab": {
          "base_uri": "https://localhost:8080/",
          "height": 339
        },
        "id": "IzkCHJoQ-vfj",
        "outputId": "930dc679-f75d-452d-f638-12e115248540"
      },
      "source": [
        "from sklearn import metrics\n",
        "y_pred = lr_clf.predict(test_features)\n",
        "cm = metrics.confusion_matrix(test_labels, y_pred)\n",
        "\n",
        "import matplotlib.pyplot as plt\n",
        "import seaborn as sns\n",
        "class_names=[0,1] # name  of classes\n",
        "fig, ax = plt.subplots()\n",
        "tick_marks = np.arange(len(class_names))\n",
        "plt.xticks(tick_marks, class_names)\n",
        "plt.yticks(tick_marks, class_names)\n",
        "\n",
        "sns.heatmap(pd.DataFrame(cm), annot=True, cmap=\"YlGnBu\" ,fmt='g')\n",
        "ax.xaxis.set_label_position(\"top\")\n",
        "plt.tight_layout()\n",
        "plt.title('Confusion matrix', y=1.1)\n",
        "plt.ylabel('Actual label')\n",
        "plt.xlabel('Predicted label')"
      ],
      "execution_count": null,
      "outputs": [
        {
          "output_type": "execute_result",
          "data": {
            "text/plain": [
              "Text(0.5, 257.44, 'Predicted label')"
            ]
          },
          "metadata": {
            "tags": []
          },
          "execution_count": 24
        },
        {
          "output_type": "display_data",
          "data": {
            "image/png": "[encoded data removed]",
            "text/plain": [
              "<Figure size 432x288 with 2 Axes>"
            ]
          },
          "metadata": {
            "tags": [],
            "needs_background": "light"
          }
        }
      ]
    },
    {
      "cell_type": "markdown",
      "metadata": {
        "id": "CPjUM1YzzzN4"
      },
      "source": [
        "I used the sklearn package metrics to generate the confusion matrix and then used the seaborn heatmap to plot the confusion matrix. From the above confusion matrix plot, we can see that for most of the time the logistic regression model can predict very accurately. Out of 679 companies, it correctly predicts 276 companies as assets intensive companies and 275 companies as low assets companies. Only 66 companies with low assets are wrongly classified as assets intensive comanies, and 62 companies which are assets intensive are wrongly classified as low assets companies."
      ]
    },
    {
      "cell_type": "markdown",
      "metadata": {
        "id": "WsRi-_CAPfPt"
      },
      "source": [
        "#R&D Intensity Prediction "
      ]
    },
    {
      "cell_type": "markdown",
      "metadata": {
        "id": "YusP8OQsP1n0"
      },
      "source": [
        "##Load, merge and clean the data"
      ]
    },
    {
      "cell_type": "code",
      "metadata": {
        "id": "ooxgiLq15PiY"
      },
      "source": [
        "rev_xrd = pd.read_csv('assign1.csv')\n",
        "rev_xrd.rename(columns={'tic': 'ticker'}, inplace=True)\n",
        "df1 = pd.merge(rev_xrd, stock_des, on='ticker')"
      ],
      "execution_count": null,
      "outputs": []
    },
    {
      "cell_type": "code",
      "metadata": {
        "colab": {
          "base_uri": "https://localhost:8080/"
        },
        "id": "FoWEs9rR-KgN",
        "outputId": "8787546d-36b8-4643-fbde-5a79ba333922"
      },
      "source": [
        "df1.shape"
      ],
      "execution_count": null,
      "outputs": [
        {
          "output_type": "execute_result",
          "data": {
            "text/plain": [
              "(2773, 4)"
            ]
          },
          "metadata": {
            "tags": []
          },
          "execution_count": 26
        }
      ]
    },
    {
      "cell_type": "code",
      "metadata": {
        "colab": {
          "base_uri": "https://localhost:8080/"
        },
        "id": "HOeoMumtA7X_",
        "outputId": "e26243a5-923a-46bf-af1e-1e4986692c8f"
      },
      "source": [
        "#drop rows where sales are equal to 0\n",
        "df1 = df1[df1['sale'] != 0]\n",
        "df1.shape"
      ],
      "execution_count": null,
      "outputs": [
        {
          "output_type": "execute_result",
          "data": {
            "text/plain": [
              "(2678, 4)"
            ]
          },
          "metadata": {
            "tags": []
          },
          "execution_count": 27
        }
      ]
    },
    {
      "cell_type": "code",
      "metadata": {
        "colab": {
          "base_uri": "https://localhost:8080/"
        },
        "id": "6CWcZhpo-Kos",
        "outputId": "e298f79b-07b9-4343-fe49-00ada0ac3f87"
      },
      "source": [
        "#inspect null values\n",
        "df1.info()"
      ],
      "execution_count": null,
      "outputs": [
        {
          "output_type": "stream",
          "text": [
            "<class 'pandas.core.frame.DataFrame'>\n",
            "Int64Index: 2678 entries, 0 to 2772\n",
            "Data columns (total 4 columns):\n",
            " #   Column       Non-Null Count  Dtype  \n",
            "---  ------       --------------  -----  \n",
            " 0   ticker       2678 non-null   object \n",
            " 1   sale         2678 non-null   float64\n",
            " 2   xrd          1492 non-null   float64\n",
            " 3   description  2678 non-null   object \n",
            "dtypes: float64(2), object(2)\n",
            "memory usage: 104.6+ KB\n"
          ],
          "name": "stdout"
        }
      ]
    },
    {
      "cell_type": "code",
      "metadata": {
        "colab": {
          "base_uri": "https://localhost:8080/"
        },
        "id": "oRDX28Qe-KrP",
        "outputId": "7a223179-7f36-4c3d-dd72-7a07287ced67"
      },
      "source": [
        "#encode null as 0\n",
        "df1['xrd'] = df1['xrd'].fillna(0)\n",
        "df1.isnull().sum()"
      ],
      "execution_count": null,
      "outputs": [
        {
          "output_type": "execute_result",
          "data": {
            "text/plain": [
              "ticker         0\n",
              "sale           0\n",
              "xrd            0\n",
              "description    0\n",
              "dtype: int64"
            ]
          },
          "metadata": {
            "tags": []
          },
          "execution_count": 29
        }
      ]
    },
    {
      "cell_type": "code",
      "metadata": {
        "colab": {
          "base_uri": "https://localhost:8080/",
          "height": 436
        },
        "id": "WJL4XrlC_MZv",
        "outputId": "eb11786d-7847-466e-8479-a6f01827e1a3"
      },
      "source": [
        "df1['RD_Intensity'] = df1['xrd']/df1['sale']\n",
        "print(df1['RD_Intensity'].describe())\n",
        "df1.boxplot(column = 'RD_Intensity')"
      ],
      "execution_count": null,
      "outputs": [
        {
          "output_type": "stream",
          "text": [
            "count    2678.000000\n",
            "mean        3.804540\n",
            "std        90.597764\n",
            "min         0.000000\n",
            "25%         0.000000\n",
            "50%         0.000000\n",
            "75%         0.064127\n",
            "max      4299.125000\n",
            "Name: RD_Intensity, dtype: float64\n"
          ],
          "name": "stdout"
        },
        {
          "output_type": "execute_result",
          "data": {
            "text/plain": [
              "<matplotlib.axes._subplots.AxesSubplot at 0x7f715b6c6e90>"
            ]
          },
          "metadata": {
            "tags": []
          },
          "execution_count": 31
        },
        {
          "output_type": "display_data",
          "data": {
            "image/png": "[encoded data removed]",
            "text/plain": [
              "<Figure size 432x288 with 1 Axes>"
            ]
          },
          "metadata": {
            "tags": [],
            "needs_background": "light"
          }
        }
      ]
    },
    {
      "cell_type": "code",
      "metadata": {
        "id": "voYkzLS3M5CN"
      },
      "source": [
        "df1['description'] = df1['description'].str.slice(0,350)"
      ],
      "execution_count": null,
      "outputs": []
    },
    {
      "cell_type": "code",
      "metadata": {
        "colab": {
          "base_uri": "https://localhost:8080/"
        },
        "id": "C16FryZnO45J",
        "outputId": "9de4f9bc-d692-4d60-d101-c250aa537693"
      },
      "source": [
        "df1['HIGH_INNOVATION'] = (df1['RD_Intensity'].gt(df1['RD_Intensity'].median())).astype(int)\n",
        "df1.shape"
      ],
      "execution_count": null,
      "outputs": [
        {
          "output_type": "execute_result",
          "data": {
            "text/plain": [
              "(2678, 6)"
            ]
          },
          "metadata": {
            "tags": []
          },
          "execution_count": 36
        }
      ]
    },
    {
      "cell_type": "code",
      "metadata": {
        "colab": {
          "base_uri": "https://localhost:8080/"
        },
        "id": "YfOv7IP0-1ps",
        "outputId": "726f44ea-41e4-4353-f54e-bae11b5bb138"
      },
      "source": [
        "df1[df1['HIGH_INNOVATION'] == 1].shape"
      ],
      "execution_count": null,
      "outputs": [
        {
          "output_type": "execute_result",
          "data": {
            "text/plain": [
              "(1133, 6)"
            ]
          },
          "metadata": {
            "tags": []
          },
          "execution_count": 37
        }
      ]
    },
    {
      "cell_type": "markdown",
      "metadata": {
        "id": "Q1vtWVXQ_osP"
      },
      "source": [
        "From above, we can tell that the number of companies which are classified as high_innovation and the number of those which are not classified as high_innovation are almost equivalent. This is a good sign for the modelling. "
      ]
    },
    {
      "cell_type": "markdown",
      "metadata": {
        "id": "gqJmYEA9QHAA"
      },
      "source": [
        "##DistilBERT model"
      ]
    },
    {
      "cell_type": "markdown",
      "metadata": {
        "id": "i5bpsNKLQkCH"
      },
      "source": [
        "Since we loaded the pre-trained BERT model before, now we tokenize the description data for DistilBERT model"
      ]
    },
    {
      "cell_type": "code",
      "metadata": {
        "id": "LxC2sRBLPOnD"
      },
      "source": [
        "tokenized1 = df1['description'].apply((lambda x: tokenizer.encode(x, add_special_tokens=True)))"
      ],
      "execution_count": null,
      "outputs": []
    },
    {
      "cell_type": "markdown",
      "metadata": {
        "id": "ZyUg8DNYRHQk"
      },
      "source": [
        "Pad all lists of tokenized values to the same size."
      ]
    },
    {
      "cell_type": "code",
      "metadata": {
        "id": "2XbUe2TuRGUv"
      },
      "source": [
        "max_len = 0\n",
        "for i in tokenized1.values:\n",
        "    if len(i) > max_len:\n",
        "        max_len = len(i)\n",
        "\n",
        "padded = np.array([i + [0]*(max_len-len(i)) for i in tokenized1.values])"
      ],
      "execution_count": null,
      "outputs": []
    },
    {
      "cell_type": "code",
      "metadata": {
        "colab": {
          "base_uri": "https://localhost:8080/"
        },
        "id": "EHQRqua-Q_n9",
        "outputId": "994b2c39-d5bc-41de-ee23-4cbaa0153478"
      },
      "source": [
        "np.array(padded).shape"
      ],
      "execution_count": null,
      "outputs": [
        {
          "output_type": "execute_result",
          "data": {
            "text/plain": [
              "(2678, 109)"
            ]
          },
          "metadata": {
            "tags": []
          },
          "execution_count": 40
        }
      ]
    },
    {
      "cell_type": "markdown",
      "metadata": {
        "id": "dhfN9m1BRiX7"
      },
      "source": [
        "Create attention mask variable for BERT to ignore (mask) the padding when it's processing its input."
      ]
    },
    {
      "cell_type": "code",
      "metadata": {
        "colab": {
          "base_uri": "https://localhost:8080/"
        },
        "id": "y2rZk_97Q_qT",
        "outputId": "06614932-47ef-4206-a451-413d9ffef170"
      },
      "source": [
        "attention_mask = np.where(padded != 0, 1, 0)\n",
        "attention_mask.shape"
      ],
      "execution_count": null,
      "outputs": [
        {
          "output_type": "execute_result",
          "data": {
            "text/plain": [
              "(2678, 109)"
            ]
          },
          "metadata": {
            "tags": []
          },
          "execution_count": 41
        }
      ]
    },
    {
      "cell_type": "markdown",
      "metadata": {
        "id": "7V-Uxce6Rr31"
      },
      "source": [
        "Run the pretrained DistilBERT model on the prepared predictor and keep the result in `last_hidden_states` variable. "
      ]
    },
    {
      "cell_type": "code",
      "metadata": {
        "id": "rtaCRk9kQ_sz"
      },
      "source": [
        "input_ids = torch.tensor(padded)  \n",
        "attention_mask = torch.tensor(attention_mask)\n",
        "\n",
        "with torch.no_grad():\n",
        "    last_hidden_states = model(input_ids, attention_mask=attention_mask)"
      ],
      "execution_count": null,
      "outputs": []
    },
    {
      "cell_type": "markdown",
      "metadata": {
        "id": "HiLzJvXuSM2H"
      },
      "source": [
        "##Logistic regression model"
      ]
    },
    {
      "cell_type": "markdown",
      "metadata": {
        "id": "8Wxj9aC7ST9D"
      },
      "source": [
        "Keep the first layer of the hidden states and assign the outcome variable to `labels`. "
      ]
    },
    {
      "cell_type": "code",
      "metadata": {
        "id": "HNPZUcz5R6jG"
      },
      "source": [
        "features = last_hidden_states[0][:,0,:].numpy()\n",
        "labels = df1['HIGH_INNOVATION']"
      ],
      "execution_count": null,
      "outputs": []
    },
    {
      "cell_type": "markdown",
      "metadata": {
        "id": "04yb94YgSd7O"
      },
      "source": [
        "Split the data in train and test subsets, train the Logistic Regression on train set and evaluate its accuracy on the test set. "
      ]
    },
    {
      "cell_type": "code",
      "metadata": {
        "colab": {
          "base_uri": "https://localhost:8080/"
        },
        "id": "5rCjKOHCR6r4",
        "outputId": "76ea70bc-e69f-4e45-ca3c-86e43cadadfa"
      },
      "source": [
        "train_features1, test_features1, train_labels1, test_labels1 = train_test_split(features, labels)\n",
        "lr_clf = LogisticRegression(max_iter=5000)\n",
        "lr_clf.fit(train_features1, train_labels1)\n",
        "print(lr_clf.score(test_features1, test_labels1))"
      ],
      "execution_count": null,
      "outputs": [
        {
          "output_type": "stream",
          "text": [
            "0.8850746268656716\n"
          ],
          "name": "stdout"
        }
      ]
    },
    {
      "cell_type": "markdown",
      "metadata": {
        "id": "iLpscLB2S2lv"
      },
      "source": [
        "The accuracy rate of the model is 0.89!"
      ]
    },
    {
      "cell_type": "markdown",
      "metadata": {
        "id": "Sne5J9uwSmGE"
      },
      "source": [
        "Check if this approach works better than a random guess (0.89 > 0.52)"
      ]
    },
    {
      "cell_type": "code",
      "metadata": {
        "colab": {
          "base_uri": "https://localhost:8080/"
        },
        "id": "NEAXroxwR6un",
        "outputId": "f6d13b1f-58b0-4aad-8fdc-3b1ba9881dd5"
      },
      "source": [
        "from sklearn.dummy import DummyClassifier\n",
        "clf = DummyClassifier()\n",
        "\n",
        "scores = cross_val_score(clf, train_features1, train_labels1)\n",
        "print(\"Dummy classifier score: %0.3f (+/- %0.2f)\" % (scores.mean(), scores.std() * 2))"
      ],
      "execution_count": null,
      "outputs": [
        {
          "output_type": "stream",
          "text": [
            "Dummy classifier score: 0.517 (+/- 0.03)\n"
          ],
          "name": "stdout"
        },
        {
          "output_type": "stream",
          "text": [
            "/usr/local/lib/python3.7/dist-packages/sklearn/dummy.py:132: FutureWarning: The default value of strategy will change from stratified to prior in 0.24.\n",
            "  \"stratified to prior in 0.24.\", FutureWarning)\n"
          ],
          "name": "stderr"
        }
      ]
    },
    {
      "cell_type": "markdown",
      "metadata": {
        "id": "ds9pKC8CS8wU"
      },
      "source": [
        "The accuracy of a random guess is 0.5, which is much less than our model accuracy. "
      ]
    },
    {
      "cell_type": "markdown",
      "metadata": {
        "id": "YF8oVZGfTMa-"
      },
      "source": [
        "##Confusion Matrix"
      ]
    },
    {
      "cell_type": "markdown",
      "metadata": {
        "id": "2m_RbvfPUisA"
      },
      "source": [
        "Import the sklearn package metrics to generate the confusion matrix and then use the seaborn heatmap to plot the following confusion matrix."
      ]
    },
    {
      "cell_type": "code",
      "metadata": {
        "colab": {
          "base_uri": "https://localhost:8080/",
          "height": 340
        },
        "id": "B5nvRZk7R6xa",
        "outputId": "302f42af-a791-4110-9cc6-a1c49b573a04"
      },
      "source": [
        "y_pred1 = lr_clf.predict(test_features1)\n",
        "cm = metrics.confusion_matrix(test_labels1, y_pred1)\n",
        "\n",
        "class_names=[0,1] # name  of classes\n",
        "fig, ax = plt.subplots()\n",
        "tick_marks = np.arange(len(class_names))\n",
        "plt.xticks(tick_marks, class_names)\n",
        "plt.yticks(tick_marks, class_names)\n",
        "\n",
        "sns.heatmap(pd.DataFrame(cm), annot=True, cmap=\"YlGnBu\" ,fmt='g')\n",
        "ax.xaxis.set_label_position(\"top\")\n",
        "plt.tight_layout()\n",
        "plt.title('Confusion matrix', y=1.1)\n",
        "plt.ylabel('Actual label')\n",
        "plt.xlabel('Predicted label')"
      ],
      "execution_count": null,
      "outputs": [
        {
          "output_type": "execute_result",
          "data": {
            "text/plain": [
              "Text(0.5, 257.44, 'Predicted label')"
            ]
          },
          "metadata": {
            "tags": []
          },
          "execution_count": 46
        },
        {
          "output_type": "display_data",
          "data": {
            "image/png": "[encoded data removed]",
            "text/plain": [
              "<Figure size 432x288 with 2 Axes>"
            ]
          },
          "metadata": {
            "tags": [],
            "needs_background": "light"
          }
        }
      ]
    },
    {
      "cell_type": "markdown",
      "metadata": {
        "id": "nuwzuSdgU7bq"
      },
      "source": [
        "From the above confusion matrix plot, we can see that for most of the time the logistic regression model can predict very accurately. Out of 670 companies, it correctly predicts 241 companies as highly innovative companies and 352 companies as less innovative companies. Only 38 companies with low innovation are wrongly classified as highly innovative comanies, and 39 companies which are highly innovative are wrongly classified as companies with low innovation."
      ]
    },
    {
      "cell_type": "markdown",
      "metadata": {
        "id": "sH6db-todS_q"
      },
      "source": [
        "#Correlation between predicted value of HIGH_ARR and HIGH_INNOVATION"
      ]
    },
    {
      "cell_type": "markdown",
      "metadata": {
        "id": "wAfeMCDka_UJ"
      },
      "source": [
        "####Approach: put back the predicted values and compute the correlations from the merged table"
      ]
    },
    {
      "cell_type": "markdown",
      "metadata": {
        "id": "X_EC7z60etMm"
      },
      "source": [
        "Prepare HIGH_ARR table to be merged "
      ]
    },
    {
      "cell_type": "code",
      "metadata": {
        "id": "5RuBZqGPIpfp"
      },
      "source": [
        "t = test_labels.to_frame()\n",
        "t['y_pred'] = y_pred"
      ],
      "execution_count": null,
      "outputs": []
    },
    {
      "cell_type": "code",
      "metadata": {
        "colab": {
          "base_uri": "https://localhost:8080/",
          "height": 419
        },
        "id": "7jmKOJfqIpif",
        "outputId": "d444ccd2-72e2-41fa-b003-0549ed3d22ed"
      },
      "source": [
        "df2 = pd.merge(df, t, left_index=True, right_index=True)\n",
        "df2"
      ],
      "execution_count": null,
      "outputs": [
        {
          "output_type": "execute_result",
          "data": {
            "text/html": [
              "<div>\n",
              "<style scoped>\n",
              "    .dataframe tbody tr th:only-of-type {\n",
              "        vertical-align: middle;\n",
              "    }\n",
              "\n",
              "    .dataframe tbody tr th {\n",
              "        vertical-align: top;\n",
              "    }\n",
              "\n",
              "    .dataframe thead th {\n",
              "        text-align: right;\n",
              "    }\n",
              "</style>\n",
              "<table border=\"1\" class=\"dataframe\">\n",
              "  <thead>\n",
              "    <tr style=\"text-align: right;\">\n",
              "      <th></th>\n",
              "      <th>ticker</th>\n",
              "      <th>Total Assets</th>\n",
              "      <th>Total Revenue</th>\n",
              "      <th>description</th>\n",
              "      <th>ar_ratio</th>\n",
              "      <th>HIGH_ARR_x</th>\n",
              "      <th>HIGH_ARR_y</th>\n",
              "      <th>y_pred</th>\n",
              "    </tr>\n",
              "  </thead>\n",
              "  <tbody>\n",
              "    <tr>\n",
              "      <th>3</th>\n",
              "      <td>AAL</td>\n",
              "      <td>6.200800e+10</td>\n",
              "      <td>1.733700e+10</td>\n",
              "      <td>American Airlines Group Inc., through its subs...</td>\n",
              "      <td>3.576628</td>\n",
              "      <td>1</td>\n",
              "      <td>1</td>\n",
              "      <td>1</td>\n",
              "    </tr>\n",
              "    <tr>\n",
              "      <th>10</th>\n",
              "      <td>AAWW</td>\n",
              "      <td>6.029188e+09</td>\n",
              "      <td>3.211116e+09</td>\n",
              "      <td>Atlas Air Worldwide Holdings, Inc., through it...</td>\n",
              "      <td>1.877599</td>\n",
              "      <td>0</td>\n",
              "      <td>0</td>\n",
              "      <td>0</td>\n",
              "    </tr>\n",
              "    <tr>\n",
              "      <th>14</th>\n",
              "      <td>ABEO</td>\n",
              "      <td>1.511980e+08</td>\n",
              "      <td>1.000000e+07</td>\n",
              "      <td>Abeona Therapeutics Inc., a clinical-stage bio...</td>\n",
              "      <td>15.119800</td>\n",
              "      <td>1</td>\n",
              "      <td>1</td>\n",
              "      <td>1</td>\n",
              "    </tr>\n",
              "    <tr>\n",
              "      <th>23</th>\n",
              "      <td>ACAD</td>\n",
              "      <td>7.826160e+08</td>\n",
              "      <td>4.417550e+08</td>\n",
              "      <td>ACADIA Pharmaceuticals Inc., a biopharmaceutic...</td>\n",
              "      <td>1.771606</td>\n",
              "      <td>0</td>\n",
              "      <td>0</td>\n",
              "      <td>1</td>\n",
              "    </tr>\n",
              "    <tr>\n",
              "      <th>26</th>\n",
              "      <td>ACCD</td>\n",
              "      <td>7.324800e+07</td>\n",
              "      <td>1.325070e+08</td>\n",
              "      <td>Accolade, Inc. develops and provides technolog...</td>\n",
              "      <td>0.552786</td>\n",
              "      <td>0</td>\n",
              "      <td>0</td>\n",
              "      <td>1</td>\n",
              "    </tr>\n",
              "    <tr>\n",
              "      <th>...</th>\n",
              "      <td>...</td>\n",
              "      <td>...</td>\n",
              "      <td>...</td>\n",
              "      <td>...</td>\n",
              "      <td>...</td>\n",
              "      <td>...</td>\n",
              "      <td>...</td>\n",
              "      <td>...</td>\n",
              "    </tr>\n",
              "    <tr>\n",
              "      <th>2797</th>\n",
              "      <td>XONE</td>\n",
              "      <td>1.072890e+08</td>\n",
              "      <td>5.925300e+07</td>\n",
              "      <td>The ExOne Company develops, manufactures, and ...</td>\n",
              "      <td>1.810693</td>\n",
              "      <td>0</td>\n",
              "      <td>0</td>\n",
              "      <td>0</td>\n",
              "    </tr>\n",
              "    <tr>\n",
              "      <th>2800</th>\n",
              "      <td>XPO</td>\n",
              "      <td>1.616900e+10</td>\n",
              "      <td>1.625200e+10</td>\n",
              "      <td>XPO Logistics, Inc. provides supply chain solu...</td>\n",
              "      <td>0.994893</td>\n",
              "      <td>0</td>\n",
              "      <td>0</td>\n",
              "      <td>0</td>\n",
              "    </tr>\n",
              "    <tr>\n",
              "      <th>2805</th>\n",
              "      <td>YELP</td>\n",
              "      <td>1.154947e+09</td>\n",
              "      <td>8.729330e+08</td>\n",
              "      <td>Yelp Inc. operates a platform that connects co...</td>\n",
              "      <td>1.323065</td>\n",
              "      <td>0</td>\n",
              "      <td>0</td>\n",
              "      <td>0</td>\n",
              "    </tr>\n",
              "    <tr>\n",
              "      <th>2807</th>\n",
              "      <td>YEXT</td>\n",
              "      <td>5.959890e+08</td>\n",
              "      <td>3.546610e+08</td>\n",
              "      <td>Yext, Inc. organizes business facts to provide...</td>\n",
              "      <td>1.680447</td>\n",
              "      <td>0</td>\n",
              "      <td>0</td>\n",
              "      <td>1</td>\n",
              "    </tr>\n",
              "    <tr>\n",
              "      <th>2823</th>\n",
              "      <td>ZNGA</td>\n",
              "      <td>6.206500e+09</td>\n",
              "      <td>1.974800e+09</td>\n",
              "      <td>Zynga Inc. provides social game services in th...</td>\n",
              "      <td>3.142850</td>\n",
              "      <td>1</td>\n",
              "      <td>1</td>\n",
              "      <td>0</td>\n",
              "    </tr>\n",
              "  </tbody>\n",
              "</table>\n",
              "<p>679 rows × 8 columns</p>\n",
              "</div>"
            ],
            "text/plain": [
              "     ticker  Total Assets  Total Revenue  ... HIGH_ARR_x  HIGH_ARR_y  y_pred\n",
              "3       AAL  6.200800e+10   1.733700e+10  ...          1           1       1\n",
              "10     AAWW  6.029188e+09   3.211116e+09  ...          0           0       0\n",
              "14     ABEO  1.511980e+08   1.000000e+07  ...          1           1       1\n",
              "23     ACAD  7.826160e+08   4.417550e+08  ...          0           0       1\n",
              "26     ACCD  7.324800e+07   1.325070e+08  ...          0           0       1\n",
              "...     ...           ...            ...  ...        ...         ...     ...\n",
              "2797   XONE  1.072890e+08   5.925300e+07  ...          0           0       0\n",
              "2800    XPO  1.616900e+10   1.625200e+10  ...          0           0       0\n",
              "2805   YELP  1.154947e+09   8.729330e+08  ...          0           0       0\n",
              "2807   YEXT  5.959890e+08   3.546610e+08  ...          0           0       1\n",
              "2823   ZNGA  6.206500e+09   1.974800e+09  ...          1           1       0\n",
              "\n",
              "[679 rows x 8 columns]"
            ]
          },
          "metadata": {
            "tags": []
          },
          "execution_count": 48
        }
      ]
    },
    {
      "cell_type": "markdown",
      "metadata": {
        "id": "WHMWIb-ge2eT"
      },
      "source": [
        "Prepare HIGH_INNOVATION table to be merged"
      ]
    },
    {
      "cell_type": "code",
      "metadata": {
        "id": "IT89TYWAYYFh"
      },
      "source": [
        "t1 = test_labels1.to_frame()\n",
        "t1['y_pred1'] = y_pred1"
      ],
      "execution_count": null,
      "outputs": []
    },
    {
      "cell_type": "code",
      "metadata": {
        "colab": {
          "base_uri": "https://localhost:8080/",
          "height": 419
        },
        "id": "-hTSeO4-YYIN",
        "outputId": "f7f7d79e-ce9f-4384-f0cf-1ffa6ec45b93"
      },
      "source": [
        "df3 = pd.merge(df1, t1, left_index=True, right_index=True)\n",
        "df3"
      ],
      "execution_count": null,
      "outputs": [
        {
          "output_type": "execute_result",
          "data": {
            "text/html": [
              "<div>\n",
              "<style scoped>\n",
              "    .dataframe tbody tr th:only-of-type {\n",
              "        vertical-align: middle;\n",
              "    }\n",
              "\n",
              "    .dataframe tbody tr th {\n",
              "        vertical-align: top;\n",
              "    }\n",
              "\n",
              "    .dataframe thead th {\n",
              "        text-align: right;\n",
              "    }\n",
              "</style>\n",
              "<table border=\"1\" class=\"dataframe\">\n",
              "  <thead>\n",
              "    <tr style=\"text-align: right;\">\n",
              "      <th></th>\n",
              "      <th>ticker</th>\n",
              "      <th>sale</th>\n",
              "      <th>xrd</th>\n",
              "      <th>description</th>\n",
              "      <th>RD_Intensity</th>\n",
              "      <th>HIGH_INNOVATION_x</th>\n",
              "      <th>HIGH_INNOVATION_y</th>\n",
              "      <th>y_pred1</th>\n",
              "    </tr>\n",
              "  </thead>\n",
              "  <tbody>\n",
              "    <tr>\n",
              "      <th>0</th>\n",
              "      <td>AAL</td>\n",
              "      <td>17337.000</td>\n",
              "      <td>0.0</td>\n",
              "      <td>American Airlines Group Inc., through its subs...</td>\n",
              "      <td>0.000000</td>\n",
              "      <td>0</td>\n",
              "      <td>0</td>\n",
              "      <td>0</td>\n",
              "    </tr>\n",
              "    <tr>\n",
              "      <th>6</th>\n",
              "      <td>APD</td>\n",
              "      <td>8856.300</td>\n",
              "      <td>83.9</td>\n",
              "      <td>Air Products and Chemicals, Inc. provides atmo...</td>\n",
              "      <td>0.009473</td>\n",
              "      <td>1</td>\n",
              "      <td>1</td>\n",
              "      <td>1</td>\n",
              "    </tr>\n",
              "    <tr>\n",
              "      <th>7</th>\n",
              "      <td>ALK</td>\n",
              "      <td>3566.000</td>\n",
              "      <td>0.0</td>\n",
              "      <td>Alaska Air Group, Inc., through its subsidiari...</td>\n",
              "      <td>0.000000</td>\n",
              "      <td>0</td>\n",
              "      <td>0</td>\n",
              "      <td>0</td>\n",
              "    </tr>\n",
              "    <tr>\n",
              "      <th>9</th>\n",
              "      <td>MATX</td>\n",
              "      <td>2383.300</td>\n",
              "      <td>0.0</td>\n",
              "      <td>Matson, Inc., together with its subsidiaries, ...</td>\n",
              "      <td>0.000000</td>\n",
              "      <td>0</td>\n",
              "      <td>0</td>\n",
              "      <td>0</td>\n",
              "    </tr>\n",
              "    <tr>\n",
              "      <th>13</th>\n",
              "      <td>HON</td>\n",
              "      <td>32637.000</td>\n",
              "      <td>1334.0</td>\n",
              "      <td>Honeywell International Inc. operates as a div...</td>\n",
              "      <td>0.040874</td>\n",
              "      <td>1</td>\n",
              "      <td>1</td>\n",
              "      <td>1</td>\n",
              "    </tr>\n",
              "    <tr>\n",
              "      <th>...</th>\n",
              "      <td>...</td>\n",
              "      <td>...</td>\n",
              "      <td>...</td>\n",
              "      <td>...</td>\n",
              "      <td>...</td>\n",
              "      <td>...</td>\n",
              "      <td>...</td>\n",
              "      <td>...</td>\n",
              "    </tr>\n",
              "    <tr>\n",
              "      <th>2755</th>\n",
              "      <td>CATM</td>\n",
              "      <td>1093.999</td>\n",
              "      <td>0.0</td>\n",
              "      <td>Cardtronics plc provides automated consumer fi...</td>\n",
              "      <td>0.000000</td>\n",
              "      <td>0</td>\n",
              "      <td>0</td>\n",
              "      <td>0</td>\n",
              "    </tr>\n",
              "    <tr>\n",
              "      <th>2757</th>\n",
              "      <td>CNS</td>\n",
              "      <td>427.536</td>\n",
              "      <td>0.0</td>\n",
              "      <td>Cohen &amp;amp; Steers, Inc. is a publicly owned a...</td>\n",
              "      <td>0.000000</td>\n",
              "      <td>0</td>\n",
              "      <td>0</td>\n",
              "      <td>0</td>\n",
              "    </tr>\n",
              "    <tr>\n",
              "      <th>2766</th>\n",
              "      <td>GAN</td>\n",
              "      <td>35.159</td>\n",
              "      <td>0.0</td>\n",
              "      <td>GAN Limited operates as a business-to-business...</td>\n",
              "      <td>0.000000</td>\n",
              "      <td>0</td>\n",
              "      <td>0</td>\n",
              "      <td>1</td>\n",
              "    </tr>\n",
              "    <tr>\n",
              "      <th>2767</th>\n",
              "      <td>LPG</td>\n",
              "      <td>318.218</td>\n",
              "      <td>0.0</td>\n",
              "      <td>Dorian LPG Ltd., together with its subsidiarie...</td>\n",
              "      <td>0.000000</td>\n",
              "      <td>0</td>\n",
              "      <td>0</td>\n",
              "      <td>0</td>\n",
              "    </tr>\n",
              "    <tr>\n",
              "      <th>2770</th>\n",
              "      <td>NVT</td>\n",
              "      <td>1998.600</td>\n",
              "      <td>43.5</td>\n",
              "      <td>nVent Electric plc designs, manufactures, mark...</td>\n",
              "      <td>0.021765</td>\n",
              "      <td>1</td>\n",
              "      <td>1</td>\n",
              "      <td>1</td>\n",
              "    </tr>\n",
              "  </tbody>\n",
              "</table>\n",
              "<p>670 rows × 8 columns</p>\n",
              "</div>"
            ],
            "text/plain": [
              "     ticker       sale     xrd  ... HIGH_INNOVATION_x  HIGH_INNOVATION_y  y_pred1\n",
              "0       AAL  17337.000     0.0  ...                 0                  0        0\n",
              "6       APD   8856.300    83.9  ...                 1                  1        1\n",
              "7       ALK   3566.000     0.0  ...                 0                  0        0\n",
              "9      MATX   2383.300     0.0  ...                 0                  0        0\n",
              "13      HON  32637.000  1334.0  ...                 1                  1        1\n",
              "...     ...        ...     ...  ...               ...                ...      ...\n",
              "2755   CATM   1093.999     0.0  ...                 0                  0        0\n",
              "2757    CNS    427.536     0.0  ...                 0                  0        0\n",
              "2766    GAN     35.159     0.0  ...                 0                  0        1\n",
              "2767    LPG    318.218     0.0  ...                 0                  0        0\n",
              "2770    NVT   1998.600    43.5  ...                 1                  1        1\n",
              "\n",
              "[670 rows x 8 columns]"
            ]
          },
          "metadata": {
            "tags": []
          },
          "execution_count": 50
        }
      ]
    },
    {
      "cell_type": "markdown",
      "metadata": {
        "id": "zo_UeJBpfJM0"
      },
      "source": [
        "Merge the two tables on the same ticker"
      ]
    },
    {
      "cell_type": "code",
      "metadata": {
        "colab": {
          "base_uri": "https://localhost:8080/",
          "height": 479
        },
        "id": "08EYpAGSY0Hc",
        "outputId": "016ff178-8aa0-4189-d7a7-954d2c7a1fbb"
      },
      "source": [
        "df4 = pd.merge(df2, df3, on='ticker')\n",
        "df4.head()"
      ],
      "execution_count": null,
      "outputs": [
        {
          "output_type": "execute_result",
          "data": {
            "text/html": [
              "<div>\n",
              "<style scoped>\n",
              "    .dataframe tbody tr th:only-of-type {\n",
              "        vertical-align: middle;\n",
              "    }\n",
              "\n",
              "    .dataframe tbody tr th {\n",
              "        vertical-align: top;\n",
              "    }\n",
              "\n",
              "    .dataframe thead th {\n",
              "        text-align: right;\n",
              "    }\n",
              "</style>\n",
              "<table border=\"1\" class=\"dataframe\">\n",
              "  <thead>\n",
              "    <tr style=\"text-align: right;\">\n",
              "      <th></th>\n",
              "      <th>ticker</th>\n",
              "      <th>Total Assets</th>\n",
              "      <th>Total Revenue</th>\n",
              "      <th>description_x</th>\n",
              "      <th>ar_ratio</th>\n",
              "      <th>HIGH_ARR_x</th>\n",
              "      <th>HIGH_ARR_y</th>\n",
              "      <th>y_pred</th>\n",
              "      <th>sale</th>\n",
              "      <th>xrd</th>\n",
              "      <th>description_y</th>\n",
              "      <th>RD_Intensity</th>\n",
              "      <th>HIGH_INNOVATION_x</th>\n",
              "      <th>HIGH_INNOVATION_y</th>\n",
              "      <th>y_pred1</th>\n",
              "    </tr>\n",
              "  </thead>\n",
              "  <tbody>\n",
              "    <tr>\n",
              "      <th>0</th>\n",
              "      <td>AAL</td>\n",
              "      <td>6.200800e+10</td>\n",
              "      <td>1.733700e+10</td>\n",
              "      <td>American Airlines Group Inc., through its subs...</td>\n",
              "      <td>3.576628</td>\n",
              "      <td>1</td>\n",
              "      <td>1</td>\n",
              "      <td>1</td>\n",
              "      <td>17337.000</td>\n",
              "      <td>0.000</td>\n",
              "      <td>American Airlines Group Inc., through its subs...</td>\n",
              "      <td>0.00000</td>\n",
              "      <td>0</td>\n",
              "      <td>0</td>\n",
              "      <td>0</td>\n",
              "    </tr>\n",
              "    <tr>\n",
              "      <th>1</th>\n",
              "      <td>ACCD</td>\n",
              "      <td>7.324800e+07</td>\n",
              "      <td>1.325070e+08</td>\n",
              "      <td>Accolade, Inc. develops and provides technolog...</td>\n",
              "      <td>0.552786</td>\n",
              "      <td>0</td>\n",
              "      <td>0</td>\n",
              "      <td>1</td>\n",
              "      <td>170.358</td>\n",
              "      <td>0.000</td>\n",
              "      <td>Accolade, Inc. develops and provides technolog...</td>\n",
              "      <td>0.00000</td>\n",
              "      <td>0</td>\n",
              "      <td>0</td>\n",
              "      <td>1</td>\n",
              "    </tr>\n",
              "    <tr>\n",
              "      <th>2</th>\n",
              "      <td>ADES</td>\n",
              "      <td>1.466710e+08</td>\n",
              "      <td>6.157700e+07</td>\n",
              "      <td>Advanced Emissions Solutions, Inc., together w...</td>\n",
              "      <td>2.381912</td>\n",
              "      <td>1</td>\n",
              "      <td>1</td>\n",
              "      <td>1</td>\n",
              "      <td>61.577</td>\n",
              "      <td>1.000</td>\n",
              "      <td>Advanced Emissions Solutions, Inc., together w...</td>\n",
              "      <td>0.01624</td>\n",
              "      <td>1</td>\n",
              "      <td>1</td>\n",
              "      <td>1</td>\n",
              "    </tr>\n",
              "    <tr>\n",
              "      <th>3</th>\n",
              "      <td>ADMA</td>\n",
              "      <td>2.076734e+08</td>\n",
              "      <td>4.221978e+07</td>\n",
              "      <td>ADMA Biologics, Inc., a biopharmaceutical comp...</td>\n",
              "      <td>4.918865</td>\n",
              "      <td>1</td>\n",
              "      <td>1</td>\n",
              "      <td>0</td>\n",
              "      <td>42.220</td>\n",
              "      <td>5.907</td>\n",
              "      <td>ADMA Biologics, Inc., a biopharmaceutical comp...</td>\n",
              "      <td>0.13991</td>\n",
              "      <td>1</td>\n",
              "      <td>1</td>\n",
              "      <td>1</td>\n",
              "    </tr>\n",
              "    <tr>\n",
              "      <th>4</th>\n",
              "      <td>AEE</td>\n",
              "      <td>3.203000e+10</td>\n",
              "      <td>5.540000e+09</td>\n",
              "      <td>Ameren Corporation, together with its subsidia...</td>\n",
              "      <td>5.781588</td>\n",
              "      <td>1</td>\n",
              "      <td>1</td>\n",
              "      <td>1</td>\n",
              "      <td>5794.000</td>\n",
              "      <td>0.000</td>\n",
              "      <td>Ameren Corporation, together with its subsidia...</td>\n",
              "      <td>0.00000</td>\n",
              "      <td>0</td>\n",
              "      <td>0</td>\n",
              "      <td>0</td>\n",
              "    </tr>\n",
              "  </tbody>\n",
              "</table>\n",
              "</div>"
            ],
            "text/plain": [
              "  ticker  Total Assets  ...  HIGH_INNOVATION_y y_pred1\n",
              "0    AAL  6.200800e+10  ...                  0       0\n",
              "1   ACCD  7.324800e+07  ...                  0       1\n",
              "2   ADES  1.466710e+08  ...                  1       1\n",
              "3   ADMA  2.076734e+08  ...                  1       1\n",
              "4    AEE  3.203000e+10  ...                  0       0\n",
              "\n",
              "[5 rows x 15 columns]"
            ]
          },
          "metadata": {
            "tags": []
          },
          "execution_count": 51
        }
      ]
    },
    {
      "cell_type": "markdown",
      "metadata": {
        "id": "sMk0Vxh-fO4c"
      },
      "source": [
        "Calculate the correlation between the HIGH_ARR predicted values and HIGH_INNOVATION predicted values for same companies"
      ]
    },
    {
      "cell_type": "code",
      "metadata": {
        "colab": {
          "base_uri": "https://localhost:8080/"
        },
        "id": "oixLnkoHZXRx",
        "outputId": "9893a4e4-0319-4b7c-c311-9b4ea881151f"
      },
      "source": [
        "print(np.corrcoef(df4['y_pred'], df4['y_pred1']))"
      ],
      "execution_count": null,
      "outputs": [
        {
          "output_type": "stream",
          "text": [
            "[[ 1.         -0.25785531]\n",
            " [-0.25785531  1.        ]]\n"
          ],
          "name": "stdout"
        }
      ]
    },
    {
      "cell_type": "markdown",
      "metadata": {
        "id": "F5bzJ2D6f62e"
      },
      "source": [
        "We can see that the predicted values of HIGH_ARR and HIGH_INNOVATION is slightly correlated with each other in a negative way (-0.26), which makes sense as companies which are assets intensive tend to be manufacturers and less innovative. A lot of innovative companies are less assets intensive.  "
      ]
    }
  ]
}