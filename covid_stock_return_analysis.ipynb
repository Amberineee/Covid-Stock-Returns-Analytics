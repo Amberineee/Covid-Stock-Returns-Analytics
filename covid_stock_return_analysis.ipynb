{
  "nbformat": 4,
  "nbformat_minor": 0,
  "metadata": {
    "colab": {
      "name": "covid_stock_return_analysis.ipynb",
      "provenance": [],
      "collapsed_sections": []
    },
    "kernelspec": {
      "display_name": "Python 3",
      "language": "python",
      "name": "python3"
    },
    "language_info": {
      "codemirror_mode": {
        "name": "ipython",
        "version": 3
      },
      "file_extension": ".py",
      "mimetype": "text/x-python",
      "name": "python",
      "nbconvert_exporter": "python",
      "pygments_lexer": "ipython3",
      "version": "3.8.3"
    }
  },
  "cells": [
    {
      "cell_type": "markdown",
      "metadata": {
        "id": "Hk7YTB6UMLrV"
      },
      "source": [
        "# Load Libraries"
      ]
    },
    {
      "cell_type": "code",
      "metadata": {
        "colab": {
          "base_uri": "https://localhost:8080/"
        },
        "id": "hfqQ0N8cL96g",
        "outputId": "878eecb8-a767-451a-9216-6b895ac4fc0f"
      },
      "source": [
        "from google.colab import drive\n",
        "import os\n",
        "import pandas as pd\n",
        "from google.colab import files\n",
        "import statsmodels.api as sm\n",
        "import statsmodels.formula.api as smf\n",
        "from scipy.stats.mstats import winsorize"
      ],
      "execution_count": null,
      "outputs": [
        {
          "output_type": "stream",
          "text": [
            "/usr/local/lib/python3.7/dist-packages/statsmodels/tools/_testing.py:19: FutureWarning: pandas.util.testing is deprecated. Use the functions in the public API at pandas.testing instead.\n",
            "  import pandas.util.testing as tm\n"
          ],
          "name": "stderr"
        }
      ]
    },
    {
      "cell_type": "markdown",
      "metadata": {
        "id": "8Nn6RFtfMV5s"
      },
      "source": [
        "# Load and Merge Data"
      ]
    },
    {
      "cell_type": "code",
      "metadata": {
        "colab": {
          "base_uri": "https://localhost:8080/",
          "height": 419
        },
        "id": "xwgi4E8FtCrg",
        "outputId": "789825f2-e861-4dea-82cc-5d30b135fec0"
      },
      "source": [
        "returns = pd.read_csv('temp1.csv')\n",
        "returns"
      ],
      "execution_count": null,
      "outputs": [
        {
          "output_type": "execute_result",
          "data": {
            "text/html": [
              "<div>\n",
              "<style scoped>\n",
              "    .dataframe tbody tr th:only-of-type {\n",
              "        vertical-align: middle;\n",
              "    }\n",
              "\n",
              "    .dataframe tbody tr th {\n",
              "        vertical-align: top;\n",
              "    }\n",
              "\n",
              "    .dataframe thead th {\n",
              "        text-align: right;\n",
              "    }\n",
              "</style>\n",
              "<table border=\"1\" class=\"dataframe\">\n",
              "  <thead>\n",
              "    <tr style=\"text-align: right;\">\n",
              "      <th></th>\n",
              "      <th>TICKER</th>\n",
              "      <th>RetEarly2020</th>\n",
              "      <th>RetLate2020</th>\n",
              "    </tr>\n",
              "  </thead>\n",
              "  <tbody>\n",
              "    <tr>\n",
              "      <th>0</th>\n",
              "      <td>JJSF</td>\n",
              "      <td>-0.340234493</td>\n",
              "      <td>0.300340</td>\n",
              "    </tr>\n",
              "    <tr>\n",
              "      <th>1</th>\n",
              "      <td>PLXS</td>\n",
              "      <td>-0.290875889</td>\n",
              "      <td>0.433469</td>\n",
              "    </tr>\n",
              "    <tr>\n",
              "      <th>2</th>\n",
              "      <td>HNGR</td>\n",
              "      <td>-0.435711705</td>\n",
              "      <td>0.411425</td>\n",
              "    </tr>\n",
              "    <tr>\n",
              "      <th>3</th>\n",
              "      <td>ORCL</td>\n",
              "      <td>-0.08359557</td>\n",
              "      <td>0.356166</td>\n",
              "    </tr>\n",
              "    <tr>\n",
              "      <th>4</th>\n",
              "      <td>MSFT</td>\n",
              "      <td>0.003212116</td>\n",
              "      <td>0.421139</td>\n",
              "    </tr>\n",
              "    <tr>\n",
              "      <th>...</th>\n",
              "      <td>...</td>\n",
              "      <td>...</td>\n",
              "      <td>...</td>\n",
              "    </tr>\n",
              "    <tr>\n",
              "      <th>2711</th>\n",
              "      <td>SIX</td>\n",
              "      <td>-0.716470643</td>\n",
              "      <td>1.719300</td>\n",
              "    </tr>\n",
              "    <tr>\n",
              "      <th>2712</th>\n",
              "      <td>VPG</td>\n",
              "      <td>-0.409412013</td>\n",
              "      <td>0.567728</td>\n",
              "    </tr>\n",
              "    <tr>\n",
              "      <th>2713</th>\n",
              "      <td>FN</td>\n",
              "      <td>-0.158545179</td>\n",
              "      <td>0.422103</td>\n",
              "    </tr>\n",
              "    <tr>\n",
              "      <th>2714</th>\n",
              "      <td>CBOE</td>\n",
              "      <td>-0.253901378</td>\n",
              "      <td>0.056516</td>\n",
              "    </tr>\n",
              "    <tr>\n",
              "      <th>2715</th>\n",
              "      <td>TSLA</td>\n",
              "      <td>0.252599339</td>\n",
              "      <td>5.733495</td>\n",
              "    </tr>\n",
              "  </tbody>\n",
              "</table>\n",
              "<p>2716 rows × 3 columns</p>\n",
              "</div>"
            ],
            "text/plain": [
              "     TICKER  RetEarly2020  RetLate2020\n",
              "0      JJSF  -0.340234493     0.300340\n",
              "1      PLXS  -0.290875889     0.433469\n",
              "2      HNGR  -0.435711705     0.411425\n",
              "3      ORCL   -0.08359557     0.356166\n",
              "4      MSFT   0.003212116     0.421139\n",
              "...     ...           ...          ...\n",
              "2711    SIX  -0.716470643     1.719300\n",
              "2712    VPG  -0.409412013     0.567728\n",
              "2713     FN  -0.158545179     0.422103\n",
              "2714   CBOE  -0.253901378     0.056516\n",
              "2715   TSLA   0.252599339     5.733495\n",
              "\n",
              "[2716 rows x 3 columns]"
            ]
          },
          "metadata": {
            "tags": []
          },
          "execution_count": 4
        }
      ]
    },
    {
      "cell_type": "code",
      "metadata": {
        "colab": {
          "base_uri": "https://localhost:8080/"
        },
        "id": "e87_ZOH8Mhq4",
        "outputId": "59fd507f-195f-426d-ea8d-d640a95dfcd4"
      },
      "source": [
        "df = pd.read_csv('temp_NAICS.csv')\n",
        "len(df.NAICS.unique())"
      ],
      "execution_count": null,
      "outputs": [
        {
          "output_type": "execute_result",
          "data": {
            "text/plain": [
              "538"
            ]
          },
          "metadata": {
            "tags": []
          },
          "execution_count": 5
        }
      ]
    },
    {
      "cell_type": "code",
      "metadata": {
        "colab": {
          "base_uri": "https://localhost:8080/"
        },
        "id": "Nj42eiyGl5_n",
        "outputId": "cc97addb-4990-4f91-8ed8-59aff8b17c1d"
      },
      "source": [
        "df1 = pd.read_csv('tempSIC.csv')\n",
        "len(df1.SIC.unique())"
      ],
      "execution_count": null,
      "outputs": [
        {
          "output_type": "execute_result",
          "data": {
            "text/plain": [
              "351"
            ]
          },
          "metadata": {
            "tags": []
          },
          "execution_count": 6
        }
      ]
    },
    {
      "cell_type": "markdown",
      "metadata": {
        "id": "VzIWHinOvwOL"
      },
      "source": [
        "## NAICS Table "
      ]
    },
    {
      "cell_type": "code",
      "metadata": {
        "id": "aIVsSTELlbKW"
      },
      "source": [
        "#For better analysis, I reduced the industry codes to only include 25 industries for both NAICS and SIC. \n",
        "df_25_cnt = df.groupby('NAICS')['NAICS'].count().sort_values(ascending=False)[:25]\n",
        "df_25_cnt = pd.DataFrame(df_25_cnt)\n",
        "df_25_cnt.rename(columns={'NAICS': 'Count'}, inplace=True)\n",
        "df_25_cnt.reset_index(inplace=True)\n",
        "\n",
        "naics_list = []\n",
        "for i in df_25_cnt.NAICS:\n",
        "  naics_list.append(i)\n",
        "\n",
        "naics_25 = df[df['NAICS'].isin(naics_list)]"
      ],
      "execution_count": null,
      "outputs": []
    },
    {
      "cell_type": "code",
      "metadata": {
        "colab": {
          "base_uri": "https://localhost:8080/"
        },
        "id": "MyqumgjduARJ",
        "outputId": "702002cb-af24-41b0-907a-09780b3d2513"
      },
      "source": [
        "naics_25_returns = pd.merge(returns, naics_25, on='TICKER')\n",
        "naics_25_returns.info()"
      ],
      "execution_count": null,
      "outputs": [
        {
          "output_type": "stream",
          "text": [
            "<class 'pandas.core.frame.DataFrame'>\n",
            "Int64Index: 1316 entries, 0 to 1315\n",
            "Data columns (total 4 columns):\n",
            " #   Column        Non-Null Count  Dtype  \n",
            "---  ------        --------------  -----  \n",
            " 0   TICKER        1316 non-null   object \n",
            " 1   RetEarly2020  1316 non-null   object \n",
            " 2   RetLate2020   1316 non-null   float64\n",
            " 3   NAICS         1316 non-null   int64  \n",
            "dtypes: float64(1), int64(1), object(2)\n",
            "memory usage: 51.4+ KB\n"
          ],
          "name": "stdout"
        }
      ]
    },
    {
      "cell_type": "markdown",
      "metadata": {
        "id": "s2qmxFfUvAuy"
      },
      "source": [
        "Since the datatype of the RetEarly2020 column is object, we need to adjust it to float64 for better statistical summary analysis. "
      ]
    },
    {
      "cell_type": "code",
      "metadata": {
        "colab": {
          "base_uri": "https://localhost:8080/"
        },
        "id": "2b97-2T6ur83",
        "outputId": "4efe1586-f84e-4365-d3c0-5fb4b83da788"
      },
      "source": [
        "#get ride of null value \n",
        "naics_25_returns.drop(naics_25_returns.loc[naics_25_returns['RetEarly2020']  == '#VALUE!'].index, inplace=True)\n",
        "#convert the RetEarly2020 column to numeric\n",
        "naics_25_returns['RetEarly2020'] = pd.to_numeric(naics_25_returns['RetEarly2020'])\n",
        "\n",
        "naics_25_returns.info()"
      ],
      "execution_count": null,
      "outputs": [
        {
          "output_type": "stream",
          "text": [
            "<class 'pandas.core.frame.DataFrame'>\n",
            "Int64Index: 1314 entries, 0 to 1315\n",
            "Data columns (total 4 columns):\n",
            " #   Column        Non-Null Count  Dtype  \n",
            "---  ------        --------------  -----  \n",
            " 0   TICKER        1314 non-null   object \n",
            " 1   RetEarly2020  1314 non-null   float64\n",
            " 2   RetLate2020   1314 non-null   float64\n",
            " 3   NAICS         1314 non-null   int64  \n",
            "dtypes: float64(2), int64(1), object(1)\n",
            "memory usage: 51.3+ KB\n"
          ],
          "name": "stdout"
        }
      ]
    },
    {
      "cell_type": "code",
      "metadata": {
        "colab": {
          "base_uri": "https://localhost:8080/",
          "height": 419
        },
        "id": "QoEI-VHzxEzJ",
        "outputId": "018e3921-04af-45ec-fabc-fc5e6f07ea40"
      },
      "source": [
        "naics_25_returns"
      ],
      "execution_count": null,
      "outputs": [
        {
          "output_type": "execute_result",
          "data": {
            "text/html": [
              "<div>\n",
              "<style scoped>\n",
              "    .dataframe tbody tr th:only-of-type {\n",
              "        vertical-align: middle;\n",
              "    }\n",
              "\n",
              "    .dataframe tbody tr th {\n",
              "        vertical-align: top;\n",
              "    }\n",
              "\n",
              "    .dataframe thead th {\n",
              "        text-align: right;\n",
              "    }\n",
              "</style>\n",
              "<table border=\"1\" class=\"dataframe\">\n",
              "  <thead>\n",
              "    <tr style=\"text-align: right;\">\n",
              "      <th></th>\n",
              "      <th>TICKER</th>\n",
              "      <th>RetEarly2020</th>\n",
              "      <th>RetLate2020</th>\n",
              "      <th>NAICS</th>\n",
              "    </tr>\n",
              "  </thead>\n",
              "  <tbody>\n",
              "    <tr>\n",
              "      <th>0</th>\n",
              "      <td>ORCL</td>\n",
              "      <td>-0.083596</td>\n",
              "      <td>0.356166</td>\n",
              "      <td>519130</td>\n",
              "    </tr>\n",
              "    <tr>\n",
              "      <th>1</th>\n",
              "      <td>MSFT</td>\n",
              "      <td>0.003212</td>\n",
              "      <td>0.421139</td>\n",
              "      <td>511210</td>\n",
              "    </tr>\n",
              "    <tr>\n",
              "      <th>2</th>\n",
              "      <td>RGEN</td>\n",
              "      <td>0.043676</td>\n",
              "      <td>0.984981</td>\n",
              "      <td>325414</td>\n",
              "    </tr>\n",
              "    <tr>\n",
              "      <th>3</th>\n",
              "      <td>PTVCB</td>\n",
              "      <td>-0.139439</td>\n",
              "      <td>0.018376</td>\n",
              "      <td>524126</td>\n",
              "    </tr>\n",
              "    <tr>\n",
              "      <th>4</th>\n",
              "      <td>INDB</td>\n",
              "      <td>-0.221261</td>\n",
              "      <td>0.159762</td>\n",
              "      <td>522110</td>\n",
              "    </tr>\n",
              "    <tr>\n",
              "      <th>...</th>\n",
              "      <td>...</td>\n",
              "      <td>...</td>\n",
              "      <td>...</td>\n",
              "      <td>...</td>\n",
              "    </tr>\n",
              "    <tr>\n",
              "      <th>1311</th>\n",
              "      <td>CDXS</td>\n",
              "      <td>-0.302063</td>\n",
              "      <td>0.956094</td>\n",
              "      <td>325414</td>\n",
              "    </tr>\n",
              "    <tr>\n",
              "      <th>1312</th>\n",
              "      <td>SPSC</td>\n",
              "      <td>-0.160772</td>\n",
              "      <td>1.334771</td>\n",
              "      <td>519130</td>\n",
              "    </tr>\n",
              "    <tr>\n",
              "      <th>1313</th>\n",
              "      <td>CRMD</td>\n",
              "      <td>-0.506867</td>\n",
              "      <td>1.069637</td>\n",
              "      <td>325414</td>\n",
              "    </tr>\n",
              "    <tr>\n",
              "      <th>1314</th>\n",
              "      <td>HPP</td>\n",
              "      <td>-0.319787</td>\n",
              "      <td>-0.022453</td>\n",
              "      <td>531120</td>\n",
              "    </tr>\n",
              "    <tr>\n",
              "      <th>1315</th>\n",
              "      <td>VPG</td>\n",
              "      <td>-0.409412</td>\n",
              "      <td>0.567728</td>\n",
              "      <td>334413</td>\n",
              "    </tr>\n",
              "  </tbody>\n",
              "</table>\n",
              "<p>1314 rows × 4 columns</p>\n",
              "</div>"
            ],
            "text/plain": [
              "     TICKER  RetEarly2020  RetLate2020   NAICS\n",
              "0      ORCL     -0.083596     0.356166  519130\n",
              "1      MSFT      0.003212     0.421139  511210\n",
              "2      RGEN      0.043676     0.984981  325414\n",
              "3     PTVCB     -0.139439     0.018376  524126\n",
              "4      INDB     -0.221261     0.159762  522110\n",
              "...     ...           ...          ...     ...\n",
              "1311   CDXS     -0.302063     0.956094  325414\n",
              "1312   SPSC     -0.160772     1.334771  519130\n",
              "1313   CRMD     -0.506867     1.069637  325414\n",
              "1314    HPP     -0.319787    -0.022453  531120\n",
              "1315    VPG     -0.409412     0.567728  334413\n",
              "\n",
              "[1314 rows x 4 columns]"
            ]
          },
          "metadata": {
            "tags": []
          },
          "execution_count": 10
        }
      ]
    },
    {
      "cell_type": "markdown",
      "metadata": {
        "id": "1KDuPQmev23I"
      },
      "source": [
        "## SIC Table"
      ]
    },
    {
      "cell_type": "code",
      "metadata": {
        "id": "Z6vfB8_xPtX5"
      },
      "source": [
        "df1_25_cnt = df1.groupby('SIC')['SIC'].count().sort_values(ascending=False)[:25]\n",
        "df1_25_cnt = pd.DataFrame(df1_25_cnt)\n",
        "df1_25_cnt.rename(columns={'SIC': 'Count'}, inplace=True)\n",
        "df1_25_cnt.reset_index(inplace=True)\n",
        "\n",
        "sic_list = []\n",
        "for i in df1_25_cnt.SIC:\n",
        "  sic_list.append(i)\n",
        "\n",
        "sic_25 = df1[df1['SIC'].isin(sic_list)]"
      ],
      "execution_count": null,
      "outputs": []
    },
    {
      "cell_type": "code",
      "metadata": {
        "colab": {
          "base_uri": "https://localhost:8080/"
        },
        "id": "_GffpMzNwS4_",
        "outputId": "48a9122a-501c-44ac-dcea-11f5aab194d4"
      },
      "source": [
        "sic_25_returns = pd.merge(returns, sic_25, on='TICKER')\n",
        "sic_25_returns.info()"
      ],
      "execution_count": null,
      "outputs": [
        {
          "output_type": "stream",
          "text": [
            "<class 'pandas.core.frame.DataFrame'>\n",
            "Int64Index: 1395 entries, 0 to 1394\n",
            "Data columns (total 4 columns):\n",
            " #   Column        Non-Null Count  Dtype  \n",
            "---  ------        --------------  -----  \n",
            " 0   TICKER        1395 non-null   object \n",
            " 1   RetEarly2020  1395 non-null   object \n",
            " 2   RetLate2020   1395 non-null   float64\n",
            " 3   SIC           1395 non-null   int64  \n",
            "dtypes: float64(1), int64(1), object(2)\n",
            "memory usage: 54.5+ KB\n"
          ],
          "name": "stdout"
        }
      ]
    },
    {
      "cell_type": "markdown",
      "metadata": {
        "id": "Aw5857_Cwgt8"
      },
      "source": [
        "Since the datatype of the RetEarly2020 column is object, we need to adjust it to float64 for better statistical summary analysis."
      ]
    },
    {
      "cell_type": "code",
      "metadata": {
        "colab": {
          "base_uri": "https://localhost:8080/"
        },
        "id": "31lCR2JbweHQ",
        "outputId": "79ac1290-582f-4056-b0bc-75048c82bb93"
      },
      "source": [
        "#get ride of null value \n",
        "sic_25_returns.drop(sic_25_returns.loc[sic_25_returns['RetEarly2020']  == '#VALUE!'].index, inplace=True)\n",
        "#convert the RetEarly2020 column to numeric\n",
        "sic_25_returns['RetEarly2020'] = pd.to_numeric(sic_25_returns['RetEarly2020'])\n",
        "\n",
        "sic_25_returns.info()"
      ],
      "execution_count": null,
      "outputs": [
        {
          "output_type": "stream",
          "text": [
            "<class 'pandas.core.frame.DataFrame'>\n",
            "Int64Index: 1393 entries, 0 to 1394\n",
            "Data columns (total 4 columns):\n",
            " #   Column        Non-Null Count  Dtype  \n",
            "---  ------        --------------  -----  \n",
            " 0   TICKER        1393 non-null   object \n",
            " 1   RetEarly2020  1393 non-null   float64\n",
            " 2   RetLate2020   1393 non-null   float64\n",
            " 3   SIC           1393 non-null   int64  \n",
            "dtypes: float64(2), int64(1), object(1)\n",
            "memory usage: 54.4+ KB\n"
          ],
          "name": "stdout"
        }
      ]
    },
    {
      "cell_type": "code",
      "metadata": {
        "colab": {
          "base_uri": "https://localhost:8080/",
          "height": 419
        },
        "id": "UBGX3N2acTTH",
        "outputId": "94bf0347-cf33-46d5-ead4-9e2585b5347e"
      },
      "source": [
        "sic_25_returns"
      ],
      "execution_count": null,
      "outputs": [
        {
          "output_type": "execute_result",
          "data": {
            "text/html": [
              "<div>\n",
              "<style scoped>\n",
              "    .dataframe tbody tr th:only-of-type {\n",
              "        vertical-align: middle;\n",
              "    }\n",
              "\n",
              "    .dataframe tbody tr th {\n",
              "        vertical-align: top;\n",
              "    }\n",
              "\n",
              "    .dataframe thead th {\n",
              "        text-align: right;\n",
              "    }\n",
              "</style>\n",
              "<table border=\"1\" class=\"dataframe\">\n",
              "  <thead>\n",
              "    <tr style=\"text-align: right;\">\n",
              "      <th></th>\n",
              "      <th>TICKER</th>\n",
              "      <th>RetEarly2020</th>\n",
              "      <th>RetLate2020</th>\n",
              "      <th>SIC</th>\n",
              "    </tr>\n",
              "  </thead>\n",
              "  <tbody>\n",
              "    <tr>\n",
              "      <th>0</th>\n",
              "      <td>ORCL</td>\n",
              "      <td>-0.083596</td>\n",
              "      <td>0.356166</td>\n",
              "      <td>7370</td>\n",
              "    </tr>\n",
              "    <tr>\n",
              "      <th>1</th>\n",
              "      <td>MSFT</td>\n",
              "      <td>0.003212</td>\n",
              "      <td>0.421139</td>\n",
              "      <td>7372</td>\n",
              "    </tr>\n",
              "    <tr>\n",
              "      <th>2</th>\n",
              "      <td>TROW</td>\n",
              "      <td>-0.191152</td>\n",
              "      <td>0.581942</td>\n",
              "      <td>6282</td>\n",
              "    </tr>\n",
              "    <tr>\n",
              "      <th>3</th>\n",
              "      <td>RGEN</td>\n",
              "      <td>0.043676</td>\n",
              "      <td>0.984981</td>\n",
              "      <td>2836</td>\n",
              "    </tr>\n",
              "    <tr>\n",
              "      <th>4</th>\n",
              "      <td>PTVCB</td>\n",
              "      <td>-0.139439</td>\n",
              "      <td>0.018376</td>\n",
              "      <td>6331</td>\n",
              "    </tr>\n",
              "    <tr>\n",
              "      <th>...</th>\n",
              "      <td>...</td>\n",
              "      <td>...</td>\n",
              "      <td>...</td>\n",
              "      <td>...</td>\n",
              "    </tr>\n",
              "    <tr>\n",
              "      <th>1390</th>\n",
              "      <td>CDXS</td>\n",
              "      <td>-0.302063</td>\n",
              "      <td>0.956094</td>\n",
              "      <td>2836</td>\n",
              "    </tr>\n",
              "    <tr>\n",
              "      <th>1391</th>\n",
              "      <td>SPSC</td>\n",
              "      <td>-0.160772</td>\n",
              "      <td>1.334771</td>\n",
              "      <td>7370</td>\n",
              "    </tr>\n",
              "    <tr>\n",
              "      <th>1392</th>\n",
              "      <td>CRMD</td>\n",
              "      <td>-0.506867</td>\n",
              "      <td>1.069637</td>\n",
              "      <td>2836</td>\n",
              "    </tr>\n",
              "    <tr>\n",
              "      <th>1393</th>\n",
              "      <td>HPP</td>\n",
              "      <td>-0.319787</td>\n",
              "      <td>-0.022453</td>\n",
              "      <td>6798</td>\n",
              "    </tr>\n",
              "    <tr>\n",
              "      <th>1394</th>\n",
              "      <td>VPG</td>\n",
              "      <td>-0.409412</td>\n",
              "      <td>0.567728</td>\n",
              "      <td>3674</td>\n",
              "    </tr>\n",
              "  </tbody>\n",
              "</table>\n",
              "<p>1393 rows × 4 columns</p>\n",
              "</div>"
            ],
            "text/plain": [
              "     TICKER  RetEarly2020  RetLate2020   SIC\n",
              "0      ORCL     -0.083596     0.356166  7370\n",
              "1      MSFT      0.003212     0.421139  7372\n",
              "2      TROW     -0.191152     0.581942  6282\n",
              "3      RGEN      0.043676     0.984981  2836\n",
              "4     PTVCB     -0.139439     0.018376  6331\n",
              "...     ...           ...          ...   ...\n",
              "1390   CDXS     -0.302063     0.956094  2836\n",
              "1391   SPSC     -0.160772     1.334771  7370\n",
              "1392   CRMD     -0.506867     1.069637  2836\n",
              "1393    HPP     -0.319787    -0.022453  6798\n",
              "1394    VPG     -0.409412     0.567728  3674\n",
              "\n",
              "[1393 rows x 4 columns]"
            ]
          },
          "metadata": {
            "tags": []
          },
          "execution_count": 14
        }
      ]
    },
    {
      "cell_type": "markdown",
      "metadata": {
        "id": "P-SwSU8gwFgA"
      },
      "source": [
        "## GGROUP Table"
      ]
    },
    {
      "cell_type": "code",
      "metadata": {
        "colab": {
          "base_uri": "https://localhost:8080/",
          "height": 419
        },
        "id": "l9YADcNhwE2t",
        "outputId": "54d234a3-7849-47b8-bc70-b3c4928f49ac"
      },
      "source": [
        "ggroup_returns = pd.read_csv('assign4.csv')\n",
        "ggroup_returns.drop(columns=['Unnamed: 0'], inplace=True)\n",
        "ggroup_returns"
      ],
      "execution_count": null,
      "outputs": [
        {
          "output_type": "execute_result",
          "data": {
            "text/html": [
              "<div>\n",
              "<style scoped>\n",
              "    .dataframe tbody tr th:only-of-type {\n",
              "        vertical-align: middle;\n",
              "    }\n",
              "\n",
              "    .dataframe tbody tr th {\n",
              "        vertical-align: top;\n",
              "    }\n",
              "\n",
              "    .dataframe thead th {\n",
              "        text-align: right;\n",
              "    }\n",
              "</style>\n",
              "<table border=\"1\" class=\"dataframe\">\n",
              "  <thead>\n",
              "    <tr style=\"text-align: right;\">\n",
              "      <th></th>\n",
              "      <th>TICKER</th>\n",
              "      <th>RetEarly2020</th>\n",
              "      <th>RetLate2020</th>\n",
              "      <th>GGROUP</th>\n",
              "    </tr>\n",
              "  </thead>\n",
              "  <tbody>\n",
              "    <tr>\n",
              "      <th>0</th>\n",
              "      <td>JJSF</td>\n",
              "      <td>-0.340234</td>\n",
              "      <td>0.300340</td>\n",
              "      <td>3020</td>\n",
              "    </tr>\n",
              "    <tr>\n",
              "      <th>1</th>\n",
              "      <td>PLXS</td>\n",
              "      <td>-0.290876</td>\n",
              "      <td>0.433469</td>\n",
              "      <td>4520</td>\n",
              "    </tr>\n",
              "    <tr>\n",
              "      <th>2</th>\n",
              "      <td>HNGR</td>\n",
              "      <td>-0.435712</td>\n",
              "      <td>0.411425</td>\n",
              "      <td>3510</td>\n",
              "    </tr>\n",
              "    <tr>\n",
              "      <th>3</th>\n",
              "      <td>ORCL</td>\n",
              "      <td>-0.083596</td>\n",
              "      <td>0.356166</td>\n",
              "      <td>4510</td>\n",
              "    </tr>\n",
              "    <tr>\n",
              "      <th>4</th>\n",
              "      <td>MSFT</td>\n",
              "      <td>0.003212</td>\n",
              "      <td>0.421139</td>\n",
              "      <td>4510</td>\n",
              "    </tr>\n",
              "    <tr>\n",
              "      <th>...</th>\n",
              "      <td>...</td>\n",
              "      <td>...</td>\n",
              "      <td>...</td>\n",
              "      <td>...</td>\n",
              "    </tr>\n",
              "    <tr>\n",
              "      <th>2661</th>\n",
              "      <td>SIX</td>\n",
              "      <td>-0.716471</td>\n",
              "      <td>1.719300</td>\n",
              "      <td>2530</td>\n",
              "    </tr>\n",
              "    <tr>\n",
              "      <th>2662</th>\n",
              "      <td>VPG</td>\n",
              "      <td>-0.409412</td>\n",
              "      <td>0.567728</td>\n",
              "      <td>4520</td>\n",
              "    </tr>\n",
              "    <tr>\n",
              "      <th>2663</th>\n",
              "      <td>FN</td>\n",
              "      <td>-0.158545</td>\n",
              "      <td>0.422103</td>\n",
              "      <td>4520</td>\n",
              "    </tr>\n",
              "    <tr>\n",
              "      <th>2664</th>\n",
              "      <td>CBOE</td>\n",
              "      <td>-0.253901</td>\n",
              "      <td>0.056516</td>\n",
              "      <td>4020</td>\n",
              "    </tr>\n",
              "    <tr>\n",
              "      <th>2665</th>\n",
              "      <td>TSLA</td>\n",
              "      <td>0.252599</td>\n",
              "      <td>5.733495</td>\n",
              "      <td>2510</td>\n",
              "    </tr>\n",
              "  </tbody>\n",
              "</table>\n",
              "<p>2666 rows × 4 columns</p>\n",
              "</div>"
            ],
            "text/plain": [
              "     TICKER  RetEarly2020  RetLate2020  GGROUP\n",
              "0      JJSF     -0.340234     0.300340    3020\n",
              "1      PLXS     -0.290876     0.433469    4520\n",
              "2      HNGR     -0.435712     0.411425    3510\n",
              "3      ORCL     -0.083596     0.356166    4510\n",
              "4      MSFT      0.003212     0.421139    4510\n",
              "...     ...           ...          ...     ...\n",
              "2661    SIX     -0.716471     1.719300    2530\n",
              "2662    VPG     -0.409412     0.567728    4520\n",
              "2663     FN     -0.158545     0.422103    4520\n",
              "2664   CBOE     -0.253901     0.056516    4020\n",
              "2665   TSLA      0.252599     5.733495    2510\n",
              "\n",
              "[2666 rows x 4 columns]"
            ]
          },
          "metadata": {
            "tags": []
          },
          "execution_count": 15
        }
      ]
    },
    {
      "cell_type": "markdown",
      "metadata": {
        "id": "5rq07dPLwJmI"
      },
      "source": [
        "## GSECTOR Table"
      ]
    },
    {
      "cell_type": "code",
      "metadata": {
        "colab": {
          "base_uri": "https://localhost:8080/"
        },
        "id": "pvZO6E6MwMHe",
        "outputId": "131f9a05-7a80-4361-8dec-5dadc8b33cc0"
      },
      "source": [
        "gs = pd.read_csv('tempGICS_sector.csv')\n",
        "gsector_returns = pd.merge(returns, gs, on='TICKER')\n",
        "gsector_returns.info()"
      ],
      "execution_count": null,
      "outputs": [
        {
          "output_type": "stream",
          "text": [
            "<class 'pandas.core.frame.DataFrame'>\n",
            "Int64Index: 2671 entries, 0 to 2670\n",
            "Data columns (total 4 columns):\n",
            " #   Column        Non-Null Count  Dtype  \n",
            "---  ------        --------------  -----  \n",
            " 0   TICKER        2671 non-null   object \n",
            " 1   RetEarly2020  2671 non-null   object \n",
            " 2   RetLate2020   2671 non-null   float64\n",
            " 3   GSECTOR       2671 non-null   int64  \n",
            "dtypes: float64(1), int64(1), object(2)\n",
            "memory usage: 104.3+ KB\n"
          ],
          "name": "stdout"
        }
      ]
    },
    {
      "cell_type": "markdown",
      "metadata": {
        "id": "_LjJ5XDUyBur"
      },
      "source": [
        "Same as before, as the datatype of the RetEarly2020 column is object, we need to adjust it to float64 for better statistical summary analysis."
      ]
    },
    {
      "cell_type": "code",
      "metadata": {
        "colab": {
          "base_uri": "https://localhost:8080/"
        },
        "id": "8XJo2xP9wMMb",
        "outputId": "728897bd-1c3d-4dea-a0ec-cfbd30820588"
      },
      "source": [
        "#get ride of null value \n",
        "gsector_returns.drop(gsector_returns.loc[gsector_returns['RetEarly2020']  == '#VALUE!'].index, inplace=True)\n",
        "#convert the RetEarly2020 column to numeric\n",
        "gsector_returns['RetEarly2020'] = pd.to_numeric(gsector_returns['RetEarly2020'])\n",
        "\n",
        "gsector_returns.info()"
      ],
      "execution_count": null,
      "outputs": [
        {
          "output_type": "stream",
          "text": [
            "<class 'pandas.core.frame.DataFrame'>\n",
            "Int64Index: 2666 entries, 0 to 2670\n",
            "Data columns (total 4 columns):\n",
            " #   Column        Non-Null Count  Dtype  \n",
            "---  ------        --------------  -----  \n",
            " 0   TICKER        2666 non-null   object \n",
            " 1   RetEarly2020  2666 non-null   float64\n",
            " 2   RetLate2020   2666 non-null   float64\n",
            " 3   GSECTOR       2666 non-null   int64  \n",
            "dtypes: float64(2), int64(1), object(1)\n",
            "memory usage: 104.1+ KB\n"
          ],
          "name": "stdout"
        }
      ]
    },
    {
      "cell_type": "code",
      "metadata": {
        "colab": {
          "base_uri": "https://localhost:8080/",
          "height": 419
        },
        "id": "xCBEFCI0dJ9V",
        "outputId": "4404bd44-ae17-45f1-8200-f85974a1808d"
      },
      "source": [
        "gsector_returns"
      ],
      "execution_count": null,
      "outputs": [
        {
          "output_type": "execute_result",
          "data": {
            "text/html": [
              "<div>\n",
              "<style scoped>\n",
              "    .dataframe tbody tr th:only-of-type {\n",
              "        vertical-align: middle;\n",
              "    }\n",
              "\n",
              "    .dataframe tbody tr th {\n",
              "        vertical-align: top;\n",
              "    }\n",
              "\n",
              "    .dataframe thead th {\n",
              "        text-align: right;\n",
              "    }\n",
              "</style>\n",
              "<table border=\"1\" class=\"dataframe\">\n",
              "  <thead>\n",
              "    <tr style=\"text-align: right;\">\n",
              "      <th></th>\n",
              "      <th>TICKER</th>\n",
              "      <th>RetEarly2020</th>\n",
              "      <th>RetLate2020</th>\n",
              "      <th>GSECTOR</th>\n",
              "    </tr>\n",
              "  </thead>\n",
              "  <tbody>\n",
              "    <tr>\n",
              "      <th>0</th>\n",
              "      <td>JJSF</td>\n",
              "      <td>-0.340234</td>\n",
              "      <td>0.300340</td>\n",
              "      <td>30</td>\n",
              "    </tr>\n",
              "    <tr>\n",
              "      <th>1</th>\n",
              "      <td>PLXS</td>\n",
              "      <td>-0.290876</td>\n",
              "      <td>0.433469</td>\n",
              "      <td>45</td>\n",
              "    </tr>\n",
              "    <tr>\n",
              "      <th>2</th>\n",
              "      <td>HNGR</td>\n",
              "      <td>-0.435712</td>\n",
              "      <td>0.411425</td>\n",
              "      <td>35</td>\n",
              "    </tr>\n",
              "    <tr>\n",
              "      <th>3</th>\n",
              "      <td>ORCL</td>\n",
              "      <td>-0.083596</td>\n",
              "      <td>0.356166</td>\n",
              "      <td>45</td>\n",
              "    </tr>\n",
              "    <tr>\n",
              "      <th>4</th>\n",
              "      <td>MSFT</td>\n",
              "      <td>0.003212</td>\n",
              "      <td>0.421139</td>\n",
              "      <td>45</td>\n",
              "    </tr>\n",
              "    <tr>\n",
              "      <th>...</th>\n",
              "      <td>...</td>\n",
              "      <td>...</td>\n",
              "      <td>...</td>\n",
              "      <td>...</td>\n",
              "    </tr>\n",
              "    <tr>\n",
              "      <th>2666</th>\n",
              "      <td>SIX</td>\n",
              "      <td>-0.716471</td>\n",
              "      <td>1.719300</td>\n",
              "      <td>25</td>\n",
              "    </tr>\n",
              "    <tr>\n",
              "      <th>2667</th>\n",
              "      <td>VPG</td>\n",
              "      <td>-0.409412</td>\n",
              "      <td>0.567728</td>\n",
              "      <td>45</td>\n",
              "    </tr>\n",
              "    <tr>\n",
              "      <th>2668</th>\n",
              "      <td>FN</td>\n",
              "      <td>-0.158545</td>\n",
              "      <td>0.422103</td>\n",
              "      <td>45</td>\n",
              "    </tr>\n",
              "    <tr>\n",
              "      <th>2669</th>\n",
              "      <td>CBOE</td>\n",
              "      <td>-0.253901</td>\n",
              "      <td>0.056516</td>\n",
              "      <td>40</td>\n",
              "    </tr>\n",
              "    <tr>\n",
              "      <th>2670</th>\n",
              "      <td>TSLA</td>\n",
              "      <td>0.252599</td>\n",
              "      <td>5.733495</td>\n",
              "      <td>25</td>\n",
              "    </tr>\n",
              "  </tbody>\n",
              "</table>\n",
              "<p>2666 rows × 4 columns</p>\n",
              "</div>"
            ],
            "text/plain": [
              "     TICKER  RetEarly2020  RetLate2020  GSECTOR\n",
              "0      JJSF     -0.340234     0.300340       30\n",
              "1      PLXS     -0.290876     0.433469       45\n",
              "2      HNGR     -0.435712     0.411425       35\n",
              "3      ORCL     -0.083596     0.356166       45\n",
              "4      MSFT      0.003212     0.421139       45\n",
              "...     ...           ...          ...      ...\n",
              "2666    SIX     -0.716471     1.719300       25\n",
              "2667    VPG     -0.409412     0.567728       45\n",
              "2668     FN     -0.158545     0.422103       45\n",
              "2669   CBOE     -0.253901     0.056516       40\n",
              "2670   TSLA      0.252599     5.733495       25\n",
              "\n",
              "[2666 rows x 4 columns]"
            ]
          },
          "metadata": {
            "tags": []
          },
          "execution_count": 18
        }
      ]
    },
    {
      "cell_type": "markdown",
      "metadata": {
        "id": "ugMmFA7Bx32v"
      },
      "source": [
        "For this project, I am going to looking at three main aspects that could explain varying exposures to Covid-19 Market Shock for both early and late 2020. They are **industries&sectors**, **textual analysis of company business models** and **financial accounting characteristics**.  "
      ]
    },
    {
      "cell_type": "markdown",
      "metadata": {
        "id": "VLTITB9Ww3Ut"
      },
      "source": [
        "# Does Industry or Sector Explain Differences in Stock Returns for Early and Late 2020?"
      ]
    },
    {
      "cell_type": "markdown",
      "metadata": {
        "id": "3l4noH1JimnX"
      },
      "source": [
        "For better analysis, for NAICS and SIC we only chose the top 25 industries that have the most companies."
      ]
    },
    {
      "cell_type": "markdown",
      "metadata": {
        "id": "RYNgLIYJfvrH"
      },
      "source": [
        "## Average Stock Returns for Each Industry"
      ]
    },
    {
      "cell_type": "markdown",
      "metadata": {
        "id": "OsUzIMjpdht_"
      },
      "source": [
        "### NAICS"
      ]
    },
    {
      "cell_type": "code",
      "metadata": {
        "colab": {
          "base_uri": "https://localhost:8080/"
        },
        "id": "tNJ6IOn_w_Pq",
        "outputId": "4b172084-7b05-45ac-8e93-bdac038a054e"
      },
      "source": [
        "#ReturnEarly2020\n",
        "for i in naics_25_returns.NAICS.unique():\n",
        "  print(f\"The average stock return for industry {i} is: {round(naics_25_returns[naics_25_returns['NAICS'] == i].RetEarly2020.mean(), 3)}.\")"
      ],
      "execution_count": null,
      "outputs": [
        {
          "output_type": "stream",
          "text": [
            "The average stock return for industry 519130 is: -0.133.\n",
            "The average stock return for industry 511210 is: -0.145.\n",
            "The average stock return for industry 325414 is: -0.106.\n",
            "The average stock return for industry 524126 is: -0.245.\n",
            "The average stock return for industry 522110 is: -0.372.\n",
            "The average stock return for industry 325412 is: -0.232.\n",
            "The average stock return for industry 531120 is: -0.336.\n",
            "The average stock return for industry 325413 is: 0.187.\n",
            "The average stock return for industry 518210 is: -0.235.\n",
            "The average stock return for industry 541512 is: -0.173.\n",
            "The average stock return for industry 522120 is: -0.324.\n",
            "The average stock return for industry 339113 is: -0.294.\n",
            "The average stock return for industry 334413 is: -0.229.\n",
            "The average stock return for industry 523920 is: -0.342.\n",
            "The average stock return for industry 22111 is: -0.179.\n",
            "The average stock return for industry 334510 is: -0.154.\n",
            "The average stock return for industry 339112 is: -0.099.\n",
            "The average stock return for industry 2211 is: -0.156.\n",
            "The average stock return for industry 334516 is: -0.192.\n",
            "The average stock return for industry 483111 is: -0.316.\n",
            "The average stock return for industry 531110 is: -0.371.\n",
            "The average stock return for industry 221210 is: -0.197.\n",
            "The average stock return for industry 2111 is: -0.63.\n",
            "The average stock return for industry 525990 is: -0.562.\n",
            "The average stock return for industry 722511 is: -0.451.\n"
          ],
          "name": "stdout"
        }
      ]
    },
    {
      "cell_type": "code",
      "metadata": {
        "id": "I5kfb3DUxB2M"
      },
      "source": [
        "list1 = []\n",
        "for i in naics_25_returns.NAICS.unique():\n",
        "    list1.append((i,round(naics_25_returns[naics_25_returns['NAICS'] == i].RetEarly2020.mean(), 3)))"
      ],
      "execution_count": null,
      "outputs": []
    },
    {
      "cell_type": "code",
      "metadata": {
        "colab": {
          "base_uri": "https://localhost:8080/",
          "height": 80
        },
        "id": "oKdgbPxzxB5C",
        "outputId": "30261ec3-a120-47c2-eeb3-b15523afbf3c"
      },
      "source": [
        "early_2020 = pd.DataFrame(list1, columns=['NAICS', 'AVG'])\n",
        "early_2020[early_2020['AVG'] == max(early_2020['AVG'])]"
      ],
      "execution_count": null,
      "outputs": [
        {
          "output_type": "execute_result",
          "data": {
            "text/html": [
              "<div>\n",
              "<style scoped>\n",
              "    .dataframe tbody tr th:only-of-type {\n",
              "        vertical-align: middle;\n",
              "    }\n",
              "\n",
              "    .dataframe tbody tr th {\n",
              "        vertical-align: top;\n",
              "    }\n",
              "\n",
              "    .dataframe thead th {\n",
              "        text-align: right;\n",
              "    }\n",
              "</style>\n",
              "<table border=\"1\" class=\"dataframe\">\n",
              "  <thead>\n",
              "    <tr style=\"text-align: right;\">\n",
              "      <th></th>\n",
              "      <th>NAICS</th>\n",
              "      <th>AVG</th>\n",
              "    </tr>\n",
              "  </thead>\n",
              "  <tbody>\n",
              "    <tr>\n",
              "      <th>7</th>\n",
              "      <td>325413</td>\n",
              "      <td>0.187</td>\n",
              "    </tr>\n",
              "  </tbody>\n",
              "</table>\n",
              "</div>"
            ],
            "text/plain": [
              "    NAICS    AVG\n",
              "7  325413  0.187"
            ]
          },
          "metadata": {
            "tags": []
          },
          "execution_count": 21
        }
      ]
    },
    {
      "cell_type": "markdown",
      "metadata": {
        "id": "Arh0V1t1iE-N"
      },
      "source": [
        "The highest return industry for early 2020 is In-Vitro Diagnostic Substance Manufacturing. The rest of the industries have the negative average returns for early 2020, only the In-Vitro Diagnostic Substance Manufacturing has the positive early 2020 returns. This makes sense because the economy got hit hard during covid and every industry is on the decline, but this particular industry is resilient and specially needed to manufacture covid need medical solutions. \n",
        "\n"
      ]
    },
    {
      "cell_type": "code",
      "metadata": {
        "colab": {
          "base_uri": "https://localhost:8080/",
          "height": 80
        },
        "id": "2qM87_84hH6H",
        "outputId": "847f52bb-0152-40c8-b15d-a1d99a4281a7"
      },
      "source": [
        "early_2020[early_2020['AVG'] == min(early_2020['AVG'])]"
      ],
      "execution_count": null,
      "outputs": [
        {
          "output_type": "execute_result",
          "data": {
            "text/html": [
              "<div>\n",
              "<style scoped>\n",
              "    .dataframe tbody tr th:only-of-type {\n",
              "        vertical-align: middle;\n",
              "    }\n",
              "\n",
              "    .dataframe tbody tr th {\n",
              "        vertical-align: top;\n",
              "    }\n",
              "\n",
              "    .dataframe thead th {\n",
              "        text-align: right;\n",
              "    }\n",
              "</style>\n",
              "<table border=\"1\" class=\"dataframe\">\n",
              "  <thead>\n",
              "    <tr style=\"text-align: right;\">\n",
              "      <th></th>\n",
              "      <th>NAICS</th>\n",
              "      <th>AVG</th>\n",
              "    </tr>\n",
              "  </thead>\n",
              "  <tbody>\n",
              "    <tr>\n",
              "      <th>22</th>\n",
              "      <td>2111</td>\n",
              "      <td>-0.63</td>\n",
              "    </tr>\n",
              "  </tbody>\n",
              "</table>\n",
              "</div>"
            ],
            "text/plain": [
              "    NAICS   AVG\n",
              "22   2111 -0.63"
            ]
          },
          "metadata": {
            "tags": []
          },
          "execution_count": 22
        }
      ]
    },
    {
      "cell_type": "markdown",
      "metadata": {
        "id": "POSLN1ng1mPi"
      },
      "source": [
        "The lowest return industry for early 2020 is Oil and Gas Extraction. Because of the quarantine, people rarely went out for trips or work. They had to stay at home to avoid getting the covid. People barely used the car and consumed gas, the demand went down and that's why the energy industry was going down at that time and has the lowest return for early 2020 among all other industries.\n"
      ]
    },
    {
      "cell_type": "code",
      "metadata": {
        "colab": {
          "base_uri": "https://localhost:8080/"
        },
        "id": "4Nbr3LN4hIH3",
        "outputId": "49a70c66-6197-4a08-c57f-2aa899dccad2"
      },
      "source": [
        "#ReturnLate2020\n",
        "for i in naics_25_returns.NAICS.unique():\n",
        "  print(f\"The average stock return for industry {i} is: {round(naics_25_returns[naics_25_returns['NAICS'] == i].RetLate2020.mean(), 3)}.\")"
      ],
      "execution_count": null,
      "outputs": [
        {
          "output_type": "stream",
          "text": [
            "The average stock return for industry 519130 is: 1.093.\n",
            "The average stock return for industry 511210 is: 1.077.\n",
            "The average stock return for industry 325414 is: 0.793.\n",
            "The average stock return for industry 524126 is: 0.219.\n",
            "The average stock return for industry 522110 is: 0.424.\n",
            "The average stock return for industry 325412 is: 0.351.\n",
            "The average stock return for industry 531120 is: 0.371.\n",
            "The average stock return for industry 325413 is: 1.013.\n",
            "The average stock return for industry 518210 is: 1.166.\n",
            "The average stock return for industry 541512 is: 0.559.\n",
            "The average stock return for industry 522120 is: 0.323.\n",
            "The average stock return for industry 339113 is: 0.737.\n",
            "The average stock return for industry 334413 is: 1.433.\n",
            "The average stock return for industry 523920 is: 0.837.\n",
            "The average stock return for industry 22111 is: 0.133.\n",
            "The average stock return for industry 334510 is: 0.732.\n",
            "The average stock return for industry 339112 is: 0.414.\n",
            "The average stock return for industry 2211 is: 0.223.\n",
            "The average stock return for industry 334516 is: 1.139.\n",
            "The average stock return for industry 483111 is: -0.019.\n",
            "The average stock return for industry 531110 is: 0.436.\n",
            "The average stock return for industry 221210 is: 0.085.\n",
            "The average stock return for industry 2111 is: 1.729.\n",
            "The average stock return for industry 525990 is: 0.824.\n",
            "The average stock return for industry 722511 is: 1.184.\n"
          ],
          "name": "stdout"
        }
      ]
    },
    {
      "cell_type": "code",
      "metadata": {
        "id": "opxjgwKRhIKL"
      },
      "source": [
        "list2 = []\n",
        "for i in naics_25_returns.NAICS.unique():\n",
        "    list2.append((i,round(naics_25_returns[naics_25_returns['NAICS'] == i].RetLate2020.mean(), 3)))"
      ],
      "execution_count": null,
      "outputs": []
    },
    {
      "cell_type": "code",
      "metadata": {
        "colab": {
          "base_uri": "https://localhost:8080/",
          "height": 80
        },
        "id": "9syVRM2e5s0f",
        "outputId": "3cae9a35-f5a5-4f80-d858-5c3772efa433"
      },
      "source": [
        "late_2020 = pd.DataFrame(list2, columns=['NAICS', 'AVG'])\n",
        "late_2020[late_2020['AVG'] == max(late_2020['AVG'])]"
      ],
      "execution_count": null,
      "outputs": [
        {
          "output_type": "execute_result",
          "data": {
            "text/html": [
              "<div>\n",
              "<style scoped>\n",
              "    .dataframe tbody tr th:only-of-type {\n",
              "        vertical-align: middle;\n",
              "    }\n",
              "\n",
              "    .dataframe tbody tr th {\n",
              "        vertical-align: top;\n",
              "    }\n",
              "\n",
              "    .dataframe thead th {\n",
              "        text-align: right;\n",
              "    }\n",
              "</style>\n",
              "<table border=\"1\" class=\"dataframe\">\n",
              "  <thead>\n",
              "    <tr style=\"text-align: right;\">\n",
              "      <th></th>\n",
              "      <th>NAICS</th>\n",
              "      <th>AVG</th>\n",
              "    </tr>\n",
              "  </thead>\n",
              "  <tbody>\n",
              "    <tr>\n",
              "      <th>22</th>\n",
              "      <td>2111</td>\n",
              "      <td>1.729</td>\n",
              "    </tr>\n",
              "  </tbody>\n",
              "</table>\n",
              "</div>"
            ],
            "text/plain": [
              "    NAICS    AVG\n",
              "22   2111  1.729"
            ]
          },
          "metadata": {
            "tags": []
          },
          "execution_count": 25
        }
      ]
    },
    {
      "cell_type": "markdown",
      "metadata": {
        "id": "y9nlJus779Ot"
      },
      "source": [
        "The Oil and Gas Extraction industry became the highest return industry for late 2020. Since almost all of the industries have the positive average return for late 2020, it seems like the economy was gradually recovering from the covid hit. People started to going out and traveling. Since the covid still didn't die down and traveling by plane or any other public transportations was restrcited and have the potential risk to be exposed to covid, people chose to travel by car and all of gas and oil demand has gone up. That's why the Oil and Gas Extraction industry were doing great for the late 2020."
      ]
    },
    {
      "cell_type": "code",
      "metadata": {
        "colab": {
          "base_uri": "https://localhost:8080/",
          "height": 80
        },
        "id": "ZFNg-k9C5s5N",
        "outputId": "3e3aae98-ce62-462c-912c-be9a105bc40b"
      },
      "source": [
        "late_2020[late_2020['AVG'] == min(late_2020['AVG'])]"
      ],
      "execution_count": null,
      "outputs": [
        {
          "output_type": "execute_result",
          "data": {
            "text/html": [
              "<div>\n",
              "<style scoped>\n",
              "    .dataframe tbody tr th:only-of-type {\n",
              "        vertical-align: middle;\n",
              "    }\n",
              "\n",
              "    .dataframe tbody tr th {\n",
              "        vertical-align: top;\n",
              "    }\n",
              "\n",
              "    .dataframe thead th {\n",
              "        text-align: right;\n",
              "    }\n",
              "</style>\n",
              "<table border=\"1\" class=\"dataframe\">\n",
              "  <thead>\n",
              "    <tr style=\"text-align: right;\">\n",
              "      <th></th>\n",
              "      <th>NAICS</th>\n",
              "      <th>AVG</th>\n",
              "    </tr>\n",
              "  </thead>\n",
              "  <tbody>\n",
              "    <tr>\n",
              "      <th>19</th>\n",
              "      <td>483111</td>\n",
              "      <td>-0.019</td>\n",
              "    </tr>\n",
              "  </tbody>\n",
              "</table>\n",
              "</div>"
            ],
            "text/plain": [
              "     NAICS    AVG\n",
              "19  483111 -0.019"
            ]
          },
          "metadata": {
            "tags": []
          },
          "execution_count": 26
        }
      ]
    },
    {
      "cell_type": "markdown",
      "metadata": {
        "id": "oXdTl7De9slI"
      },
      "source": [
        "The Deep Sea Freight Transportation industry got hit the worst by the covid in late 2020. It has the lowest return among other industries. While other industries have the positive returns for late 2020, it has the negative return. The global trade demand got hit really bad by the global pandenmic. The trade import from big manufacturer countries like India and China decreased a lot compared to the previous year. \n"
      ]
    },
    {
      "cell_type": "markdown",
      "metadata": {
        "id": "1F67_E-bdnDF"
      },
      "source": [
        "### SIC"
      ]
    },
    {
      "cell_type": "code",
      "metadata": {
        "colab": {
          "base_uri": "https://localhost:8080/"
        },
        "id": "09r2fz6_dmcS",
        "outputId": "bddd7d69-4371-4613-8a5d-348d7ed64e8d"
      },
      "source": [
        "#ReturnEarly2020\n",
        "for i in sic_25_returns.SIC.unique():\n",
        "  print(f\"The average stock return for industry {i} is: {round(sic_25_returns[sic_25_returns['SIC'] == i].RetEarly2020.mean(), 3)}.\")"
      ],
      "execution_count": null,
      "outputs": [
        {
          "output_type": "stream",
          "text": [
            "The average stock return for industry 7370 is: -0.166.\n",
            "The average stock return for industry 7372 is: -0.142.\n",
            "The average stock return for industry 6282 is: -0.294.\n",
            "The average stock return for industry 2836 is: -0.106.\n",
            "The average stock return for industry 6331 is: -0.219.\n",
            "The average stock return for industry 6020 is: -0.371.\n",
            "The average stock return for industry 2834 is: -0.232.\n",
            "The average stock return for industry 2835 is: 0.187.\n",
            "The average stock return for industry 7374 is: -0.289.\n",
            "The average stock return for industry 7373 is: -0.141.\n",
            "The average stock return for industry 6035 is: -0.317.\n",
            "The average stock return for industry 3842 is: -0.307.\n",
            "The average stock return for industry 3674 is: -0.229.\n",
            "The average stock return for industry 5500 is: -0.426.\n",
            "The average stock return for industry 4931 is: -0.168.\n",
            "The average stock return for industry 3845 is: -0.149.\n",
            "The average stock return for industry 3841 is: -0.099.\n",
            "The average stock return for industry 6798 is: -0.36.\n",
            "The average stock return for industry 3826 is: -0.192.\n",
            "The average stock return for industry 1311 is: -0.673.\n",
            "The average stock return for industry 3714 is: -0.47.\n",
            "The average stock return for industry 6141 is: -0.433.\n",
            "The average stock return for industry 5812 is: -0.42.\n",
            "The average stock return for industry 1531 is: -0.42.\n",
            "The average stock return for industry 4911 is: -0.163.\n"
          ],
          "name": "stdout"
        }
      ]
    },
    {
      "cell_type": "code",
      "metadata": {
        "id": "U5L5pDiadmlP"
      },
      "source": [
        "list3 = []\n",
        "for i in sic_25_returns.SIC.unique():\n",
        "    list3.append((i,round(sic_25_returns[sic_25_returns['SIC'] == i].RetEarly2020.mean(), 3)))"
      ],
      "execution_count": null,
      "outputs": []
    },
    {
      "cell_type": "code",
      "metadata": {
        "colab": {
          "base_uri": "https://localhost:8080/",
          "height": 80
        },
        "id": "0GSi4X84dmn0",
        "outputId": "82bdd15f-df39-4c3b-fa81-e98ca21613cc"
      },
      "source": [
        "early_2020_sic = pd.DataFrame(list3, columns=['SIC', 'AVG'])\n",
        "early_2020_sic[early_2020_sic['AVG'] == max(early_2020_sic['AVG'])]"
      ],
      "execution_count": null,
      "outputs": [
        {
          "output_type": "execute_result",
          "data": {
            "text/html": [
              "<div>\n",
              "<style scoped>\n",
              "    .dataframe tbody tr th:only-of-type {\n",
              "        vertical-align: middle;\n",
              "    }\n",
              "\n",
              "    .dataframe tbody tr th {\n",
              "        vertical-align: top;\n",
              "    }\n",
              "\n",
              "    .dataframe thead th {\n",
              "        text-align: right;\n",
              "    }\n",
              "</style>\n",
              "<table border=\"1\" class=\"dataframe\">\n",
              "  <thead>\n",
              "    <tr style=\"text-align: right;\">\n",
              "      <th></th>\n",
              "      <th>SIC</th>\n",
              "      <th>AVG</th>\n",
              "    </tr>\n",
              "  </thead>\n",
              "  <tbody>\n",
              "    <tr>\n",
              "      <th>7</th>\n",
              "      <td>2835</td>\n",
              "      <td>0.187</td>\n",
              "    </tr>\n",
              "  </tbody>\n",
              "</table>\n",
              "</div>"
            ],
            "text/plain": [
              "    SIC    AVG\n",
              "7  2835  0.187"
            ]
          },
          "metadata": {
            "tags": []
          },
          "execution_count": 29
        }
      ]
    },
    {
      "cell_type": "markdown",
      "metadata": {
        "id": "2FN-JQag38YG"
      },
      "source": [
        "Similar with the NAICS industry code, the highest return industry of the SIC code for early 2020 is In Vitro and In Vivo Diagnostic Substances. The rest of the industries have the negative average returns for early 2020, only the In Vitro and In Vivo Diagnostic Substances industry has the positive early 2020 returns. This makes sense because the economy got hit hard during covid and every industry is on the decline, but this particular industry is resilient and specially needed to manufacture covid need medical solutions.\n"
      ]
    },
    {
      "cell_type": "code",
      "metadata": {
        "colab": {
          "base_uri": "https://localhost:8080/",
          "height": 80
        },
        "id": "ezDbgmHRdmp2",
        "outputId": "b5c60713-dd69-463d-96f9-0bfde738890c"
      },
      "source": [
        "early_2020_sic[early_2020_sic['AVG'] == min(early_2020_sic['AVG'])]"
      ],
      "execution_count": null,
      "outputs": [
        {
          "output_type": "execute_result",
          "data": {
            "text/html": [
              "<div>\n",
              "<style scoped>\n",
              "    .dataframe tbody tr th:only-of-type {\n",
              "        vertical-align: middle;\n",
              "    }\n",
              "\n",
              "    .dataframe tbody tr th {\n",
              "        vertical-align: top;\n",
              "    }\n",
              "\n",
              "    .dataframe thead th {\n",
              "        text-align: right;\n",
              "    }\n",
              "</style>\n",
              "<table border=\"1\" class=\"dataframe\">\n",
              "  <thead>\n",
              "    <tr style=\"text-align: right;\">\n",
              "      <th></th>\n",
              "      <th>SIC</th>\n",
              "      <th>AVG</th>\n",
              "    </tr>\n",
              "  </thead>\n",
              "  <tbody>\n",
              "    <tr>\n",
              "      <th>19</th>\n",
              "      <td>1311</td>\n",
              "      <td>-0.673</td>\n",
              "    </tr>\n",
              "  </tbody>\n",
              "</table>\n",
              "</div>"
            ],
            "text/plain": [
              "     SIC    AVG\n",
              "19  1311 -0.673"
            ]
          },
          "metadata": {
            "tags": []
          },
          "execution_count": 30
        }
      ]
    },
    {
      "cell_type": "markdown",
      "metadata": {
        "id": "zPSZYcHi5X3K"
      },
      "source": [
        "Similar with the NAICS industry code, the lowest return industry of the SIC code for early 2020 is Crude Petroleum and Natural Gas. Because of the quarantine, people rarely went out for trips or work. They had to stay at home to avoid getting the covid. People barely used the car and consumed gas, the demand went down and that's why the energy industry was going down at that time and has the lowest return for early 2020 among all other industries."
      ]
    },
    {
      "cell_type": "code",
      "metadata": {
        "colab": {
          "base_uri": "https://localhost:8080/"
        },
        "id": "_sZFWS0D7_aY",
        "outputId": "ef5a0156-8c65-4c07-db9d-708f08898301"
      },
      "source": [
        "#ReturnLate2020\n",
        "for i in sic_25_returns.SIC.unique():\n",
        "  print(f\"The average stock return for industry {i} is: {round(sic_25_returns[sic_25_returns['SIC'] == i].RetLate2020.mean(), 3)}.\")"
      ],
      "execution_count": null,
      "outputs": [
        {
          "output_type": "stream",
          "text": [
            "The average stock return for industry 7370 is: 1.15.\n",
            "The average stock return for industry 7372 is: 1.082.\n",
            "The average stock return for industry 6282 is: 0.773.\n",
            "The average stock return for industry 2836 is: 0.793.\n",
            "The average stock return for industry 6331 is: 0.2.\n",
            "The average stock return for industry 6020 is: 0.422.\n",
            "The average stock return for industry 2834 is: 0.351.\n",
            "The average stock return for industry 2835 is: 1.013.\n",
            "The average stock return for industry 7374 is: 0.765.\n",
            "The average stock return for industry 7373 is: 0.504.\n",
            "The average stock return for industry 6035 is: 0.294.\n",
            "The average stock return for industry 3842 is: 0.767.\n",
            "The average stock return for industry 3674 is: 1.433.\n",
            "The average stock return for industry 5500 is: 1.732.\n",
            "The average stock return for industry 4931 is: 0.145.\n",
            "The average stock return for industry 3845 is: 0.737.\n",
            "The average stock return for industry 3841 is: 0.414.\n",
            "The average stock return for industry 6798 is: 0.444.\n",
            "The average stock return for industry 3826 is: 1.139.\n",
            "The average stock return for industry 1311 is: 1.343.\n",
            "The average stock return for industry 3714 is: 1.602.\n",
            "The average stock return for industry 6141 is: 0.937.\n",
            "The average stock return for industry 5812 is: 1.149.\n",
            "The average stock return for industry 1531 is: 1.24.\n",
            "The average stock return for industry 4911 is: 0.179.\n"
          ],
          "name": "stdout"
        }
      ]
    },
    {
      "cell_type": "markdown",
      "metadata": {
        "id": "g3VzGgQh9BA2"
      },
      "source": [
        "Compared to the NAICS industry code, average late 2020 returns of the SIC industry code do not have the negative value. All 25 industries were doing great for the late 2020."
      ]
    },
    {
      "cell_type": "code",
      "metadata": {
        "id": "E2QY2WLb7_dB"
      },
      "source": [
        "list4 = []\n",
        "for i in sic_25_returns.SIC.unique():\n",
        "    list4.append((i,round(sic_25_returns[sic_25_returns['SIC'] == i].RetLate2020.mean(), 3)))"
      ],
      "execution_count": null,
      "outputs": []
    },
    {
      "cell_type": "code",
      "metadata": {
        "colab": {
          "base_uri": "https://localhost:8080/",
          "height": 80
        },
        "id": "JUicbUfg7_fk",
        "outputId": "0eecc710-d888-4fb2-abd8-2081fdfd68e3"
      },
      "source": [
        "late_2020_sic = pd.DataFrame(list4, columns=['SIC', 'AVG'])\n",
        "late_2020_sic[late_2020_sic['AVG'] == max(late_2020_sic['AVG'])]"
      ],
      "execution_count": null,
      "outputs": [
        {
          "output_type": "execute_result",
          "data": {
            "text/html": [
              "<div>\n",
              "<style scoped>\n",
              "    .dataframe tbody tr th:only-of-type {\n",
              "        vertical-align: middle;\n",
              "    }\n",
              "\n",
              "    .dataframe tbody tr th {\n",
              "        vertical-align: top;\n",
              "    }\n",
              "\n",
              "    .dataframe thead th {\n",
              "        text-align: right;\n",
              "    }\n",
              "</style>\n",
              "<table border=\"1\" class=\"dataframe\">\n",
              "  <thead>\n",
              "    <tr style=\"text-align: right;\">\n",
              "      <th></th>\n",
              "      <th>SIC</th>\n",
              "      <th>AVG</th>\n",
              "    </tr>\n",
              "  </thead>\n",
              "  <tbody>\n",
              "    <tr>\n",
              "      <th>13</th>\n",
              "      <td>5500</td>\n",
              "      <td>1.732</td>\n",
              "    </tr>\n",
              "  </tbody>\n",
              "</table>\n",
              "</div>"
            ],
            "text/plain": [
              "     SIC    AVG\n",
              "13  5500  1.732"
            ]
          },
          "metadata": {
            "tags": []
          },
          "execution_count": 33
        }
      ]
    },
    {
      "cell_type": "markdown",
      "metadata": {
        "id": "jTLB0eKM99O9"
      },
      "source": [
        "Similar with the NAISC code, for SIC code the Retail-Auto Dealers & Gasoline Stations industry became the highest return industry for late 2020. Since almost all of the industries have the positive average return for late 2020, it seems like the economy was gradually recovering from the covid hit. People started to going out and traveling. Since the covid still didn't die down and traveling by plane or any other public transportations was restrcited and have the potential risk to be exposed to covid, people chose to travel by car and all of car and gas demand has gone up. That's why the Retail-Auto Dealers & Gasoline Stations industry were doing great for the late 2020.\n",
        "\n",
        "\n",
        "\n"
      ]
    },
    {
      "cell_type": "code",
      "metadata": {
        "colab": {
          "base_uri": "https://localhost:8080/",
          "height": 80
        },
        "id": "YqJt8Z7L7_iw",
        "outputId": "b612bcbd-50fc-40b6-f50f-699c8c2d22f5"
      },
      "source": [
        "late_2020_sic[late_2020_sic['AVG'] == min(late_2020_sic['AVG'])]"
      ],
      "execution_count": null,
      "outputs": [
        {
          "output_type": "execute_result",
          "data": {
            "text/html": [
              "<div>\n",
              "<style scoped>\n",
              "    .dataframe tbody tr th:only-of-type {\n",
              "        vertical-align: middle;\n",
              "    }\n",
              "\n",
              "    .dataframe tbody tr th {\n",
              "        vertical-align: top;\n",
              "    }\n",
              "\n",
              "    .dataframe thead th {\n",
              "        text-align: right;\n",
              "    }\n",
              "</style>\n",
              "<table border=\"1\" class=\"dataframe\">\n",
              "  <thead>\n",
              "    <tr style=\"text-align: right;\">\n",
              "      <th></th>\n",
              "      <th>SIC</th>\n",
              "      <th>AVG</th>\n",
              "    </tr>\n",
              "  </thead>\n",
              "  <tbody>\n",
              "    <tr>\n",
              "      <th>14</th>\n",
              "      <td>4931</td>\n",
              "      <td>0.145</td>\n",
              "    </tr>\n",
              "  </tbody>\n",
              "</table>\n",
              "</div>"
            ],
            "text/plain": [
              "     SIC    AVG\n",
              "14  4931  0.145"
            ]
          },
          "metadata": {
            "tags": []
          },
          "execution_count": 34
        }
      ]
    },
    {
      "cell_type": "markdown",
      "metadata": {
        "id": "p5cj-kOzA6nE"
      },
      "source": [
        "The lowest return industry for late 2020 is Electric and Other Services Combined industry. This makes economic sense because electric services is sensitive to the health of the economy. Covid hits the economy very bad, lots of factries shut down or experienced downturn due to the prolonged lockdown. Malls were forced to close to avoid the spread of covid. In addition, airports and railways are major consumers of this industry, and the demand from them dropped sharply due to the lockdowns, which led to the overall revenue decrease and recover the slowest in the industry."
      ]
    },
    {
      "cell_type": "markdown",
      "metadata": {
        "id": "bRB0s2_ydrM-"
      },
      "source": [
        "### GGROUP"
      ]
    },
    {
      "cell_type": "code",
      "metadata": {
        "colab": {
          "base_uri": "https://localhost:8080/"
        },
        "id": "pPaTkRZ7d4TO",
        "outputId": "549cfd95-27e9-44d1-cf30-eb1c99d70987"
      },
      "source": [
        "#ReturnEarly2020\n",
        "for i in ggroup_returns.GGROUP.unique():\n",
        "  print(f\"The average stock return for industry {i} is: {round(ggroup_returns[ggroup_returns['GGROUP'] == i].RetEarly2020.mean(), 3)}.\")"
      ],
      "execution_count": null,
      "outputs": [
        {
          "output_type": "stream",
          "text": [
            "The average stock return for industry 3020 is: -0.181.\n",
            "The average stock return for industry 4520 is: -0.29.\n",
            "The average stock return for industry 3510 is: -0.134.\n",
            "The average stock return for industry 4510 is: -0.177.\n",
            "The average stock return for industry 4020 is: -0.36.\n",
            "The average stock return for industry 2010 is: -0.317.\n",
            "The average stock return for industry 3520 is: -0.141.\n",
            "The average stock return for industry 4030 is: -0.249.\n",
            "The average stock return for industry 4010 is: -0.368.\n",
            "The average stock return for industry 2550 is: -0.385.\n",
            "The average stock return for industry 1510 is: -0.351.\n",
            "The average stock return for industry 5020 is: -0.341.\n",
            "The average stock return for industry 2030 is: -0.327.\n",
            "The average stock return for industry 6010 is: -0.328.\n",
            "The average stock return for industry 2520 is: -0.392.\n",
            "The average stock return for industry 4530 is: -0.227.\n",
            "The average stock return for industry 5510 is: -0.148.\n",
            "The average stock return for industry 2020 is: -0.333.\n",
            "The average stock return for industry 3010 is: -0.176.\n",
            "The average stock return for industry 1010 is: -0.581.\n",
            "The average stock return for industry 3030 is: -0.231.\n",
            "The average stock return for industry 2530 is: -0.448.\n",
            "The average stock return for industry 2510 is: -0.429.\n",
            "The average stock return for industry 5010 is: -0.089.\n"
          ],
          "name": "stdout"
        }
      ]
    },
    {
      "cell_type": "code",
      "metadata": {
        "id": "hppzgbMhd4Vs"
      },
      "source": [
        "list5 = []\n",
        "for i in ggroup_returns.GGROUP.unique():\n",
        "    list5.append((i,round(ggroup_returns[ggroup_returns['GGROUP'] == i].RetEarly2020.mean(), 3)))"
      ],
      "execution_count": null,
      "outputs": []
    },
    {
      "cell_type": "code",
      "metadata": {
        "colab": {
          "base_uri": "https://localhost:8080/",
          "height": 80
        },
        "id": "A7wSzrfQd4YV",
        "outputId": "909f4013-3e13-4c8e-ee3e-a1d38ce29a51"
      },
      "source": [
        "early_2020_ggroup = pd.DataFrame(list5, columns=['GGROUP', 'AVG'])\n",
        "early_2020_ggroup[early_2020_ggroup['AVG'] == max(early_2020_ggroup['AVG'])]"
      ],
      "execution_count": null,
      "outputs": [
        {
          "output_type": "execute_result",
          "data": {
            "text/html": [
              "<div>\n",
              "<style scoped>\n",
              "    .dataframe tbody tr th:only-of-type {\n",
              "        vertical-align: middle;\n",
              "    }\n",
              "\n",
              "    .dataframe tbody tr th {\n",
              "        vertical-align: top;\n",
              "    }\n",
              "\n",
              "    .dataframe thead th {\n",
              "        text-align: right;\n",
              "    }\n",
              "</style>\n",
              "<table border=\"1\" class=\"dataframe\">\n",
              "  <thead>\n",
              "    <tr style=\"text-align: right;\">\n",
              "      <th></th>\n",
              "      <th>GGROUP</th>\n",
              "      <th>AVG</th>\n",
              "    </tr>\n",
              "  </thead>\n",
              "  <tbody>\n",
              "    <tr>\n",
              "      <th>23</th>\n",
              "      <td>5010</td>\n",
              "      <td>-0.089</td>\n",
              "    </tr>\n",
              "  </tbody>\n",
              "</table>\n",
              "</div>"
            ],
            "text/plain": [
              "    GGROUP    AVG\n",
              "23    5010 -0.089"
            ]
          },
          "metadata": {
            "tags": []
          },
          "execution_count": 37
        }
      ]
    },
    {
      "cell_type": "markdown",
      "metadata": {
        "id": "kzgTuTW9DRrW"
      },
      "source": [
        "The highest return industry for early 2020 is GGROUP 5010 (Telecommunication Services). Even though every industry has the negative average returns for early 2020, the telecommunication services industry still doing better than other industries. This makes sense because the economy got hit hard during covid and every industry is on the decline, but people still need to use telecommunication services like phone services and data/internet services especially during quarantine period."
      ]
    },
    {
      "cell_type": "code",
      "metadata": {
        "colab": {
          "base_uri": "https://localhost:8080/",
          "height": 80
        },
        "id": "tYEgeA_ECnel",
        "outputId": "9148f195-611a-4b15-896d-88961451bd21"
      },
      "source": [
        "early_2020_ggroup[early_2020_ggroup['AVG'] == min(early_2020_ggroup['AVG'])]"
      ],
      "execution_count": null,
      "outputs": [
        {
          "output_type": "execute_result",
          "data": {
            "text/html": [
              "<div>\n",
              "<style scoped>\n",
              "    .dataframe tbody tr th:only-of-type {\n",
              "        vertical-align: middle;\n",
              "    }\n",
              "\n",
              "    .dataframe tbody tr th {\n",
              "        vertical-align: top;\n",
              "    }\n",
              "\n",
              "    .dataframe thead th {\n",
              "        text-align: right;\n",
              "    }\n",
              "</style>\n",
              "<table border=\"1\" class=\"dataframe\">\n",
              "  <thead>\n",
              "    <tr style=\"text-align: right;\">\n",
              "      <th></th>\n",
              "      <th>GGROUP</th>\n",
              "      <th>AVG</th>\n",
              "    </tr>\n",
              "  </thead>\n",
              "  <tbody>\n",
              "    <tr>\n",
              "      <th>19</th>\n",
              "      <td>1010</td>\n",
              "      <td>-0.581</td>\n",
              "    </tr>\n",
              "  </tbody>\n",
              "</table>\n",
              "</div>"
            ],
            "text/plain": [
              "    GGROUP    AVG\n",
              "19    1010 -0.581"
            ]
          },
          "metadata": {
            "tags": []
          },
          "execution_count": 38
        }
      ]
    },
    {
      "cell_type": "markdown",
      "metadata": {
        "id": "nbyT8LgBDVDN"
      },
      "source": [
        "The lowest return industry for early 2020 is GGROUP 1010 (Energy). Because of the quarantine, people rarely went out for trips or work. They had to stay at home to avoid getting the covid. People barely used the car and consumed gas, the demand went down and that's why the energy industry was going down at that time and has the lowest return for early 2020 among all other industries."
      ]
    },
    {
      "cell_type": "code",
      "metadata": {
        "colab": {
          "base_uri": "https://localhost:8080/"
        },
        "id": "PorWQ_JTCng8",
        "outputId": "47dcf6ef-5cff-4ee8-fc24-017efff86776"
      },
      "source": [
        "#ReturnLate2020\n",
        "for i in ggroup_returns.GGROUP.unique():\n",
        "  print(f\"The average stock return for industry {i} is: {round(ggroup_returns[ggroup_returns['GGROUP'] == i].RetLate2020.mean(), 3)}.\")"
      ],
      "execution_count": null,
      "outputs": [
        {
          "output_type": "stream",
          "text": [
            "The average stock return for industry 3020 is: 0.533.\n",
            "The average stock return for industry 4520 is: 0.817.\n",
            "The average stock return for industry 3510 is: 0.74.\n",
            "The average stock return for industry 4510 is: 1.027.\n",
            "The average stock return for industry 4020 is: 0.746.\n",
            "The average stock return for industry 2010 is: 0.898.\n",
            "The average stock return for industry 3520 is: 0.74.\n",
            "The average stock return for industry 4030 is: 0.358.\n",
            "The average stock return for industry 4010 is: 0.434.\n",
            "The average stock return for industry 2550 is: 1.78.\n",
            "The average stock return for industry 1510 is: 0.873.\n",
            "The average stock return for industry 5020 is: 0.855.\n",
            "The average stock return for industry 2030 is: 0.71.\n",
            "The average stock return for industry 6010 is: 0.457.\n",
            "The average stock return for industry 2520 is: 1.594.\n",
            "The average stock return for industry 4530 is: 1.219.\n",
            "The average stock return for industry 5510 is: 0.181.\n",
            "The average stock return for industry 2020 is: 0.605.\n",
            "The average stock return for industry 3010 is: 0.404.\n",
            "The average stock return for industry 1010 is: 1.018.\n",
            "The average stock return for industry 3030 is: 0.612.\n",
            "The average stock return for industry 2530 is: 1.131.\n",
            "The average stock return for industry 2510 is: 1.811.\n",
            "The average stock return for industry 5010 is: 0.49.\n"
          ],
          "name": "stdout"
        }
      ]
    },
    {
      "cell_type": "code",
      "metadata": {
        "id": "7fgNdKOKCnj5"
      },
      "source": [
        "list6 = []\n",
        "for i in ggroup_returns.GGROUP.unique():\n",
        "    list6.append((i,round(ggroup_returns[ggroup_returns['GGROUP'] == i].RetLate2020.mean(), 3)))"
      ],
      "execution_count": null,
      "outputs": []
    },
    {
      "cell_type": "code",
      "metadata": {
        "colab": {
          "base_uri": "https://localhost:8080/",
          "height": 80
        },
        "id": "ZTBrDtmrDZ9z",
        "outputId": "e7197ff7-53fd-4ffc-e8d9-fe5769f04e97"
      },
      "source": [
        "late_2020_ggroup = pd.DataFrame(list6, columns=['GGROUP', 'AVG'])\n",
        "late_2020_ggroup[late_2020_ggroup['AVG'] == max(late_2020_ggroup['AVG'])]"
      ],
      "execution_count": null,
      "outputs": [
        {
          "output_type": "execute_result",
          "data": {
            "text/html": [
              "<div>\n",
              "<style scoped>\n",
              "    .dataframe tbody tr th:only-of-type {\n",
              "        vertical-align: middle;\n",
              "    }\n",
              "\n",
              "    .dataframe tbody tr th {\n",
              "        vertical-align: top;\n",
              "    }\n",
              "\n",
              "    .dataframe thead th {\n",
              "        text-align: right;\n",
              "    }\n",
              "</style>\n",
              "<table border=\"1\" class=\"dataframe\">\n",
              "  <thead>\n",
              "    <tr style=\"text-align: right;\">\n",
              "      <th></th>\n",
              "      <th>GGROUP</th>\n",
              "      <th>AVG</th>\n",
              "    </tr>\n",
              "  </thead>\n",
              "  <tbody>\n",
              "    <tr>\n",
              "      <th>22</th>\n",
              "      <td>2510</td>\n",
              "      <td>1.811</td>\n",
              "    </tr>\n",
              "  </tbody>\n",
              "</table>\n",
              "</div>"
            ],
            "text/plain": [
              "    GGROUP    AVG\n",
              "22    2510  1.811"
            ]
          },
          "metadata": {
            "tags": []
          },
          "execution_count": 41
        }
      ]
    },
    {
      "cell_type": "markdown",
      "metadata": {
        "id": "DM-T4J8tD_sw"
      },
      "source": [
        "The highest return industry for late 2020 is GGROUP 2510 (Automobiles & Components). Since all the industries have the positive average return for late 2020, it seems like the economy was gradually recovering from the covid hit. People started to going out and traveling. Since the covid still didn't die down and traveling by plane or any other public transportations was restrcited and have the potential risk to be exposed to covid, people chose to travel by car and all of a sudden car demand has gone up. That's why the Automobiles & Components industry were doing great for the late 2020."
      ]
    },
    {
      "cell_type": "code",
      "metadata": {
        "colab": {
          "base_uri": "https://localhost:8080/",
          "height": 80
        },
        "id": "ECRxDqzsDaAi",
        "outputId": "b00392bd-f0cd-443c-8e49-db5f95e78544"
      },
      "source": [
        "late_2020_ggroup[late_2020_ggroup['AVG'] == min(late_2020_ggroup['AVG'])]"
      ],
      "execution_count": null,
      "outputs": [
        {
          "output_type": "execute_result",
          "data": {
            "text/html": [
              "<div>\n",
              "<style scoped>\n",
              "    .dataframe tbody tr th:only-of-type {\n",
              "        vertical-align: middle;\n",
              "    }\n",
              "\n",
              "    .dataframe tbody tr th {\n",
              "        vertical-align: top;\n",
              "    }\n",
              "\n",
              "    .dataframe thead th {\n",
              "        text-align: right;\n",
              "    }\n",
              "</style>\n",
              "<table border=\"1\" class=\"dataframe\">\n",
              "  <thead>\n",
              "    <tr style=\"text-align: right;\">\n",
              "      <th></th>\n",
              "      <th>GGROUP</th>\n",
              "      <th>AVG</th>\n",
              "    </tr>\n",
              "  </thead>\n",
              "  <tbody>\n",
              "    <tr>\n",
              "      <th>16</th>\n",
              "      <td>5510</td>\n",
              "      <td>0.181</td>\n",
              "    </tr>\n",
              "  </tbody>\n",
              "</table>\n",
              "</div>"
            ],
            "text/plain": [
              "    GGROUP    AVG\n",
              "16    5510  0.181"
            ]
          },
          "metadata": {
            "tags": []
          },
          "execution_count": 42
        }
      ]
    },
    {
      "cell_type": "markdown",
      "metadata": {
        "id": "TERPbYRYECy5"
      },
      "source": [
        "The lowest return industry for late 2020 is GGROUP 5510 (Utilities). This makes economic sense because utilities is sensitive to the health of the economy. Covid hits the economy very bad, lots of factries shut down or experienced downturn due to the prolonged lockdown. Malls were forced to close to avoid the spread of covid. In addition, airports and railways are major consumers of this industry, and the demand from them dropped sharply due to the lockdowns, which led to the over revenue decrease in the industry."
      ]
    },
    {
      "cell_type": "markdown",
      "metadata": {
        "id": "L61N7VJ1d4oK"
      },
      "source": [
        "### GSECTOR"
      ]
    },
    {
      "cell_type": "code",
      "metadata": {
        "colab": {
          "base_uri": "https://localhost:8080/"
        },
        "id": "PnL2ERoSd9cE",
        "outputId": "865fa0b1-3caa-4a8e-8ad9-04687c75d801"
      },
      "source": [
        "#ReturnEarly2020\n",
        "for i in gsector_returns.GSECTOR.unique():\n",
        "  print(f\"The average stock return for industry {i} is: {round(gsector_returns[gsector_returns['GSECTOR'] == i].RetEarly2020.mean(), 3)}.\")"
      ],
      "execution_count": null,
      "outputs": [
        {
          "output_type": "stream",
          "text": [
            "The average stock return for industry 30 is: -0.191.\n",
            "The average stock return for industry 45 is: -0.217.\n",
            "The average stock return for industry 35 is: -0.139.\n",
            "The average stock return for industry 40 is: -0.346.\n",
            "The average stock return for industry 20 is: -0.322.\n",
            "The average stock return for industry 25 is: -0.41.\n",
            "The average stock return for industry 15 is: -0.351.\n",
            "The average stock return for industry 50 is: -0.288.\n",
            "The average stock return for industry 60 is: -0.328.\n",
            "The average stock return for industry 55 is: -0.148.\n",
            "The average stock return for industry 10 is: -0.581.\n"
          ],
          "name": "stdout"
        }
      ]
    },
    {
      "cell_type": "code",
      "metadata": {
        "id": "j2cK8ktsd9em"
      },
      "source": [
        "list7 = []\n",
        "for i in gsector_returns.GSECTOR.unique():\n",
        "    list7.append((i,round(gsector_returns[gsector_returns['GSECTOR'] == i].RetEarly2020.mean(), 3)))"
      ],
      "execution_count": null,
      "outputs": []
    },
    {
      "cell_type": "code",
      "metadata": {
        "colab": {
          "base_uri": "https://localhost:8080/",
          "height": 80
        },
        "id": "Zv0Xny2qd9hL",
        "outputId": "d30fabb9-b9f0-4ff9-ad1f-c2c1478f8216"
      },
      "source": [
        "early_2020_gsector = pd.DataFrame(list7, columns=['GSECTOR', 'AVG'])\n",
        "early_2020_gsector[early_2020_gsector['AVG'] == max(early_2020_gsector['AVG'])]"
      ],
      "execution_count": null,
      "outputs": [
        {
          "output_type": "execute_result",
          "data": {
            "text/html": [
              "<div>\n",
              "<style scoped>\n",
              "    .dataframe tbody tr th:only-of-type {\n",
              "        vertical-align: middle;\n",
              "    }\n",
              "\n",
              "    .dataframe tbody tr th {\n",
              "        vertical-align: top;\n",
              "    }\n",
              "\n",
              "    .dataframe thead th {\n",
              "        text-align: right;\n",
              "    }\n",
              "</style>\n",
              "<table border=\"1\" class=\"dataframe\">\n",
              "  <thead>\n",
              "    <tr style=\"text-align: right;\">\n",
              "      <th></th>\n",
              "      <th>GSECTOR</th>\n",
              "      <th>AVG</th>\n",
              "    </tr>\n",
              "  </thead>\n",
              "  <tbody>\n",
              "    <tr>\n",
              "      <th>2</th>\n",
              "      <td>35</td>\n",
              "      <td>-0.139</td>\n",
              "    </tr>\n",
              "  </tbody>\n",
              "</table>\n",
              "</div>"
            ],
            "text/plain": [
              "   GSECTOR    AVG\n",
              "2       35 -0.139"
            ]
          },
          "metadata": {
            "tags": []
          },
          "execution_count": 45
        }
      ]
    },
    {
      "cell_type": "markdown",
      "metadata": {
        "id": "657bSqw5GzA5"
      },
      "source": [
        "The highest return industry for early 2020 is Heath Care industry. Even though every industry has the negative average returns for early 2020, the health care industry still doing better than other industries. This makes sense because the economy got hit hard during covid and every industry is on the decline, but a huge amount of people who got the covid virus need to be medically treated. That's why when other industries were doing so bad during early 2020 (when covid just hit), the health care industry were hit the least by the global pandemic. "
      ]
    },
    {
      "cell_type": "code",
      "metadata": {
        "colab": {
          "base_uri": "https://localhost:8080/",
          "height": 80
        },
        "id": "WCsbDRKFEupR",
        "outputId": "4bb77fea-00d6-4987-b68e-b6edc61a2594"
      },
      "source": [
        "early_2020_gsector[early_2020_gsector['AVG'] == min(early_2020_gsector['AVG'])]"
      ],
      "execution_count": null,
      "outputs": [
        {
          "output_type": "execute_result",
          "data": {
            "text/html": [
              "<div>\n",
              "<style scoped>\n",
              "    .dataframe tbody tr th:only-of-type {\n",
              "        vertical-align: middle;\n",
              "    }\n",
              "\n",
              "    .dataframe tbody tr th {\n",
              "        vertical-align: top;\n",
              "    }\n",
              "\n",
              "    .dataframe thead th {\n",
              "        text-align: right;\n",
              "    }\n",
              "</style>\n",
              "<table border=\"1\" class=\"dataframe\">\n",
              "  <thead>\n",
              "    <tr style=\"text-align: right;\">\n",
              "      <th></th>\n",
              "      <th>GSECTOR</th>\n",
              "      <th>AVG</th>\n",
              "    </tr>\n",
              "  </thead>\n",
              "  <tbody>\n",
              "    <tr>\n",
              "      <th>10</th>\n",
              "      <td>10</td>\n",
              "      <td>-0.581</td>\n",
              "    </tr>\n",
              "  </tbody>\n",
              "</table>\n",
              "</div>"
            ],
            "text/plain": [
              "    GSECTOR    AVG\n",
              "10       10 -0.581"
            ]
          },
          "metadata": {
            "tags": []
          },
          "execution_count": 46
        }
      ]
    },
    {
      "cell_type": "markdown",
      "metadata": {
        "id": "RtxQqVPlRpse"
      },
      "source": [
        "Same as the GGROUP industry code, for GSECTOR the lowest return industry for early 2020 is the Energy industry. Because of the quarantine, people rarely went out for trips or work. They had to stay at home to avoid getting the covid. People barely used the car and consumed gas, factories shut down and reduce the energy use, the demand went down and that's why the energy industry was going down at that time and has the lowest return for early 2020 among all other industries.\n",
        "\n"
      ]
    },
    {
      "cell_type": "code",
      "metadata": {
        "colab": {
          "base_uri": "https://localhost:8080/"
        },
        "id": "9g0trfbG2Ol5",
        "outputId": "1b65bd17-3eb3-4603-cac0-0f505a3d9935"
      },
      "source": [
        "#ReturnLate2020\n",
        "for i in gsector_returns.GSECTOR.unique():\n",
        "  print(f\"The average stock return for industry {i} is: {round(gsector_returns[gsector_returns['GSECTOR'] == i].RetLate2020.mean(), 3)}.\")"
      ],
      "execution_count": null,
      "outputs": [
        {
          "output_type": "stream",
          "text": [
            "The average stock return for industry 30 is: 0.524.\n",
            "The average stock return for industry 45 is: 1.005.\n",
            "The average stock return for industry 35 is: 0.74.\n",
            "The average stock return for industry 40 is: 0.498.\n",
            "The average stock return for industry 20 is: 0.805.\n",
            "The average stock return for industry 25 is: 1.541.\n",
            "The average stock return for industry 15 is: 0.873.\n",
            "The average stock return for industry 50 is: 0.778.\n",
            "The average stock return for industry 60 is: 0.457.\n",
            "The average stock return for industry 55 is: 0.181.\n",
            "The average stock return for industry 10 is: 1.018.\n"
          ],
          "name": "stdout"
        }
      ]
    },
    {
      "cell_type": "code",
      "metadata": {
        "id": "V0UaCtAv2Oqu"
      },
      "source": [
        "list8 = []\n",
        "for i in gsector_returns.GSECTOR.unique():\n",
        "    list8.append((i,round(gsector_returns[gsector_returns['GSECTOR'] == i].RetLate2020.mean(), 3)))"
      ],
      "execution_count": null,
      "outputs": []
    },
    {
      "cell_type": "code",
      "metadata": {
        "colab": {
          "base_uri": "https://localhost:8080/",
          "height": 80
        },
        "id": "khwss-vS2PDW",
        "outputId": "f5d03a1e-cee5-4f2e-c999-f7a588902870"
      },
      "source": [
        "late_2020_gsector = pd.DataFrame(list8, columns=['GSECTOR', 'AVG'])\n",
        "late_2020_gsector[late_2020_gsector['AVG'] == max(late_2020_gsector['AVG'])]"
      ],
      "execution_count": null,
      "outputs": [
        {
          "output_type": "execute_result",
          "data": {
            "text/html": [
              "<div>\n",
              "<style scoped>\n",
              "    .dataframe tbody tr th:only-of-type {\n",
              "        vertical-align: middle;\n",
              "    }\n",
              "\n",
              "    .dataframe tbody tr th {\n",
              "        vertical-align: top;\n",
              "    }\n",
              "\n",
              "    .dataframe thead th {\n",
              "        text-align: right;\n",
              "    }\n",
              "</style>\n",
              "<table border=\"1\" class=\"dataframe\">\n",
              "  <thead>\n",
              "    <tr style=\"text-align: right;\">\n",
              "      <th></th>\n",
              "      <th>GSECTOR</th>\n",
              "      <th>AVG</th>\n",
              "    </tr>\n",
              "  </thead>\n",
              "  <tbody>\n",
              "    <tr>\n",
              "      <th>5</th>\n",
              "      <td>25</td>\n",
              "      <td>1.541</td>\n",
              "    </tr>\n",
              "  </tbody>\n",
              "</table>\n",
              "</div>"
            ],
            "text/plain": [
              "   GSECTOR    AVG\n",
              "5       25  1.541"
            ]
          },
          "metadata": {
            "tags": []
          },
          "execution_count": 49
        }
      ]
    },
    {
      "cell_type": "markdown",
      "metadata": {
        "id": "ks34Jm1t0pwC"
      },
      "source": [
        "The highest return industry for late 2020 is Consumer Discretionary. Since all the industries have the positive average return for late 2020, it seems like the economy was gradually recovering from the covid hit. People started to going out, traveling and shopping. Because of this, the demand of consumer goods went up a lot. That's why the Consumer Discretionary industry were doing great for the late 2020.\n",
        "\n",
        "\n",
        "\n"
      ]
    },
    {
      "cell_type": "code",
      "metadata": {
        "colab": {
          "base_uri": "https://localhost:8080/",
          "height": 80
        },
        "id": "76U-7a8A2PIl",
        "outputId": "48820a93-e1b5-4ebf-dce2-2cb4543c5fa8"
      },
      "source": [
        "late_2020_gsector[late_2020_gsector['AVG'] == min(late_2020_gsector['AVG'])]"
      ],
      "execution_count": null,
      "outputs": [
        {
          "output_type": "execute_result",
          "data": {
            "text/html": [
              "<div>\n",
              "<style scoped>\n",
              "    .dataframe tbody tr th:only-of-type {\n",
              "        vertical-align: middle;\n",
              "    }\n",
              "\n",
              "    .dataframe tbody tr th {\n",
              "        vertical-align: top;\n",
              "    }\n",
              "\n",
              "    .dataframe thead th {\n",
              "        text-align: right;\n",
              "    }\n",
              "</style>\n",
              "<table border=\"1\" class=\"dataframe\">\n",
              "  <thead>\n",
              "    <tr style=\"text-align: right;\">\n",
              "      <th></th>\n",
              "      <th>GSECTOR</th>\n",
              "      <th>AVG</th>\n",
              "    </tr>\n",
              "  </thead>\n",
              "  <tbody>\n",
              "    <tr>\n",
              "      <th>9</th>\n",
              "      <td>55</td>\n",
              "      <td>0.181</td>\n",
              "    </tr>\n",
              "  </tbody>\n",
              "</table>\n",
              "</div>"
            ],
            "text/plain": [
              "   GSECTOR    AVG\n",
              "9       55  0.181"
            ]
          },
          "metadata": {
            "tags": []
          },
          "execution_count": 50
        }
      ]
    },
    {
      "cell_type": "markdown",
      "metadata": {
        "id": "vOfecUkQ0qTm"
      },
      "source": [
        "Same as the GGROUP industry code, the lowest return industry of the GSECTOR code for late 2020 is also Utilities. This makes economic sense because utilities is sensitive to the health of the economy. Covid hits the economy very bad, lots of factries shut down or experienced downturn due to the prolonged lockdown. Malls were forced to close to avoid the spread of covid. In addition, airports and railways are major consumers of this industry, and the demand from them dropped sharply due to the lockdowns, which led to the over revenue decrease in the industry."
      ]
    },
    {
      "cell_type": "markdown",
      "metadata": {
        "id": "Qzqqbexcwgk9"
      },
      "source": [
        "### Summary"
      ]
    },
    {
      "cell_type": "markdown",
      "metadata": {
        "id": "13NFZr_aw_6C"
      },
      "source": [
        "**Early 2020**\n",
        "\n",
        "NAICS \n",
        "*   Lowest return : Oil and Gas Extraction\n",
        "\n",
        "*   Highest return : In-Vitro Diagnostic Substance Manufacturingc\n",
        "\n",
        "SIC\n",
        "*   Lowest return : Oil and Gas Extraction\n",
        "\n",
        "*   Highest return : In Vitro and In Vivo Diagnostic Substances\n",
        "\n",
        "GGROUP\n",
        "*   Lowest return : Energy\n",
        "\n",
        "*   Highest return : Telecommunication Services\n",
        "\n",
        "GSECTOR\n",
        "*   Lowest return : Energy\n",
        "\n",
        "*   Highest return : Heath Care\n",
        "\n",
        "\n",
        "---\n",
        "**Late 2020**\n",
        "\n",
        "NAICS \n",
        "*   Lowest return : Deep Sea Freight Transportation\n",
        "\n",
        "*   Highest return : Oil and Gas Extraction \n",
        "\n",
        "SIC\n",
        "*   Lowest return : Electric and Other Services Combined\n",
        "\n",
        "*   Highest return : Retail-Auto Dealers & Gasoline Stations\n",
        "\n",
        "GGROUP\n",
        "*   Lowest return : Utilities\n",
        "\n",
        "*   Highest return : Automobiles & Components\n",
        "\n",
        "GSECTOR\n",
        "*   Lowest return : Utilities\n",
        "\n",
        "*   Highest return : Consumer Discretionary\n"
      ]
    },
    {
      "cell_type": "markdown",
      "metadata": {
        "id": "vp-HfPkhd9rg"
      },
      "source": [
        "## Regression Analysis"
      ]
    },
    {
      "cell_type": "markdown",
      "metadata": {
        "id": "sSooFoIr7I3g"
      },
      "source": [
        "### RetEarly2020 (compare with the market ratios)"
      ]
    },
    {
      "cell_type": "code",
      "metadata": {
        "id": "aHaLQzqj7XRB"
      },
      "source": [
        "mr = pd.read_csv('temp2.csv')"
      ],
      "execution_count": null,
      "outputs": []
    },
    {
      "cell_type": "markdown",
      "metadata": {
        "id": "zpYFHCCSeD1m"
      },
      "source": [
        "#### NAICS"
      ]
    },
    {
      "cell_type": "code",
      "metadata": {
        "id": "hFJ73IWn7ulO"
      },
      "source": [
        "dd1 = pd.get_dummies(naics_25_returns, columns=['NAICS'])"
      ],
      "execution_count": null,
      "outputs": []
    },
    {
      "cell_type": "code",
      "metadata": {
        "id": "2ouxciePeGe0"
      },
      "source": [
        "mr.rename(columns={'tic': 'TICKER'}, inplace=True)\n",
        "new1 = pd.merge(dd1, mr, on='TICKER')"
      ],
      "execution_count": null,
      "outputs": []
    },
    {
      "cell_type": "code",
      "metadata": {
        "id": "uZYfTcCpeGlY"
      },
      "source": [
        "new1['book/price'] = new1['ceq']/(new1['prcc_c']*new1['csho'])\n",
        "new1['e/p'] = new1['ni']/(new1['prcc_c']*new1['csho'])\n",
        "new1['ebit/p'] = new1['ebit']/(new1['prcc_c']*new1['csho'])\n",
        "new1['sales/p'] = new1['sale']/(new1['prcc_c']*new1['csho'])"
      ],
      "execution_count": null,
      "outputs": []
    },
    {
      "cell_type": "code",
      "metadata": {
        "id": "qFainaxP8vBb"
      },
      "source": [
        "new1.drop(['gvkey', 'datadate', 'fyear', 'indfmt', 'consol', 'popsrc', 'datafmt', 'curcd', 'ceq', 'csho', \n",
        "            'ebit', 'ni', 'sale', 'costat', 'prcc_c'], axis=1, inplace=True)"
      ],
      "execution_count": null,
      "outputs": []
    },
    {
      "cell_type": "code",
      "metadata": {
        "id": "AiUPJ4wx8vEq"
      },
      "source": [
        "#winsorize the ratio variables at 1% and 99% values\n",
        "new1['book/price'] = winsorize(new1['book/price'], (0.01, 0.01))\n",
        "new1['e/p'] = winsorize(new1['e/p'], (0.01, 0.01))\n",
        "new1['ebit/p'] = winsorize(new1['ebit/p'], (0.01, 0.01))\n",
        "new1['sales/p'] = winsorize(new1['sales/p'], (0.01, 0.01))"
      ],
      "execution_count": null,
      "outputs": []
    },
    {
      "cell_type": "code",
      "metadata": {
        "colab": {
          "base_uri": "https://localhost:8080/"
        },
        "id": "k7gqkJ7d8vGy",
        "outputId": "ece64660-3d96-49d9-b6a0-fd49467bc9e7"
      },
      "source": [
        "new1.info()"
      ],
      "execution_count": null,
      "outputs": [
        {
          "output_type": "stream",
          "text": [
            "<class 'pandas.core.frame.DataFrame'>\n",
            "Int64Index: 1314 entries, 0 to 1313\n",
            "Data columns (total 32 columns):\n",
            " #   Column        Non-Null Count  Dtype  \n",
            "---  ------        --------------  -----  \n",
            " 0   TICKER        1314 non-null   object \n",
            " 1   RetEarly2020  1314 non-null   float64\n",
            " 2   RetLate2020   1314 non-null   float64\n",
            " 3   NAICS_2111    1314 non-null   uint8  \n",
            " 4   NAICS_2211    1314 non-null   uint8  \n",
            " 5   NAICS_22111   1314 non-null   uint8  \n",
            " 6   NAICS_221210  1314 non-null   uint8  \n",
            " 7   NAICS_325412  1314 non-null   uint8  \n",
            " 8   NAICS_325413  1314 non-null   uint8  \n",
            " 9   NAICS_325414  1314 non-null   uint8  \n",
            " 10  NAICS_334413  1314 non-null   uint8  \n",
            " 11  NAICS_334510  1314 non-null   uint8  \n",
            " 12  NAICS_334516  1314 non-null   uint8  \n",
            " 13  NAICS_339112  1314 non-null   uint8  \n",
            " 14  NAICS_339113  1314 non-null   uint8  \n",
            " 15  NAICS_483111  1314 non-null   uint8  \n",
            " 16  NAICS_511210  1314 non-null   uint8  \n",
            " 17  NAICS_518210  1314 non-null   uint8  \n",
            " 18  NAICS_519130  1314 non-null   uint8  \n",
            " 19  NAICS_522110  1314 non-null   uint8  \n",
            " 20  NAICS_522120  1314 non-null   uint8  \n",
            " 21  NAICS_523920  1314 non-null   uint8  \n",
            " 22  NAICS_524126  1314 non-null   uint8  \n",
            " 23  NAICS_525990  1314 non-null   uint8  \n",
            " 24  NAICS_531110  1314 non-null   uint8  \n",
            " 25  NAICS_531120  1314 non-null   uint8  \n",
            " 26  NAICS_541512  1314 non-null   uint8  \n",
            " 27  NAICS_722511  1314 non-null   uint8  \n",
            " 28  book/price    1314 non-null   float64\n",
            " 29  e/p           1314 non-null   float64\n",
            " 30  ebit/p        1314 non-null   float64\n",
            " 31  sales/p       1314 non-null   float64\n",
            "dtypes: float64(6), object(1), uint8(25)\n",
            "memory usage: 114.2+ KB\n"
          ],
          "name": "stdout"
        }
      ]
    },
    {
      "cell_type": "code",
      "metadata": {
        "colab": {
          "base_uri": "https://localhost:8080/"
        },
        "id": "kxn2id5s8vJS",
        "outputId": "dfa3a5a6-32f9-4f25-85d4-bca7eb13f2b4"
      },
      "source": [
        "subset = new1.iloc[:, 28: 32]\n",
        "subset.info()"
      ],
      "execution_count": null,
      "outputs": [
        {
          "output_type": "stream",
          "text": [
            "<class 'pandas.core.frame.DataFrame'>\n",
            "Int64Index: 1314 entries, 0 to 1313\n",
            "Data columns (total 4 columns):\n",
            " #   Column      Non-Null Count  Dtype  \n",
            "---  ------      --------------  -----  \n",
            " 0   book/price  1314 non-null   float64\n",
            " 1   e/p         1314 non-null   float64\n",
            " 2   ebit/p      1314 non-null   float64\n",
            " 3   sales/p     1314 non-null   float64\n",
            "dtypes: float64(4)\n",
            "memory usage: 51.3 KB\n"
          ],
          "name": "stdout"
        }
      ]
    },
    {
      "cell_type": "code",
      "metadata": {
        "colab": {
          "base_uri": "https://localhost:8080/"
        },
        "id": "wIuBE1rX8vMT",
        "outputId": "02752ea6-3c31-4f84-cc52-269ee34b9128"
      },
      "source": [
        "subset1 = new1.iloc[:, 3:28]\n",
        "subset1.info()"
      ],
      "execution_count": null,
      "outputs": [
        {
          "output_type": "stream",
          "text": [
            "<class 'pandas.core.frame.DataFrame'>\n",
            "Int64Index: 1314 entries, 0 to 1313\n",
            "Data columns (total 25 columns):\n",
            " #   Column        Non-Null Count  Dtype\n",
            "---  ------        --------------  -----\n",
            " 0   NAICS_2111    1314 non-null   uint8\n",
            " 1   NAICS_2211    1314 non-null   uint8\n",
            " 2   NAICS_22111   1314 non-null   uint8\n",
            " 3   NAICS_221210  1314 non-null   uint8\n",
            " 4   NAICS_325412  1314 non-null   uint8\n",
            " 5   NAICS_325413  1314 non-null   uint8\n",
            " 6   NAICS_325414  1314 non-null   uint8\n",
            " 7   NAICS_334413  1314 non-null   uint8\n",
            " 8   NAICS_334510  1314 non-null   uint8\n",
            " 9   NAICS_334516  1314 non-null   uint8\n",
            " 10  NAICS_339112  1314 non-null   uint8\n",
            " 11  NAICS_339113  1314 non-null   uint8\n",
            " 12  NAICS_483111  1314 non-null   uint8\n",
            " 13  NAICS_511210  1314 non-null   uint8\n",
            " 14  NAICS_518210  1314 non-null   uint8\n",
            " 15  NAICS_519130  1314 non-null   uint8\n",
            " 16  NAICS_522110  1314 non-null   uint8\n",
            " 17  NAICS_522120  1314 non-null   uint8\n",
            " 18  NAICS_523920  1314 non-null   uint8\n",
            " 19  NAICS_524126  1314 non-null   uint8\n",
            " 20  NAICS_525990  1314 non-null   uint8\n",
            " 21  NAICS_531110  1314 non-null   uint8\n",
            " 22  NAICS_531120  1314 non-null   uint8\n",
            " 23  NAICS_541512  1314 non-null   uint8\n",
            " 24  NAICS_722511  1314 non-null   uint8\n",
            "dtypes: uint8(25)\n",
            "memory usage: 42.3 KB\n"
          ],
          "name": "stdout"
        }
      ]
    },
    {
      "cell_type": "code",
      "metadata": {
        "colab": {
          "base_uri": "https://localhost:8080/"
        },
        "id": "qUdmawiK9rwd",
        "outputId": "2b598c70-b589-4fbf-e49d-36e10f896fea"
      },
      "source": [
        "Y = new1['RetEarly2020']\n",
        "X = subset\n",
        "X = sm.add_constant(X)\n",
        "model_market_early = sm.OLS(Y, X).fit()\n",
        "print(model_market_early.summary())"
      ],
      "execution_count": null,
      "outputs": [
        {
          "output_type": "stream",
          "text": [
            "                            OLS Regression Results                            \n",
            "==============================================================================\n",
            "Dep. Variable:           RetEarly2020   R-squared:                       0.137\n",
            "Model:                            OLS   Adj. R-squared:                  0.135\n",
            "Method:                 Least Squares   F-statistic:                     52.06\n",
            "Date:                Wed, 07 Jul 2021   Prob (F-statistic):           9.89e-41\n",
            "Time:                        19:26:06   Log-Likelihood:                -482.90\n",
            "No. Observations:                1314   AIC:                             975.8\n",
            "Df Residuals:                    1309   BIC:                             1002.\n",
            "Df Model:                           4                                         \n",
            "Covariance Type:            nonrobust                                         \n",
            "==============================================================================\n",
            "                 coef    std err          t      P>|t|      [0.025      0.975]\n",
            "------------------------------------------------------------------------------\n",
            "const         -0.1718      0.016    -10.600      0.000      -0.204      -0.140\n",
            "book/price    -0.1546      0.031     -5.065      0.000      -0.214      -0.095\n",
            "e/p           -0.2304      0.116     -1.989      0.047      -0.458      -0.003\n",
            "ebit/p        -0.5773      0.126     -4.573      0.000      -0.825      -0.330\n",
            "sales/p        0.0155      0.026      0.590      0.556      -0.036       0.067\n",
            "==============================================================================\n",
            "Omnibus:                     2044.242   Durbin-Watson:                   1.863\n",
            "Prob(Omnibus):                  0.000   Jarque-Bera (JB):          1564277.650\n",
            "Skew:                           9.175   Prob(JB):                         0.00\n",
            "Kurtosis:                     171.032   Cond. No.                         20.0\n",
            "==============================================================================\n",
            "\n",
            "Warnings:\n",
            "[1] Standard Errors assume that the covariance matrix of the errors is correctly specified.\n"
          ],
          "name": "stdout"
        }
      ]
    },
    {
      "cell_type": "code",
      "metadata": {
        "colab": {
          "base_uri": "https://localhost:8080/"
        },
        "id": "VrXAN5Ll9-ed",
        "outputId": "043f7510-1f21-4e63-c795-05de9a175783"
      },
      "source": [
        "X1 = subset1\n",
        "model_naics_early = sm.OLS(Y, X1).fit()\n",
        "print(model_naics_early.summary())"
      ],
      "execution_count": null,
      "outputs": [
        {
          "output_type": "stream",
          "text": [
            "                            OLS Regression Results                            \n",
            "==============================================================================\n",
            "Dep. Variable:           RetEarly2020   R-squared:                       0.126\n",
            "Model:                            OLS   Adj. R-squared:                  0.110\n",
            "Method:                 Least Squares   F-statistic:                     7.769\n",
            "Date:                Wed, 07 Jul 2021   Prob (F-statistic):           5.04e-25\n",
            "Time:                        19:26:06   Log-Likelihood:                -491.13\n",
            "No. Observations:                1314   AIC:                             1032.\n",
            "Df Residuals:                    1289   BIC:                             1162.\n",
            "Df Model:                          24                                         \n",
            "Covariance Type:            nonrobust                                         \n",
            "================================================================================\n",
            "                   coef    std err          t      P>|t|      [0.025      0.975]\n",
            "--------------------------------------------------------------------------------\n",
            "NAICS_2111      -0.6299      0.077     -8.131      0.000      -0.782      -0.478\n",
            "NAICS_2211      -0.1556      0.076     -2.055      0.040      -0.304      -0.007\n",
            "NAICS_22111     -0.1791      0.077     -2.312      0.021      -0.331      -0.027\n",
            "NAICS_221210    -0.1966      0.095     -2.072      0.038      -0.383      -0.010\n",
            "NAICS_325412    -0.2323      0.042     -5.590      0.000      -0.314      -0.151\n",
            "NAICS_325413     0.1874      0.077      2.419      0.016       0.035       0.339\n",
            "NAICS_325414    -0.1065      0.025     -4.283      0.000      -0.155      -0.058\n",
            "NAICS_334413    -0.2288      0.050     -4.602      0.000      -0.326      -0.131\n",
            "NAICS_334510    -0.1540      0.058     -2.673      0.008      -0.267      -0.041\n",
            "NAICS_334516    -0.1917      0.092     -2.091      0.037      -0.372      -0.012\n",
            "NAICS_339112    -0.0993      0.079     -1.251      0.211      -0.255       0.056\n",
            "NAICS_339113    -0.2938      0.084     -3.511      0.000      -0.458      -0.130\n",
            "NAICS_483111    -0.3156      0.092     -3.443      0.001      -0.495      -0.136\n",
            "NAICS_511210    -0.1449      0.051     -2.858      0.004      -0.244      -0.045\n",
            "NAICS_518210    -0.2347      0.042     -5.571      0.000      -0.317      -0.152\n",
            "NAICS_519130    -0.1326      0.038     -3.525      0.000      -0.206      -0.059\n",
            "NAICS_522110    -0.3716      0.022    -16.813      0.000      -0.415      -0.328\n",
            "NAICS_522120    -0.3243      0.062     -5.248      0.000      -0.446      -0.203\n",
            "NAICS_523920    -0.3416      0.079     -4.302      0.000      -0.497      -0.186\n",
            "NAICS_524126    -0.2448      0.050     -4.924      0.000      -0.342      -0.147\n",
            "NAICS_525990    -0.5619      0.066     -8.524      0.000      -0.691      -0.433\n",
            "NAICS_531110    -0.3706      0.072     -5.115      0.000      -0.513      -0.228\n",
            "NAICS_531120    -0.3358      0.033    -10.144      0.000      -0.401      -0.271\n",
            "NAICS_541512    -0.1730      0.076     -2.285      0.022      -0.321      -0.024\n",
            "NAICS_722511    -0.4509      0.079     -5.680      0.000      -0.607      -0.295\n",
            "==============================================================================\n",
            "Omnibus:                     2111.588   Durbin-Watson:                   1.838\n",
            "Prob(Omnibus):                  0.000   Jarque-Bera (JB):          1590169.197\n",
            "Skew:                           9.848   Prob(JB):                         0.00\n",
            "Kurtosis:                     172.281   Cond. No.                         4.29\n",
            "==============================================================================\n",
            "\n",
            "Warnings:\n",
            "[1] Standard Errors assume that the covariance matrix of the errors is correctly specified.\n"
          ],
          "name": "stdout"
        }
      ]
    },
    {
      "cell_type": "code",
      "metadata": {
        "colab": {
          "base_uri": "https://localhost:8080/"
        },
        "id": "cFTJC2D3-MN0",
        "outputId": "f8f22c38-640e-4104-bd0a-24c2227d98ef"
      },
      "source": [
        "X2 = new1.drop(columns=['TICKER', 'RetEarly2020','RetLate2020'])\n",
        "X2 = sm.add_constant(X2)\n",
        "m_early = sm.OLS(Y, X2).fit()\n",
        "print(m_early.summary())"
      ],
      "execution_count": null,
      "outputs": [
        {
          "output_type": "stream",
          "text": [
            "                            OLS Regression Results                            \n",
            "==============================================================================\n",
            "Dep. Variable:           RetEarly2020   R-squared:                       0.195\n",
            "Model:                            OLS   Adj. R-squared:                  0.177\n",
            "Method:                 Least Squares   F-statistic:                     11.10\n",
            "Date:                Wed, 07 Jul 2021   Prob (F-statistic):           1.40e-43\n",
            "Time:                        19:26:07   Log-Likelihood:                -437.63\n",
            "No. Observations:                1314   AIC:                             933.3\n",
            "Df Residuals:                    1285   BIC:                             1083.\n",
            "Df Model:                          28                                         \n",
            "Covariance Type:            nonrobust                                         \n",
            "================================================================================\n",
            "                   coef    std err          t      P>|t|      [0.025      0.975]\n",
            "--------------------------------------------------------------------------------\n",
            "const           -0.1667      0.021     -7.867      0.000      -0.208      -0.125\n",
            "NAICS_2111      -0.3783      0.076     -4.978      0.000      -0.527      -0.229\n",
            "NAICS_2211       0.1365      0.071      1.911      0.056      -0.004       0.277\n",
            "NAICS_22111      0.0990      0.073      1.359      0.174      -0.044       0.242\n",
            "NAICS_221210     0.0729      0.089      0.823      0.411      -0.101       0.247\n",
            "NAICS_325412    -0.1008      0.042     -2.384      0.017      -0.184      -0.018\n",
            "NAICS_325413     0.3598      0.073      4.902      0.000       0.216       0.504\n",
            "NAICS_325414    -0.0534      0.032     -1.645      0.100      -0.117       0.010\n",
            "NAICS_334413    -0.0199      0.048     -0.415      0.678      -0.114       0.074\n",
            "NAICS_334510    -0.0001      0.056     -0.002      0.998      -0.110       0.110\n",
            "NAICS_334516     0.0074      0.086      0.086      0.931      -0.161       0.176\n",
            "NAICS_339112     0.0788      0.075      1.050      0.294      -0.068       0.226\n",
            "NAICS_339113    -0.1341      0.079     -1.700      0.089      -0.289       0.021\n",
            "NAICS_483111     0.0596      0.090      0.659      0.510      -0.118       0.237\n",
            "NAICS_511210     0.0569      0.049      1.161      0.246      -0.039       0.153\n",
            "NAICS_518210    -0.0569      0.042     -1.354      0.176      -0.139       0.026\n",
            "NAICS_519130     0.0463      0.038      1.214      0.225      -0.029       0.121\n",
            "NAICS_522110    -0.0031      0.030     -0.102      0.918      -0.062       0.056\n",
            "NAICS_522120     0.0311      0.061      0.511      0.610      -0.088       0.151\n",
            "NAICS_523920    -0.0003      0.075     -0.004      0.997      -0.148       0.147\n",
            "NAICS_524126     0.0842      0.050      1.683      0.093      -0.014       0.182\n",
            "NAICS_525990    -0.1149      0.071     -1.620      0.105      -0.254       0.024\n",
            "NAICS_531110    -0.0960      0.068     -1.403      0.161      -0.230       0.038\n",
            "NAICS_531120    -0.0715      0.034     -2.102      0.036      -0.138      -0.005\n",
            "NAICS_541512     0.0501      0.072      0.697      0.486      -0.091       0.191\n",
            "NAICS_722511    -0.2200      0.080     -2.751      0.006      -0.377      -0.063\n",
            "book/price      -0.1284      0.041     -3.102      0.002      -0.210      -0.047\n",
            "e/p             -0.2438      0.121     -2.016      0.044      -0.481      -0.007\n",
            "ebit/p          -0.6836      0.142     -4.810      0.000      -0.962      -0.405\n",
            "sales/p          0.0241      0.032      0.762      0.446      -0.038       0.086\n",
            "==============================================================================\n",
            "Omnibus:                     1997.569   Durbin-Watson:                   1.854\n",
            "Prob(Omnibus):                  0.000   Jarque-Bera (JB):          1343628.015\n",
            "Skew:                           8.794   Prob(JB):                         0.00\n",
            "Kurtosis:                     158.666   Cond. No.                     6.04e+15\n",
            "==============================================================================\n",
            "\n",
            "Warnings:\n",
            "[1] Standard Errors assume that the covariance matrix of the errors is correctly specified.\n",
            "[2] The smallest eigenvalue is 5.35e-29. This might indicate that there are\n",
            "strong multicollinearity problems or that the design matrix is singular.\n"
          ],
          "name": "stdout"
        }
      ]
    },
    {
      "cell_type": "markdown",
      "metadata": {
        "id": "1jA2bvIzCfXQ"
      },
      "source": [
        "#### SIC"
      ]
    },
    {
      "cell_type": "code",
      "metadata": {
        "id": "0lEcyM1g-MVM"
      },
      "source": [
        "dd2 = pd.get_dummies(sic_25_returns, columns=['SIC'])"
      ],
      "execution_count": null,
      "outputs": []
    },
    {
      "cell_type": "code",
      "metadata": {
        "id": "DtmOqnMg-MXN"
      },
      "source": [
        "new2 = pd.merge(dd2, mr, on='TICKER')"
      ],
      "execution_count": null,
      "outputs": []
    },
    {
      "cell_type": "code",
      "metadata": {
        "id": "1km1XpZ9-MaV"
      },
      "source": [
        "new2['book/price'] = new2['ceq']/(new2['prcc_c']*new2['csho'])\n",
        "new2['e/p'] = new2['ni']/(new2['prcc_c']*new2['csho'])\n",
        "new2['ebit/p'] = new2['ebit']/(new2['prcc_c']*new2['csho'])\n",
        "new2['sales/p'] = new2['sale']/(new2['prcc_c']*new2['csho'])"
      ],
      "execution_count": null,
      "outputs": []
    },
    {
      "cell_type": "code",
      "metadata": {
        "id": "4S-ve_Go-MeV"
      },
      "source": [
        "new2.drop(['gvkey', 'datadate', 'fyear', 'indfmt', 'consol', 'popsrc', 'datafmt', 'curcd', 'ceq', 'csho', \n",
        "            'ebit', 'ni', 'sale', 'costat', 'prcc_c'], axis=1, inplace=True)"
      ],
      "execution_count": null,
      "outputs": []
    },
    {
      "cell_type": "code",
      "metadata": {
        "id": "p0adYmv6Daam"
      },
      "source": [
        "#winsorize the ratio variables at 1% and 99% values\n",
        "new2['book/price'] = winsorize(new2['book/price'], (0.01, 0.01))\n",
        "new2['e/p'] = winsorize(new2['e/p'], (0.01, 0.01))\n",
        "new2['ebit/p'] = winsorize(new2['ebit/p'], (0.01, 0.01))\n",
        "new2['sales/p'] = winsorize(new2['sales/p'], (0.01, 0.01))"
      ],
      "execution_count": null,
      "outputs": []
    },
    {
      "cell_type": "code",
      "metadata": {
        "colab": {
          "base_uri": "https://localhost:8080/"
        },
        "id": "H6jo5_KhDadm",
        "outputId": "e2d5bf73-868f-4cb1-e8cf-3905fefac855"
      },
      "source": [
        "subset = new2.iloc[:, 28: 32]\n",
        "subset.info()"
      ],
      "execution_count": null,
      "outputs": [
        {
          "output_type": "stream",
          "text": [
            "<class 'pandas.core.frame.DataFrame'>\n",
            "Int64Index: 1393 entries, 0 to 1392\n",
            "Data columns (total 4 columns):\n",
            " #   Column      Non-Null Count  Dtype  \n",
            "---  ------      --------------  -----  \n",
            " 0   book/price  1393 non-null   float64\n",
            " 1   e/p         1393 non-null   float64\n",
            " 2   ebit/p      1393 non-null   float64\n",
            " 3   sales/p     1393 non-null   float64\n",
            "dtypes: float64(4)\n",
            "memory usage: 54.4 KB\n"
          ],
          "name": "stdout"
        }
      ]
    },
    {
      "cell_type": "code",
      "metadata": {
        "colab": {
          "base_uri": "https://localhost:8080/"
        },
        "id": "bFa73MoVDe6X",
        "outputId": "9db6223c-c0b6-4d71-8324-10004cec275a"
      },
      "source": [
        "subset1 = new2.iloc[:, 3:28]\n",
        "subset1.info()"
      ],
      "execution_count": null,
      "outputs": [
        {
          "output_type": "stream",
          "text": [
            "<class 'pandas.core.frame.DataFrame'>\n",
            "Int64Index: 1393 entries, 0 to 1392\n",
            "Data columns (total 25 columns):\n",
            " #   Column    Non-Null Count  Dtype\n",
            "---  ------    --------------  -----\n",
            " 0   SIC_1311  1393 non-null   uint8\n",
            " 1   SIC_1531  1393 non-null   uint8\n",
            " 2   SIC_2834  1393 non-null   uint8\n",
            " 3   SIC_2835  1393 non-null   uint8\n",
            " 4   SIC_2836  1393 non-null   uint8\n",
            " 5   SIC_3674  1393 non-null   uint8\n",
            " 6   SIC_3714  1393 non-null   uint8\n",
            " 7   SIC_3826  1393 non-null   uint8\n",
            " 8   SIC_3841  1393 non-null   uint8\n",
            " 9   SIC_3842  1393 non-null   uint8\n",
            " 10  SIC_3845  1393 non-null   uint8\n",
            " 11  SIC_4911  1393 non-null   uint8\n",
            " 12  SIC_4931  1393 non-null   uint8\n",
            " 13  SIC_5500  1393 non-null   uint8\n",
            " 14  SIC_5812  1393 non-null   uint8\n",
            " 15  SIC_6020  1393 non-null   uint8\n",
            " 16  SIC_6035  1393 non-null   uint8\n",
            " 17  SIC_6141  1393 non-null   uint8\n",
            " 18  SIC_6282  1393 non-null   uint8\n",
            " 19  SIC_6331  1393 non-null   uint8\n",
            " 20  SIC_6798  1393 non-null   uint8\n",
            " 21  SIC_7370  1393 non-null   uint8\n",
            " 22  SIC_7372  1393 non-null   uint8\n",
            " 23  SIC_7373  1393 non-null   uint8\n",
            " 24  SIC_7374  1393 non-null   uint8\n",
            "dtypes: uint8(25)\n",
            "memory usage: 44.9 KB\n"
          ],
          "name": "stdout"
        }
      ]
    },
    {
      "cell_type": "code",
      "metadata": {
        "colab": {
          "base_uri": "https://localhost:8080/"
        },
        "id": "0EpfsJDsDe9u",
        "outputId": "9d81a3a9-5947-4911-8c55-7a1063b34a65"
      },
      "source": [
        "Y = new2['RetEarly2020']\n",
        "X = subset\n",
        "X = sm.add_constant(X)\n",
        "model_market_early = sm.OLS(Y, X).fit()\n",
        "print(model_market_early.summary())"
      ],
      "execution_count": null,
      "outputs": [
        {
          "output_type": "stream",
          "text": [
            "                            OLS Regression Results                            \n",
            "==============================================================================\n",
            "Dep. Variable:           RetEarly2020   R-squared:                       0.146\n",
            "Model:                            OLS   Adj. R-squared:                  0.143\n",
            "Method:                 Least Squares   F-statistic:                     59.19\n",
            "Date:                Wed, 07 Jul 2021   Prob (F-statistic):           3.45e-46\n",
            "Time:                        19:26:07   Log-Likelihood:                -491.73\n",
            "No. Observations:                1393   AIC:                             993.5\n",
            "Df Residuals:                    1388   BIC:                             1020.\n",
            "Df Model:                           4                                         \n",
            "Covariance Type:            nonrobust                                         \n",
            "==============================================================================\n",
            "                 coef    std err          t      P>|t|      [0.025      0.975]\n",
            "------------------------------------------------------------------------------\n",
            "const         -0.1704      0.015    -11.319      0.000      -0.200      -0.141\n",
            "book/price    -0.1561      0.028     -5.501      0.000      -0.212      -0.100\n",
            "e/p           -0.2250      0.103     -2.187      0.029      -0.427      -0.023\n",
            "ebit/p        -0.5800      0.109     -5.310      0.000      -0.794      -0.366\n",
            "sales/p       -0.0085      0.014     -0.602      0.547      -0.036       0.019\n",
            "==============================================================================\n",
            "Omnibus:                     2156.095   Durbin-Watson:                   1.866\n",
            "Prob(Omnibus):                  0.000   Jarque-Bera (JB):          1668767.202\n",
            "Skew:                           9.106   Prob(JB):                         0.00\n",
            "Kurtosis:                     171.581   Cond. No.                         19.1\n",
            "==============================================================================\n",
            "\n",
            "Warnings:\n",
            "[1] Standard Errors assume that the covariance matrix of the errors is correctly specified.\n"
          ],
          "name": "stdout"
        }
      ]
    },
    {
      "cell_type": "code",
      "metadata": {
        "colab": {
          "base_uri": "https://localhost:8080/"
        },
        "id": "A3ROr6wyDfAn",
        "outputId": "d604414f-4d87-41ff-df4d-3818953cc02d"
      },
      "source": [
        "X1 = subset1\n",
        "model_naics_early = sm.OLS(Y, X1).fit()\n",
        "print(model_naics_early.summary())"
      ],
      "execution_count": null,
      "outputs": [
        {
          "output_type": "stream",
          "text": [
            "                            OLS Regression Results                            \n",
            "==============================================================================\n",
            "Dep. Variable:           RetEarly2020   R-squared:                       0.140\n",
            "Model:                            OLS   Adj. R-squared:                  0.125\n",
            "Method:                 Least Squares   F-statistic:                     9.249\n",
            "Date:                Wed, 07 Jul 2021   Prob (F-statistic):           3.94e-31\n",
            "Time:                        19:26:07   Log-Likelihood:                -496.70\n",
            "No. Observations:                1393   AIC:                             1043.\n",
            "Df Residuals:                    1368   BIC:                             1174.\n",
            "Df Model:                          24                                         \n",
            "Covariance Type:            nonrobust                                         \n",
            "==============================================================================\n",
            "                 coef    std err          t      P>|t|      [0.025      0.975]\n",
            "------------------------------------------------------------------------------\n",
            "SIC_1311      -0.6734      0.058    -11.584      0.000      -0.787      -0.559\n",
            "SIC_1531      -0.4203      0.087     -4.820      0.000      -0.591      -0.249\n",
            "SIC_2834      -0.2323      0.041     -5.691      0.000      -0.312      -0.152\n",
            "SIC_2835       0.1874      0.076      2.462      0.014       0.038       0.337\n",
            "SIC_2836      -0.1065      0.024     -4.360      0.000      -0.154      -0.059\n",
            "SIC_3674      -0.2288      0.049     -4.684      0.000      -0.325      -0.133\n",
            "SIC_3714      -0.4696      0.085     -5.552      0.000      -0.636      -0.304\n",
            "SIC_3826      -0.1917      0.090     -2.129      0.033      -0.368      -0.015\n",
            "SIC_3841      -0.0993      0.078     -1.274      0.203      -0.252       0.054\n",
            "SIC_3842      -0.3068      0.082     -3.732      0.000      -0.468      -0.146\n",
            "SIC_3845      -0.1488      0.057     -2.595      0.010      -0.261      -0.036\n",
            "SIC_4911      -0.1634      0.074     -2.197      0.028      -0.309      -0.017\n",
            "SIC_4931      -0.1678      0.076     -2.205      0.028      -0.317      -0.019\n",
            "SIC_5500      -0.4259      0.090     -4.729      0.000      -0.603      -0.249\n",
            "SIC_5812      -0.4199      0.063     -6.704      0.000      -0.543      -0.297\n",
            "SIC_6020      -0.3710      0.022    -17.051      0.000      -0.414      -0.328\n",
            "SIC_6035      -0.3172      0.078     -4.068      0.000      -0.470      -0.164\n",
            "SIC_6141      -0.4328      0.090     -4.806      0.000      -0.609      -0.256\n",
            "SIC_6282      -0.2937      0.061     -4.837      0.000      -0.413      -0.175\n",
            "SIC_6331      -0.2190      0.051     -4.258      0.000      -0.320      -0.118\n",
            "SIC_6798      -0.3596      0.026    -13.986      0.000      -0.410      -0.309\n",
            "SIC_7370      -0.1661      0.028     -5.834      0.000      -0.222      -0.110\n",
            "SIC_7372      -0.1416      0.050     -2.812      0.005      -0.240      -0.043\n",
            "SIC_7373      -0.1410      0.080     -1.762      0.078      -0.298       0.016\n",
            "SIC_7374      -0.2892      0.071     -4.062      0.000      -0.429      -0.150\n",
            "==============================================================================\n",
            "Omnibus:                     2232.924   Durbin-Watson:                   1.844\n",
            "Prob(Omnibus):                  0.000   Jarque-Bera (JB):          1726160.161\n",
            "Skew:                           9.821   Prob(JB):                         0.00\n",
            "Kurtosis:                     174.331   Cond. No.                         4.14\n",
            "==============================================================================\n",
            "\n",
            "Warnings:\n",
            "[1] Standard Errors assume that the covariance matrix of the errors is correctly specified.\n"
          ],
          "name": "stdout"
        }
      ]
    },
    {
      "cell_type": "code",
      "metadata": {
        "colab": {
          "base_uri": "https://localhost:8080/"
        },
        "id": "32t-pyzxDm--",
        "outputId": "b53d8542-408e-44b4-da25-dab73c5425b5"
      },
      "source": [
        "X2 = new2.drop(columns=['TICKER', 'RetEarly2020','RetLate2020'])\n",
        "X2 = sm.add_constant(X2)\n",
        "m_early = sm.OLS(Y, X2).fit()\n",
        "print(m_early.summary())"
      ],
      "execution_count": null,
      "outputs": [
        {
          "output_type": "stream",
          "text": [
            "                            OLS Regression Results                            \n",
            "==============================================================================\n",
            "Dep. Variable:           RetEarly2020   R-squared:                       0.214\n",
            "Model:                            OLS   Adj. R-squared:                  0.198\n",
            "Method:                 Least Squares   F-statistic:                     13.25\n",
            "Date:                Wed, 07 Jul 2021   Prob (F-statistic):           1.44e-53\n",
            "Time:                        19:26:07   Log-Likelihood:                -433.85\n",
            "No. Observations:                1393   AIC:                             925.7\n",
            "Df Residuals:                    1364   BIC:                             1078.\n",
            "Df Model:                          28                                         \n",
            "Covariance Type:            nonrobust                                         \n",
            "==============================================================================\n",
            "                 coef    std err          t      P>|t|      [0.025      0.975]\n",
            "------------------------------------------------------------------------------\n",
            "const         -0.1666      0.019     -8.663      0.000      -0.204      -0.129\n",
            "SIC_1311      -0.3782      0.057     -6.656      0.000      -0.490      -0.267\n",
            "SIC_1531      -0.0607      0.083     -0.728      0.467      -0.224       0.103\n",
            "SIC_2834      -0.0945      0.041     -2.290      0.022      -0.175      -0.014\n",
            "SIC_2835       0.3654      0.072      5.093      0.000       0.225       0.506\n",
            "SIC_2836      -0.0474      0.032     -1.485      0.138      -0.110       0.015\n",
            "SIC_3674      -0.0097      0.047     -0.208      0.835      -0.102       0.082\n",
            "SIC_3714      -0.1573      0.082     -1.909      0.057      -0.319       0.004\n",
            "SIC_3826       0.0149      0.084      0.177      0.859      -0.150       0.180\n",
            "SIC_3841       0.0847      0.073      1.154      0.249      -0.059       0.229\n",
            "SIC_3842      -0.1374      0.077     -1.783      0.075      -0.288       0.014\n",
            "SIC_3845       0.0081      0.055      0.147      0.883      -0.100       0.117\n",
            "SIC_4911       0.1374      0.070      1.967      0.049       0.000       0.274\n",
            "SIC_4931       0.1237      0.071      1.736      0.083      -0.016       0.263\n",
            "SIC_5500      -0.1161      0.097     -1.202      0.229      -0.306       0.073\n",
            "SIC_5812      -0.1873      0.061     -3.075      0.002      -0.307      -0.068\n",
            "SIC_6020       0.0106      0.030      0.354      0.724      -0.048       0.069\n",
            "SIC_6035       0.0451      0.075      0.604      0.546      -0.101       0.192\n",
            "SIC_6141       0.0129      0.086      0.150      0.881      -0.155       0.181\n",
            "SIC_6282       0.0184      0.058      0.319      0.750      -0.094       0.131\n",
            "SIC_6331       0.1355      0.051      2.669      0.008       0.036       0.235\n",
            "SIC_6798      -0.0547      0.030     -1.852      0.064      -0.113       0.003\n",
            "SIC_7370       0.0166      0.030      0.555      0.579      -0.042       0.075\n",
            "SIC_7372       0.0671      0.049      1.383      0.167      -0.028       0.162\n",
            "SIC_7373       0.0961      0.075      1.285      0.199      -0.051       0.243\n",
            "SIC_7374      -0.0599      0.067     -0.896      0.370      -0.191       0.071\n",
            "book/price    -0.1439      0.036     -3.985      0.000      -0.215      -0.073\n",
            "e/p           -0.2638      0.104     -2.546      0.011      -0.467      -0.061\n",
            "ebit/p        -0.6517      0.115     -5.668      0.000      -0.877      -0.426\n",
            "sales/p        0.0108      0.019      0.579      0.563      -0.026       0.048\n",
            "==============================================================================\n",
            "Omnibus:                     2129.893   Durbin-Watson:                   1.876\n",
            "Prob(Omnibus):                  0.000   Jarque-Bera (JB):          1517486.804\n",
            "Skew:                           8.910   Prob(JB):                         0.00\n",
            "Kurtosis:                     163.709   Cond. No.                     6.68e+15\n",
            "==============================================================================\n",
            "\n",
            "Warnings:\n",
            "[1] Standard Errors assume that the covariance matrix of the errors is correctly specified.\n",
            "[2] The smallest eigenvalue is 5.12e-29. This might indicate that there are\n",
            "strong multicollinearity problems or that the design matrix is singular.\n"
          ],
          "name": "stdout"
        }
      ]
    },
    {
      "cell_type": "markdown",
      "metadata": {
        "id": "r2xRBs2sCh-e"
      },
      "source": [
        "#### GGROUP"
      ]
    },
    {
      "cell_type": "code",
      "metadata": {
        "id": "C9U6aeO4CkW4"
      },
      "source": [
        "dd3 = pd.get_dummies(ggroup_returns, columns=['GGROUP'])"
      ],
      "execution_count": null,
      "outputs": []
    },
    {
      "cell_type": "code",
      "metadata": {
        "id": "D8DDt2z6CkZf"
      },
      "source": [
        "new3 = pd.merge(dd3, mr, on='TICKER')"
      ],
      "execution_count": null,
      "outputs": []
    },
    {
      "cell_type": "code",
      "metadata": {
        "id": "YGo3a3m5E5Sc"
      },
      "source": [
        "new3['book/price'] = new3['ceq']/(new3['prcc_c']*new3['csho'])\n",
        "new3['e/p'] = new3['ni']/(new3['prcc_c']*new3['csho'])\n",
        "new3['ebit/p'] = new3['ebit']/(new3['prcc_c']*new3['csho'])\n",
        "new3['sales/p'] = new3['sale']/(new3['prcc_c']*new3['csho'])"
      ],
      "execution_count": null,
      "outputs": []
    },
    {
      "cell_type": "code",
      "metadata": {
        "id": "8TLivKRKE5WV"
      },
      "source": [
        "new3.drop(['gvkey', 'datadate', 'fyear', 'indfmt', 'consol', 'popsrc', 'datafmt', 'curcd', 'ceq', 'csho', \n",
        "            'ebit', 'ni', 'sale', 'costat', 'prcc_c'], axis=1, inplace=True)"
      ],
      "execution_count": null,
      "outputs": []
    },
    {
      "cell_type": "code",
      "metadata": {
        "id": "4vVVJD_wE5ZX"
      },
      "source": [
        "#winsorize the ratio variables at 1% and 99% values\n",
        "new3['book/price'] = winsorize(new3['book/price'], (0.01, 0.01))\n",
        "new3['e/p'] = winsorize(new3['e/p'], (0.01, 0.01))\n",
        "new3['ebit/p'] = winsorize(new3['ebit/p'], (0.01, 0.01))\n",
        "new3['sales/p'] = winsorize(new3['sales/p'], (0.01, 0.01))"
      ],
      "execution_count": null,
      "outputs": []
    },
    {
      "cell_type": "code",
      "metadata": {
        "colab": {
          "base_uri": "https://localhost:8080/"
        },
        "id": "XQbE15w8E5yZ",
        "outputId": "50ec708c-edf5-41b0-b6b1-30c383573ffb"
      },
      "source": [
        "subset = new3.iloc[:, 27: 31]\n",
        "subset.info()"
      ],
      "execution_count": null,
      "outputs": [
        {
          "output_type": "stream",
          "text": [
            "<class 'pandas.core.frame.DataFrame'>\n",
            "Int64Index: 2666 entries, 0 to 2665\n",
            "Data columns (total 4 columns):\n",
            " #   Column      Non-Null Count  Dtype  \n",
            "---  ------      --------------  -----  \n",
            " 0   book/price  2666 non-null   float64\n",
            " 1   e/p         2666 non-null   float64\n",
            " 2   ebit/p      2666 non-null   float64\n",
            " 3   sales/p     2666 non-null   float64\n",
            "dtypes: float64(4)\n",
            "memory usage: 104.1 KB\n"
          ],
          "name": "stdout"
        }
      ]
    },
    {
      "cell_type": "code",
      "metadata": {
        "colab": {
          "base_uri": "https://localhost:8080/"
        },
        "id": "pHLGc3miFATU",
        "outputId": "bbf595e6-a277-4e22-e5c4-22dd20b56a3c"
      },
      "source": [
        "subset1 = new3.iloc[:, 3:27]\n",
        "subset1.info()"
      ],
      "execution_count": null,
      "outputs": [
        {
          "output_type": "stream",
          "text": [
            "<class 'pandas.core.frame.DataFrame'>\n",
            "Int64Index: 2666 entries, 0 to 2665\n",
            "Data columns (total 24 columns):\n",
            " #   Column       Non-Null Count  Dtype\n",
            "---  ------       --------------  -----\n",
            " 0   GGROUP_1010  2666 non-null   uint8\n",
            " 1   GGROUP_1510  2666 non-null   uint8\n",
            " 2   GGROUP_2010  2666 non-null   uint8\n",
            " 3   GGROUP_2020  2666 non-null   uint8\n",
            " 4   GGROUP_2030  2666 non-null   uint8\n",
            " 5   GGROUP_2510  2666 non-null   uint8\n",
            " 6   GGROUP_2520  2666 non-null   uint8\n",
            " 7   GGROUP_2530  2666 non-null   uint8\n",
            " 8   GGROUP_2550  2666 non-null   uint8\n",
            " 9   GGROUP_3010  2666 non-null   uint8\n",
            " 10  GGROUP_3020  2666 non-null   uint8\n",
            " 11  GGROUP_3030  2666 non-null   uint8\n",
            " 12  GGROUP_3510  2666 non-null   uint8\n",
            " 13  GGROUP_3520  2666 non-null   uint8\n",
            " 14  GGROUP_4010  2666 non-null   uint8\n",
            " 15  GGROUP_4020  2666 non-null   uint8\n",
            " 16  GGROUP_4030  2666 non-null   uint8\n",
            " 17  GGROUP_4510  2666 non-null   uint8\n",
            " 18  GGROUP_4520  2666 non-null   uint8\n",
            " 19  GGROUP_4530  2666 non-null   uint8\n",
            " 20  GGROUP_5010  2666 non-null   uint8\n",
            " 21  GGROUP_5020  2666 non-null   uint8\n",
            " 22  GGROUP_5510  2666 non-null   uint8\n",
            " 23  GGROUP_6010  2666 non-null   uint8\n",
            "dtypes: uint8(24)\n",
            "memory usage: 83.3 KB\n"
          ],
          "name": "stdout"
        }
      ]
    },
    {
      "cell_type": "code",
      "metadata": {
        "colab": {
          "base_uri": "https://localhost:8080/"
        },
        "id": "IemkpMRPFAV2",
        "outputId": "bce2e7c6-b518-4070-e491-929b65b16640"
      },
      "source": [
        "Y = new3['RetEarly2020']\n",
        "X = subset\n",
        "X = sm.add_constant(X)\n",
        "model_market_early = sm.OLS(Y, X).fit()\n",
        "print(model_market_early.summary())"
      ],
      "execution_count": null,
      "outputs": [
        {
          "output_type": "stream",
          "text": [
            "                            OLS Regression Results                            \n",
            "==============================================================================\n",
            "Dep. Variable:           RetEarly2020   R-squared:                       0.101\n",
            "Model:                            OLS   Adj. R-squared:                  0.100\n",
            "Method:                 Least Squares   F-statistic:                     74.80\n",
            "Date:                Wed, 07 Jul 2021   Prob (F-statistic):           3.66e-60\n",
            "Time:                        19:26:07   Log-Likelihood:                -545.33\n",
            "No. Observations:                2666   AIC:                             1101.\n",
            "Df Residuals:                    2661   BIC:                             1130.\n",
            "Df Model:                           4                                         \n",
            "Covariance Type:            nonrobust                                         \n",
            "==============================================================================\n",
            "                 coef    std err          t      P>|t|      [0.025      0.975]\n",
            "------------------------------------------------------------------------------\n",
            "const         -0.2067      0.009    -23.164      0.000      -0.224      -0.189\n",
            "book/price    -0.1028      0.016     -6.487      0.000      -0.134      -0.072\n",
            "e/p           -0.0843      0.061     -1.386      0.166      -0.204       0.035\n",
            "ebit/p        -0.6077      0.072     -8.488      0.000      -0.748      -0.467\n",
            "sales/p       -0.0023      0.005     -0.423      0.672      -0.013       0.008\n",
            "==============================================================================\n",
            "Omnibus:                     3949.376   Durbin-Watson:                   1.862\n",
            "Prob(Omnibus):                  0.000   Jarque-Bera (JB):          3432521.821\n",
            "Skew:                           8.511   Prob(JB):                         0.00\n",
            "Kurtosis:                     177.959   Cond. No.                         25.4\n",
            "==============================================================================\n",
            "\n",
            "Warnings:\n",
            "[1] Standard Errors assume that the covariance matrix of the errors is correctly specified.\n"
          ],
          "name": "stdout"
        }
      ]
    },
    {
      "cell_type": "code",
      "metadata": {
        "colab": {
          "base_uri": "https://localhost:8080/"
        },
        "id": "glwnwV_uFAZ6",
        "outputId": "9895a3d7-6aea-4aed-de68-74944647cdc9"
      },
      "source": [
        "X1 = subset1\n",
        "model_naics_early = sm.OLS(Y, X1).fit()\n",
        "print(model_naics_early.summary())"
      ],
      "execution_count": null,
      "outputs": [
        {
          "output_type": "stream",
          "text": [
            "                            OLS Regression Results                            \n",
            "==============================================================================\n",
            "Dep. Variable:           RetEarly2020   R-squared:                       0.131\n",
            "Model:                            OLS   Adj. R-squared:                  0.123\n",
            "Method:                 Least Squares   F-statistic:                     17.25\n",
            "Date:                Wed, 07 Jul 2021   Prob (F-statistic):           1.59e-64\n",
            "Time:                        19:26:07   Log-Likelihood:                -500.90\n",
            "No. Observations:                2666   AIC:                             1050.\n",
            "Df Residuals:                    2642   BIC:                             1191.\n",
            "Df Model:                          23                                         \n",
            "Covariance Type:            nonrobust                                         \n",
            "===============================================================================\n",
            "                  coef    std err          t      P>|t|      [0.025      0.975]\n",
            "-------------------------------------------------------------------------------\n",
            "GGROUP_1010    -0.5807      0.029    -20.192      0.000      -0.637      -0.524\n",
            "GGROUP_1510    -0.3509      0.027    -13.161      0.000      -0.403      -0.299\n",
            "GGROUP_2010    -0.3169      0.019    -16.457      0.000      -0.355      -0.279\n",
            "GGROUP_2020    -0.3325      0.032    -10.328      0.000      -0.396      -0.269\n",
            "GGROUP_2030    -0.3266      0.041     -8.029      0.000      -0.406      -0.247\n",
            "GGROUP_2510    -0.4295      0.054     -7.885      0.000      -0.536      -0.323\n",
            "GGROUP_2520    -0.3915      0.032    -12.087      0.000      -0.455      -0.328\n",
            "GGROUP_2530    -0.4482      0.031    -14.417      0.000      -0.509      -0.387\n",
            "GGROUP_2550    -0.3854      0.029    -13.269      0.000      -0.442      -0.328\n",
            "GGROUP_3010    -0.1759      0.063     -2.812      0.005      -0.298      -0.053\n",
            "GGROUP_3020    -0.1810      0.038     -4.780      0.000      -0.255      -0.107\n",
            "GGROUP_3030    -0.2310      0.060     -3.859      0.000      -0.348      -0.114\n",
            "GGROUP_3510    -0.1343      0.022     -6.022      0.000      -0.178      -0.091\n",
            "GGROUP_3520    -0.1410      0.017     -8.425      0.000      -0.174      -0.108\n",
            "GGROUP_4010    -0.3685      0.017    -21.614      0.000      -0.402      -0.335\n",
            "GGROUP_4020    -0.3596      0.026    -13.650      0.000      -0.411      -0.308\n",
            "GGROUP_4030    -0.2495      0.032     -7.795      0.000      -0.312      -0.187\n",
            "GGROUP_4510    -0.1772      0.021     -8.262      0.000      -0.219      -0.135\n",
            "GGROUP_4520    -0.2896      0.030     -9.520      0.000      -0.349      -0.230\n",
            "GGROUP_4530    -0.2265      0.037     -6.081      0.000      -0.300      -0.153\n",
            "GGROUP_5010    -0.0892      0.066     -1.360      0.174      -0.218       0.039\n",
            "GGROUP_5020    -0.3414      0.034    -10.080      0.000      -0.408      -0.275\n",
            "GGROUP_5510    -0.1479      0.035     -4.189      0.000      -0.217      -0.079\n",
            "GGROUP_6010    -0.3281      0.022    -14.841      0.000      -0.371      -0.285\n",
            "==============================================================================\n",
            "Omnibus:                     4274.447   Durbin-Watson:                   1.865\n",
            "Prob(Omnibus):                  0.000   Jarque-Bera (JB):          4936095.354\n",
            "Skew:                           9.950   Prob(JB):                         0.00\n",
            "Kurtosis:                     212.857   Cond. No.                         3.92\n",
            "==============================================================================\n",
            "\n",
            "Warnings:\n",
            "[1] Standard Errors assume that the covariance matrix of the errors is correctly specified.\n"
          ],
          "name": "stdout"
        }
      ]
    },
    {
      "cell_type": "code",
      "metadata": {
        "colab": {
          "base_uri": "https://localhost:8080/"
        },
        "id": "7jkiSPNGFAcU",
        "outputId": "2c655c91-4fe1-4382-e675-95b69b0d4ad7"
      },
      "source": [
        "X2 = new3.drop(columns=['TICKER', 'RetEarly2020','RetLate2020'])\n",
        "X2 = sm.add_constant(X2)\n",
        "m_early = sm.OLS(Y, X2).fit()\n",
        "print(m_early.summary())"
      ],
      "execution_count": null,
      "outputs": [
        {
          "output_type": "stream",
          "text": [
            "                            OLS Regression Results                            \n",
            "==============================================================================\n",
            "Dep. Variable:           RetEarly2020   R-squared:                       0.173\n",
            "Model:                            OLS   Adj. R-squared:                  0.165\n",
            "Method:                 Least Squares   F-statistic:                     20.50\n",
            "Date:                Wed, 07 Jul 2021   Prob (F-statistic):           1.62e-89\n",
            "Time:                        19:26:07   Log-Likelihood:                -433.49\n",
            "No. Observations:                2666   AIC:                             923.0\n",
            "Df Residuals:                    2638   BIC:                             1088.\n",
            "Df Model:                          27                                         \n",
            "Covariance Type:            nonrobust                                         \n",
            "===============================================================================\n",
            "                  coef    std err          t      P>|t|      [0.025      0.975]\n",
            "-------------------------------------------------------------------------------\n",
            "const          -0.2129      0.011    -20.004      0.000      -0.234      -0.192\n",
            "GGROUP_1010    -0.2745      0.029     -9.502      0.000      -0.331      -0.218\n",
            "GGROUP_1510    -0.0568      0.026     -2.188      0.029      -0.108      -0.006\n",
            "GGROUP_2010    -0.0314      0.019     -1.621      0.105      -0.069       0.007\n",
            "GGROUP_2020    -0.0506      0.031     -1.633      0.103      -0.111       0.010\n",
            "GGROUP_2030    -0.0139      0.039     -0.357      0.721      -0.090       0.062\n",
            "GGROUP_2510    -0.1168      0.052     -2.252      0.024      -0.218      -0.015\n",
            "GGROUP_2520    -0.0976      0.031     -3.126      0.002      -0.159      -0.036\n",
            "GGROUP_2530    -0.1720      0.030     -5.726      0.000      -0.231      -0.113\n",
            "GGROUP_2550    -0.1017      0.029     -3.495      0.000      -0.159      -0.045\n",
            "GGROUP_3010     0.1205      0.061      1.987      0.047       0.002       0.239\n",
            "GGROUP_3020     0.0910      0.036      2.517      0.012       0.020       0.162\n",
            "GGROUP_3030     0.0493      0.057      0.872      0.383      -0.062       0.160\n",
            "GGROUP_3510     0.1056      0.022      4.721      0.000       0.062       0.150\n",
            "GGROUP_3520     0.0200      0.020      0.991      0.322      -0.020       0.059\n",
            "GGROUP_4010    -0.0196      0.020     -0.976      0.329      -0.059       0.020\n",
            "GGROUP_4020    -0.0027      0.027     -0.100      0.920      -0.056       0.051\n",
            "GGROUP_4030     0.0804      0.032      2.529      0.012       0.018       0.143\n",
            "GGROUP_4510     0.0548      0.022      2.506      0.012       0.012       0.098\n",
            "GGROUP_4520    -0.0315      0.029     -1.071      0.284      -0.089       0.026\n",
            "GGROUP_4530     0.0178      0.036      0.498      0.618      -0.052       0.088\n",
            "GGROUP_5010     0.1853      0.062      2.998      0.003       0.064       0.307\n",
            "GGROUP_5020    -0.0559      0.033     -1.718      0.086      -0.120       0.008\n",
            "GGROUP_5510     0.1404      0.034      4.136      0.000       0.074       0.207\n",
            "GGROUP_6010    -0.0531      0.022     -2.368      0.018      -0.097      -0.009\n",
            "book/price     -0.0698      0.018     -3.885      0.000      -0.105      -0.035\n",
            "e/p            -0.0667      0.060     -1.108      0.268      -0.185       0.051\n",
            "ebit/p         -0.5792      0.076     -7.626      0.000      -0.728      -0.430\n",
            "sales/p         0.0034      0.006      0.540      0.589      -0.009       0.016\n",
            "==============================================================================\n",
            "Omnibus:                     4163.095   Durbin-Watson:                   1.884\n",
            "Prob(Omnibus):                  0.000   Jarque-Bera (JB):          4442426.369\n",
            "Skew:                           9.430   Prob(JB):                         0.00\n",
            "Kurtosis:                     202.088   Cond. No.                     8.47e+15\n",
            "==============================================================================\n",
            "\n",
            "Warnings:\n",
            "[1] Standard Errors assume that the covariance matrix of the errors is correctly specified.\n",
            "[2] The smallest eigenvalue is 1.08e-28. This might indicate that there are\n",
            "strong multicollinearity problems or that the design matrix is singular.\n"
          ],
          "name": "stdout"
        }
      ]
    },
    {
      "cell_type": "markdown",
      "metadata": {
        "id": "Eq3hgjXACkpe"
      },
      "source": [
        "#### GSECTOR"
      ]
    },
    {
      "cell_type": "code",
      "metadata": {
        "id": "URPJAthkCnM5"
      },
      "source": [
        "dd4 = pd.get_dummies(gsector_returns, columns=['GSECTOR'])"
      ],
      "execution_count": null,
      "outputs": []
    },
    {
      "cell_type": "code",
      "metadata": {
        "id": "9laR-TnKCnPt"
      },
      "source": [
        "new4 = pd.merge(dd4, mr, on='TICKER')"
      ],
      "execution_count": null,
      "outputs": []
    },
    {
      "cell_type": "code",
      "metadata": {
        "id": "Rv66E3Q1uwyx"
      },
      "source": [
        "new4['book/price'] = new4['ceq']/(new4['prcc_c']*new4['csho'])\n",
        "new4['e/p'] = new4['ni']/(new4['prcc_c']*new4['csho'])\n",
        "new4['ebit/p'] = new4['ebit']/(new4['prcc_c']*new4['csho'])\n",
        "new4['sales/p'] = new4['sale']/(new4['prcc_c']*new4['csho'])"
      ],
      "execution_count": null,
      "outputs": []
    },
    {
      "cell_type": "code",
      "metadata": {
        "id": "k07sqOJkuw1s"
      },
      "source": [
        "new4.drop(['gvkey', 'datadate', 'fyear', 'indfmt', 'consol', 'popsrc', 'datafmt', 'curcd', 'ceq', 'csho', \n",
        "            'ebit', 'ni', 'sale', 'costat', 'prcc_c'], axis=1, inplace=True)"
      ],
      "execution_count": null,
      "outputs": []
    },
    {
      "cell_type": "code",
      "metadata": {
        "id": "MXiNgaS1uw3p"
      },
      "source": [
        "#winsorize the ratio variables at 1% and 99% values\n",
        "new4['book/price'] = winsorize(new4['book/price'], (0.01, 0.01))\n",
        "new4['e/p'] = winsorize(new4['e/p'], (0.01, 0.01))\n",
        "new4['ebit/p'] = winsorize(new4['ebit/p'], (0.01, 0.01))\n",
        "new4['sales/p'] = winsorize(new4['sales/p'], (0.01, 0.01))"
      ],
      "execution_count": null,
      "outputs": []
    },
    {
      "cell_type": "code",
      "metadata": {
        "colab": {
          "base_uri": "https://localhost:8080/"
        },
        "id": "1dYfsHnEBPSC",
        "outputId": "caa50685-e104-4bba-92e8-08f9defa853c"
      },
      "source": [
        "new4.info()"
      ],
      "execution_count": null,
      "outputs": [
        {
          "output_type": "stream",
          "text": [
            "<class 'pandas.core.frame.DataFrame'>\n",
            "Int64Index: 2666 entries, 0 to 2665\n",
            "Data columns (total 18 columns):\n",
            " #   Column        Non-Null Count  Dtype  \n",
            "---  ------        --------------  -----  \n",
            " 0   TICKER        2666 non-null   object \n",
            " 1   RetEarly2020  2666 non-null   float64\n",
            " 2   RetLate2020   2666 non-null   float64\n",
            " 3   GSECTOR_10    2666 non-null   uint8  \n",
            " 4   GSECTOR_15    2666 non-null   uint8  \n",
            " 5   GSECTOR_20    2666 non-null   uint8  \n",
            " 6   GSECTOR_25    2666 non-null   uint8  \n",
            " 7   GSECTOR_30    2666 non-null   uint8  \n",
            " 8   GSECTOR_35    2666 non-null   uint8  \n",
            " 9   GSECTOR_40    2666 non-null   uint8  \n",
            " 10  GSECTOR_45    2666 non-null   uint8  \n",
            " 11  GSECTOR_50    2666 non-null   uint8  \n",
            " 12  GSECTOR_55    2666 non-null   uint8  \n",
            " 13  GSECTOR_60    2666 non-null   uint8  \n",
            " 14  book/price    2666 non-null   float64\n",
            " 15  e/p           2666 non-null   float64\n",
            " 16  ebit/p        2666 non-null   float64\n",
            " 17  sales/p       2666 non-null   float64\n",
            "dtypes: float64(6), object(1), uint8(11)\n",
            "memory usage: 195.3+ KB\n"
          ],
          "name": "stdout"
        }
      ]
    },
    {
      "cell_type": "code",
      "metadata": {
        "colab": {
          "base_uri": "https://localhost:8080/"
        },
        "id": "LVDvCToGu18U",
        "outputId": "7d4c9199-e7c3-4dc0-dedf-8bcabd6f7e7b"
      },
      "source": [
        "subset = new4.iloc[:, 14: 18]\n",
        "subset.info()"
      ],
      "execution_count": null,
      "outputs": [
        {
          "output_type": "stream",
          "text": [
            "<class 'pandas.core.frame.DataFrame'>\n",
            "Int64Index: 2666 entries, 0 to 2665\n",
            "Data columns (total 4 columns):\n",
            " #   Column      Non-Null Count  Dtype  \n",
            "---  ------      --------------  -----  \n",
            " 0   book/price  2666 non-null   float64\n",
            " 1   e/p         2666 non-null   float64\n",
            " 2   ebit/p      2666 non-null   float64\n",
            " 3   sales/p     2666 non-null   float64\n",
            "dtypes: float64(4)\n",
            "memory usage: 104.1 KB\n"
          ],
          "name": "stdout"
        }
      ]
    },
    {
      "cell_type": "code",
      "metadata": {
        "colab": {
          "base_uri": "https://localhost:8080/"
        },
        "id": "OVq1uLP4u1_w",
        "outputId": "f394fd80-b19b-4402-8806-17bb536162be"
      },
      "source": [
        "subset1 = new4.iloc[:, 3:14]\n",
        "subset1.info()"
      ],
      "execution_count": null,
      "outputs": [
        {
          "output_type": "stream",
          "text": [
            "<class 'pandas.core.frame.DataFrame'>\n",
            "Int64Index: 2666 entries, 0 to 2665\n",
            "Data columns (total 11 columns):\n",
            " #   Column      Non-Null Count  Dtype\n",
            "---  ------      --------------  -----\n",
            " 0   GSECTOR_10  2666 non-null   uint8\n",
            " 1   GSECTOR_15  2666 non-null   uint8\n",
            " 2   GSECTOR_20  2666 non-null   uint8\n",
            " 3   GSECTOR_25  2666 non-null   uint8\n",
            " 4   GSECTOR_30  2666 non-null   uint8\n",
            " 5   GSECTOR_35  2666 non-null   uint8\n",
            " 6   GSECTOR_40  2666 non-null   uint8\n",
            " 7   GSECTOR_45  2666 non-null   uint8\n",
            " 8   GSECTOR_50  2666 non-null   uint8\n",
            " 9   GSECTOR_55  2666 non-null   uint8\n",
            " 10  GSECTOR_60  2666 non-null   uint8\n",
            "dtypes: uint8(11)\n",
            "memory usage: 49.5 KB\n"
          ],
          "name": "stdout"
        }
      ]
    },
    {
      "cell_type": "code",
      "metadata": {
        "colab": {
          "base_uri": "https://localhost:8080/"
        },
        "id": "I9sRAfQfu50u",
        "outputId": "3b0d876a-74bb-4a61-ee5b-034990ee109d"
      },
      "source": [
        "Y = new4['RetEarly2020']\n",
        "X = subset\n",
        "X = sm.add_constant(X)\n",
        "model_market_early = sm.OLS(Y, X).fit()\n",
        "print(model_market_early.summary())"
      ],
      "execution_count": null,
      "outputs": [
        {
          "output_type": "stream",
          "text": [
            "                            OLS Regression Results                            \n",
            "==============================================================================\n",
            "Dep. Variable:           RetEarly2020   R-squared:                       0.101\n",
            "Model:                            OLS   Adj. R-squared:                  0.100\n",
            "Method:                 Least Squares   F-statistic:                     74.80\n",
            "Date:                Wed, 07 Jul 2021   Prob (F-statistic):           3.66e-60\n",
            "Time:                        19:26:08   Log-Likelihood:                -545.33\n",
            "No. Observations:                2666   AIC:                             1101.\n",
            "Df Residuals:                    2661   BIC:                             1130.\n",
            "Df Model:                           4                                         \n",
            "Covariance Type:            nonrobust                                         \n",
            "==============================================================================\n",
            "                 coef    std err          t      P>|t|      [0.025      0.975]\n",
            "------------------------------------------------------------------------------\n",
            "const         -0.2067      0.009    -23.164      0.000      -0.224      -0.189\n",
            "book/price    -0.1028      0.016     -6.487      0.000      -0.134      -0.072\n",
            "e/p           -0.0843      0.061     -1.386      0.166      -0.204       0.035\n",
            "ebit/p        -0.6077      0.072     -8.488      0.000      -0.748      -0.467\n",
            "sales/p       -0.0023      0.005     -0.423      0.672      -0.013       0.008\n",
            "==============================================================================\n",
            "Omnibus:                     3949.376   Durbin-Watson:                   1.862\n",
            "Prob(Omnibus):                  0.000   Jarque-Bera (JB):          3432521.821\n",
            "Skew:                           8.511   Prob(JB):                         0.00\n",
            "Kurtosis:                     177.959   Cond. No.                         25.4\n",
            "==============================================================================\n",
            "\n",
            "Warnings:\n",
            "[1] Standard Errors assume that the covariance matrix of the errors is correctly specified.\n"
          ],
          "name": "stdout"
        }
      ]
    },
    {
      "cell_type": "code",
      "metadata": {
        "colab": {
          "base_uri": "https://localhost:8080/"
        },
        "id": "CSTP4Jvcu53M",
        "outputId": "85f7d932-4a9a-4884-8c65-896cba9ee045"
      },
      "source": [
        "X1 = subset1\n",
        "model_naics_early = sm.OLS(Y, X1).fit()\n",
        "print(model_naics_early.summary())"
      ],
      "execution_count": null,
      "outputs": [
        {
          "output_type": "stream",
          "text": [
            "                            OLS Regression Results                            \n",
            "==============================================================================\n",
            "Dep. Variable:           RetEarly2020   R-squared:                       0.119\n",
            "Model:                            OLS   Adj. R-squared:                  0.116\n",
            "Method:                 Least Squares   F-statistic:                     35.82\n",
            "Date:                Wed, 07 Jul 2021   Prob (F-statistic):           2.95e-66\n",
            "Time:                        19:26:08   Log-Likelihood:                -518.68\n",
            "No. Observations:                2666   AIC:                             1059.\n",
            "Df Residuals:                    2655   BIC:                             1124.\n",
            "Df Model:                          10                                         \n",
            "Covariance Type:            nonrobust                                         \n",
            "==============================================================================\n",
            "                 coef    std err          t      P>|t|      [0.025      0.975]\n",
            "------------------------------------------------------------------------------\n",
            "GSECTOR_10    -0.5807      0.029    -20.107      0.000      -0.637      -0.524\n",
            "GSECTOR_15    -0.3509      0.027    -13.105      0.000      -0.403      -0.298\n",
            "GSECTOR_20    -0.3218      0.015    -20.930      0.000      -0.352      -0.292\n",
            "GSECTOR_25    -0.4098      0.017    -24.177      0.000      -0.443      -0.377\n",
            "GSECTOR_30    -0.1913      0.029     -6.685      0.000      -0.247      -0.135\n",
            "GSECTOR_35    -0.1386      0.013    -10.309      0.000      -0.165      -0.112\n",
            "GSECTOR_40    -0.3464      0.013    -26.406      0.000      -0.372      -0.321\n",
            "GSECTOR_45    -0.2167      0.016    -13.605      0.000      -0.248      -0.185\n",
            "GSECTOR_50    -0.2883      0.030     -9.540      0.000      -0.348      -0.229\n",
            "GSECTOR_55    -0.1479      0.035     -4.171      0.000      -0.217      -0.078\n",
            "GSECTOR_60    -0.3281      0.022    -14.779      0.000      -0.372      -0.285\n",
            "==============================================================================\n",
            "Omnibus:                     4239.441   Durbin-Watson:                   1.858\n",
            "Prob(Omnibus):                  0.000   Jarque-Bera (JB):          4702737.764\n",
            "Skew:                           9.792   Prob(JB):                         0.00\n",
            "Kurtosis:                     207.821   Cond. No.                         2.70\n",
            "==============================================================================\n",
            "\n",
            "Warnings:\n",
            "[1] Standard Errors assume that the covariance matrix of the errors is correctly specified.\n"
          ],
          "name": "stdout"
        }
      ]
    },
    {
      "cell_type": "code",
      "metadata": {
        "colab": {
          "base_uri": "https://localhost:8080/"
        },
        "id": "quxgi234u553",
        "outputId": "925cc3a4-4012-41ac-adf6-412a9fa71d43"
      },
      "source": [
        "X2 = new4.drop(columns=['TICKER', 'RetEarly2020','RetLate2020'])\n",
        "X2 = sm.add_constant(X2)\n",
        "m_early = sm.OLS(Y, X2).fit()\n",
        "print(m_early.summary())"
      ],
      "execution_count": null,
      "outputs": [
        {
          "output_type": "stream",
          "text": [
            "                            OLS Regression Results                            \n",
            "==============================================================================\n",
            "Dep. Variable:           RetEarly2020   R-squared:                       0.161\n",
            "Model:                            OLS   Adj. R-squared:                  0.157\n",
            "Method:                 Least Squares   F-statistic:                     36.39\n",
            "Date:                Wed, 07 Jul 2021   Prob (F-statistic):           8.86e-91\n",
            "Time:                        19:26:08   Log-Likelihood:                -453.04\n",
            "No. Observations:                2666   AIC:                             936.1\n",
            "Df Residuals:                    2651   BIC:                             1024.\n",
            "Df Model:                          14                                         \n",
            "Covariance Type:            nonrobust                                         \n",
            "==============================================================================\n",
            "                 coef    std err          t      P>|t|      [0.025      0.975]\n",
            "------------------------------------------------------------------------------\n",
            "const         -0.2180      0.010    -22.212      0.000      -0.237      -0.199\n",
            "GSECTOR_10    -0.2718      0.028     -9.855      0.000      -0.326      -0.218\n",
            "GSECTOR_15    -0.0569      0.025     -2.292      0.022      -0.106      -0.008\n",
            "GSECTOR_20    -0.0333      0.015     -2.173      0.030      -0.063      -0.003\n",
            "GSECTOR_25    -0.1250      0.017     -7.291      0.000      -0.159      -0.091\n",
            "GSECTOR_30     0.0868      0.027      3.265      0.001       0.035       0.139\n",
            "GSECTOR_35     0.0571      0.015      3.717      0.000       0.027       0.087\n",
            "GSECTOR_40     0.0047      0.016      0.294      0.768      -0.026       0.036\n",
            "GSECTOR_45     0.0280      0.016      1.761      0.078      -0.003       0.059\n",
            "GSECTOR_50    -0.0030      0.028     -0.109      0.914      -0.057       0.051\n",
            "GSECTOR_55     0.1438      0.032      4.447      0.000       0.080       0.207\n",
            "GSECTOR_60    -0.0483      0.021     -2.286      0.022      -0.090      -0.007\n",
            "book/price    -0.0729      0.018     -4.104      0.000      -0.108      -0.038\n",
            "e/p           -0.0433      0.060     -0.722      0.470      -0.161       0.074\n",
            "ebit/p        -0.5791      0.074     -7.806      0.000      -0.725      -0.434\n",
            "sales/p        0.0083      0.006      1.366      0.172      -0.004       0.020\n",
            "==============================================================================\n",
            "Omnibus:                     4153.046   Durbin-Watson:                   1.872\n",
            "Prob(Omnibus):                  0.000   Jarque-Bera (JB):          4422102.341\n",
            "Skew:                           9.382   Prob(JB):                         0.00\n",
            "Kurtosis:                     201.637   Cond. No.                     6.07e+15\n",
            "==============================================================================\n",
            "\n",
            "Warnings:\n",
            "[1] Standard Errors assume that the covariance matrix of the errors is correctly specified.\n",
            "[2] The smallest eigenvalue is 2.13e-28. This might indicate that there are\n",
            "strong multicollinearity problems or that the design matrix is singular.\n"
          ],
          "name": "stdout"
        }
      ]
    },
    {
      "cell_type": "markdown",
      "metadata": {
        "id": "06uWCSUJCuW0"
      },
      "source": [
        "### RetLate2020 (compare with the market ratios)"
      ]
    },
    {
      "cell_type": "markdown",
      "metadata": {
        "id": "C1fAfhnUC0TH"
      },
      "source": [
        "#### NAICS"
      ]
    },
    {
      "cell_type": "code",
      "metadata": {
        "id": "PX4HAEYRC18M"
      },
      "source": [
        "dd5 = pd.get_dummies(naics_25_returns, columns=['NAICS'])"
      ],
      "execution_count": null,
      "outputs": []
    },
    {
      "cell_type": "code",
      "metadata": {
        "id": "Wgbelb0wC1-4"
      },
      "source": [
        "new5 = pd.merge(dd5, mr, on='TICKER')"
      ],
      "execution_count": null,
      "outputs": []
    },
    {
      "cell_type": "code",
      "metadata": {
        "id": "6U_f953S1GtW"
      },
      "source": [
        "new5['book/price'] = new5['ceq']/(new5['prcc_c']*new5['csho'])\n",
        "new5['e/p'] = new5['ni']/(new5['prcc_c']*new5['csho'])\n",
        "new5['ebit/p'] = new5['ebit']/(new5['prcc_c']*new5['csho'])\n",
        "new5['sales/p'] = new5['sale']/(new5['prcc_c']*new5['csho'])"
      ],
      "execution_count": null,
      "outputs": []
    },
    {
      "cell_type": "code",
      "metadata": {
        "id": "BAWIAAA71Gvv"
      },
      "source": [
        "new5.drop(['gvkey', 'datadate', 'fyear', 'indfmt', 'consol', 'popsrc', 'datafmt', 'curcd', 'ceq', 'csho', \n",
        "            'ebit', 'ni', 'sale', 'costat', 'prcc_c'], axis=1, inplace=True)"
      ],
      "execution_count": null,
      "outputs": []
    },
    {
      "cell_type": "code",
      "metadata": {
        "id": "Oow_vFHq1NpX"
      },
      "source": [
        "#winsorize the ratio variables at 1% and 99% values\n",
        "new5['book/price'] = winsorize(new5['book/price'], (0.01, 0.01))\n",
        "new5['e/p'] = winsorize(new5['e/p'], (0.01, 0.01))\n",
        "new5['ebit/p'] = winsorize(new5['ebit/p'], (0.01, 0.01))\n",
        "new5['sales/p'] = winsorize(new5['sales/p'], (0.01, 0.01))"
      ],
      "execution_count": null,
      "outputs": []
    },
    {
      "cell_type": "code",
      "metadata": {
        "colab": {
          "base_uri": "https://localhost:8080/"
        },
        "id": "5JS_3ep_1Nsl",
        "outputId": "31ef138a-cd3a-43db-e76b-ced13056196c"
      },
      "source": [
        "subset = new5.iloc[:, 28: 32]\n",
        "subset.info()"
      ],
      "execution_count": null,
      "outputs": [
        {
          "output_type": "stream",
          "text": [
            "<class 'pandas.core.frame.DataFrame'>\n",
            "Int64Index: 1314 entries, 0 to 1313\n",
            "Data columns (total 4 columns):\n",
            " #   Column      Non-Null Count  Dtype  \n",
            "---  ------      --------------  -----  \n",
            " 0   book/price  1314 non-null   float64\n",
            " 1   e/p         1314 non-null   float64\n",
            " 2   ebit/p      1314 non-null   float64\n",
            " 3   sales/p     1314 non-null   float64\n",
            "dtypes: float64(4)\n",
            "memory usage: 51.3 KB\n"
          ],
          "name": "stdout"
        }
      ]
    },
    {
      "cell_type": "code",
      "metadata": {
        "colab": {
          "base_uri": "https://localhost:8080/"
        },
        "id": "l9CWfuap1NvP",
        "outputId": "14f093df-2342-4f24-f778-f4e07e2b2b4b"
      },
      "source": [
        "subset1 = new5.iloc[:, 3:28]\n",
        "subset1.info()"
      ],
      "execution_count": null,
      "outputs": [
        {
          "output_type": "stream",
          "text": [
            "<class 'pandas.core.frame.DataFrame'>\n",
            "Int64Index: 1314 entries, 0 to 1313\n",
            "Data columns (total 25 columns):\n",
            " #   Column        Non-Null Count  Dtype\n",
            "---  ------        --------------  -----\n",
            " 0   NAICS_2111    1314 non-null   uint8\n",
            " 1   NAICS_2211    1314 non-null   uint8\n",
            " 2   NAICS_22111   1314 non-null   uint8\n",
            " 3   NAICS_221210  1314 non-null   uint8\n",
            " 4   NAICS_325412  1314 non-null   uint8\n",
            " 5   NAICS_325413  1314 non-null   uint8\n",
            " 6   NAICS_325414  1314 non-null   uint8\n",
            " 7   NAICS_334413  1314 non-null   uint8\n",
            " 8   NAICS_334510  1314 non-null   uint8\n",
            " 9   NAICS_334516  1314 non-null   uint8\n",
            " 10  NAICS_339112  1314 non-null   uint8\n",
            " 11  NAICS_339113  1314 non-null   uint8\n",
            " 12  NAICS_483111  1314 non-null   uint8\n",
            " 13  NAICS_511210  1314 non-null   uint8\n",
            " 14  NAICS_518210  1314 non-null   uint8\n",
            " 15  NAICS_519130  1314 non-null   uint8\n",
            " 16  NAICS_522110  1314 non-null   uint8\n",
            " 17  NAICS_522120  1314 non-null   uint8\n",
            " 18  NAICS_523920  1314 non-null   uint8\n",
            " 19  NAICS_524126  1314 non-null   uint8\n",
            " 20  NAICS_525990  1314 non-null   uint8\n",
            " 21  NAICS_531110  1314 non-null   uint8\n",
            " 22  NAICS_531120  1314 non-null   uint8\n",
            " 23  NAICS_541512  1314 non-null   uint8\n",
            " 24  NAICS_722511  1314 non-null   uint8\n",
            "dtypes: uint8(25)\n",
            "memory usage: 42.3 KB\n"
          ],
          "name": "stdout"
        }
      ]
    },
    {
      "cell_type": "code",
      "metadata": {
        "colab": {
          "base_uri": "https://localhost:8080/"
        },
        "id": "Hx_jArII1Gz-",
        "outputId": "adf12b9d-41a4-4287-e919-824a61ee2105"
      },
      "source": [
        "Y = new5['RetLate2020']\n",
        "X = subset\n",
        "X = sm.add_constant(X)\n",
        "model_market_early = sm.OLS(Y, X).fit()\n",
        "print(model_market_early.summary())"
      ],
      "execution_count": null,
      "outputs": [
        {
          "output_type": "stream",
          "text": [
            "                            OLS Regression Results                            \n",
            "==============================================================================\n",
            "Dep. Variable:            RetLate2020   R-squared:                       0.058\n",
            "Model:                            OLS   Adj. R-squared:                  0.055\n",
            "Method:                 Least Squares   F-statistic:                     20.03\n",
            "Date:                Wed, 07 Jul 2021   Prob (F-statistic):           5.07e-16\n",
            "Time:                        19:26:08   Log-Likelihood:                -1809.0\n",
            "No. Observations:                1314   AIC:                             3628.\n",
            "Df Residuals:                    1309   BIC:                             3654.\n",
            "Df Model:                           4                                         \n",
            "Covariance Type:            nonrobust                                         \n",
            "==============================================================================\n",
            "                 coef    std err          t      P>|t|      [0.025      0.975]\n",
            "------------------------------------------------------------------------------\n",
            "const          0.6793      0.044     15.280      0.000       0.592       0.766\n",
            "book/price    -0.1816      0.084     -2.169      0.030      -0.346      -0.017\n",
            "e/p           -0.0191      0.318     -0.060      0.952      -0.642       0.604\n",
            "ebit/p        -1.4390      0.346     -4.155      0.000      -2.119      -0.760\n",
            "sales/p        0.3449      0.072      4.767      0.000       0.203       0.487\n",
            "==============================================================================\n",
            "Omnibus:                     1179.849   Durbin-Watson:                   2.064\n",
            "Prob(Omnibus):                  0.000   Jarque-Bera (JB):            56157.451\n",
            "Skew:                           3.995   Prob(JB):                         0.00\n",
            "Kurtosis:                      34.014   Cond. No.                         20.0\n",
            "==============================================================================\n",
            "\n",
            "Warnings:\n",
            "[1] Standard Errors assume that the covariance matrix of the errors is correctly specified.\n"
          ],
          "name": "stdout"
        }
      ]
    },
    {
      "cell_type": "code",
      "metadata": {
        "colab": {
          "base_uri": "https://localhost:8080/"
        },
        "id": "n2XaDnDoC2Cg",
        "outputId": "3ac10899-e7a5-4fa8-8582-9e700bbbe2b9"
      },
      "source": [
        "X1 = subset1\n",
        "model_naics_early = sm.OLS(Y, X1).fit()\n",
        "print(model_naics_early.summary())"
      ],
      "execution_count": null,
      "outputs": [
        {
          "output_type": "stream",
          "text": [
            "                            OLS Regression Results                            \n",
            "==============================================================================\n",
            "Dep. Variable:            RetLate2020   R-squared:                       0.143\n",
            "Model:                            OLS   Adj. R-squared:                  0.127\n",
            "Method:                 Least Squares   F-statistic:                     8.958\n",
            "Date:                Wed, 07 Jul 2021   Prob (F-statistic):           8.34e-30\n",
            "Time:                        19:26:08   Log-Likelihood:                -1746.7\n",
            "No. Observations:                1314   AIC:                             3543.\n",
            "Df Residuals:                    1289   BIC:                             3673.\n",
            "Df Model:                          24                                         \n",
            "Covariance Type:            nonrobust                                         \n",
            "================================================================================\n",
            "                   coef    std err          t      P>|t|      [0.025      0.975]\n",
            "--------------------------------------------------------------------------------\n",
            "NAICS_2111       1.7285      0.201      8.581      0.000       1.333       2.124\n",
            "NAICS_2211       0.2225      0.197      1.131      0.258      -0.164       0.609\n",
            "NAICS_22111      0.1332      0.201      0.662      0.508      -0.262       0.528\n",
            "NAICS_221210     0.0849      0.247      0.344      0.731      -0.399       0.569\n",
            "NAICS_325412     0.3509      0.108      3.248      0.001       0.139       0.563\n",
            "NAICS_325413     1.0132      0.201      5.030      0.000       0.618       1.408\n",
            "NAICS_325414     0.7927      0.065     12.265      0.000       0.666       0.919\n",
            "NAICS_334413     1.4325      0.129     11.083      0.000       1.179       1.686\n",
            "NAICS_334510     0.7322      0.150      4.890      0.000       0.438       1.026\n",
            "NAICS_334516     1.1389      0.238      4.778      0.000       0.671       1.606\n",
            "NAICS_339112     0.4137      0.206      2.005      0.045       0.009       0.819\n",
            "NAICS_339113     0.7365      0.218      3.385      0.001       0.310       1.163\n",
            "NAICS_483111    -0.0186      0.238     -0.078      0.938      -0.486       0.449\n",
            "NAICS_511210     1.0775      0.132      8.171      0.000       0.819       1.336\n",
            "NAICS_518210     1.1665      0.110     10.648      0.000       0.952       1.381\n",
            "NAICS_519130     1.0925      0.098     11.166      0.000       0.901       1.285\n",
            "NAICS_522110     0.4242      0.057      7.381      0.000       0.311       0.537\n",
            "NAICS_522120     0.3228      0.161      2.009      0.045       0.008       0.638\n",
            "NAICS_523920     0.8367      0.206      4.053      0.000       0.432       1.242\n",
            "NAICS_524126     0.2194      0.129      1.698      0.090      -0.034       0.473\n",
            "NAICS_525990     0.8240      0.171      4.807      0.000       0.488       1.160\n",
            "NAICS_531110     0.4363      0.188      2.316      0.021       0.067       0.806\n",
            "NAICS_531120     0.3707      0.086      4.307      0.000       0.202       0.540\n",
            "NAICS_541512     0.5594      0.197      2.842      0.005       0.173       0.945\n",
            "NAICS_722511     1.1844      0.206      5.738      0.000       0.779       1.589\n",
            "==============================================================================\n",
            "Omnibus:                     1276.207   Durbin-Watson:                   2.077\n",
            "Prob(Omnibus):                  0.000   Jarque-Bera (JB):            78960.447\n",
            "Skew:                           4.443   Prob(JB):                         0.00\n",
            "Kurtosis:                      39.922   Cond. No.                         4.29\n",
            "==============================================================================\n",
            "\n",
            "Warnings:\n",
            "[1] Standard Errors assume that the covariance matrix of the errors is correctly specified.\n"
          ],
          "name": "stdout"
        }
      ]
    },
    {
      "cell_type": "code",
      "metadata": {
        "colab": {
          "base_uri": "https://localhost:8080/"
        },
        "id": "mgeX7QCm1iNP",
        "outputId": "22af6d83-b114-4699-a54a-996e35b8b350"
      },
      "source": [
        "X2 = new5.drop(columns=['TICKER', 'RetEarly2020','RetLate2020'])\n",
        "X2 = sm.add_constant(X2)\n",
        "m_early = sm.OLS(Y, X2).fit()\n",
        "print(m_early.summary())"
      ],
      "execution_count": null,
      "outputs": [
        {
          "output_type": "stream",
          "text": [
            "                            OLS Regression Results                            \n",
            "==============================================================================\n",
            "Dep. Variable:            RetLate2020   R-squared:                       0.170\n",
            "Model:                            OLS   Adj. R-squared:                  0.152\n",
            "Method:                 Least Squares   F-statistic:                     9.432\n",
            "Date:                Wed, 07 Jul 2021   Prob (F-statistic):           4.69e-36\n",
            "Time:                        19:26:08   Log-Likelihood:                -1725.2\n",
            "No. Observations:                1314   AIC:                             3508.\n",
            "Df Residuals:                    1285   BIC:                             3659.\n",
            "Df Model:                          28                                         \n",
            "Covariance Type:            nonrobust                                         \n",
            "================================================================================\n",
            "                   coef    std err          t      P>|t|      [0.025      0.975]\n",
            "--------------------------------------------------------------------------------\n",
            "const            0.6158      0.056     10.906      0.000       0.505       0.727\n",
            "NAICS_2111       0.8630      0.202      4.263      0.000       0.466       1.260\n",
            "NAICS_2211      -0.4001      0.190     -2.102      0.036      -0.773      -0.027\n",
            "NAICS_22111     -0.4797      0.194     -2.473      0.014      -0.860      -0.099\n",
            "NAICS_221210    -0.5494      0.236     -2.326      0.020      -1.013      -0.086\n",
            "NAICS_325412    -0.4026      0.113     -3.572      0.000      -0.624      -0.182\n",
            "NAICS_325413     0.3301      0.196      1.688      0.092      -0.054       0.714\n",
            "NAICS_325414    -0.0630      0.087     -0.729      0.466      -0.233       0.107\n",
            "NAICS_334413     0.7317      0.128      5.718      0.000       0.481       0.983\n",
            "NAICS_334510     0.0240      0.149      0.161      0.872      -0.268       0.316\n",
            "NAICS_334516     0.4627      0.229      2.021      0.044       0.013       0.912\n",
            "NAICS_339112    -0.2679      0.200     -1.341      0.180      -0.660       0.124\n",
            "NAICS_339113    -0.0190      0.210     -0.090      0.928      -0.431       0.393\n",
            "NAICS_483111    -0.6632      0.241     -2.753      0.006      -1.136      -0.191\n",
            "NAICS_511210     0.4179      0.131      3.199      0.001       0.162       0.674\n",
            "NAICS_518210     0.4495      0.112      4.015      0.000       0.230       0.669\n",
            "NAICS_519130     0.3877      0.102      3.814      0.000       0.188       0.587\n",
            "NAICS_522110    -0.0885      0.080     -1.113      0.266      -0.245       0.068\n",
            "NAICS_522120    -0.2040      0.162     -1.256      0.209      -0.522       0.115\n",
            "NAICS_523920     0.3190      0.201      1.590      0.112      -0.075       0.713\n",
            "NAICS_524126    -0.4658      0.133     -3.492      0.000      -0.727      -0.204\n",
            "NAICS_525990     0.4477      0.189      2.369      0.018       0.077       0.818\n",
            "NAICS_531110    -0.1711      0.182     -0.939      0.348      -0.529       0.187\n",
            "NAICS_531120    -0.2487      0.091     -2.743      0.006      -0.427      -0.071\n",
            "NAICS_541512    -0.1393      0.191     -0.728      0.467      -0.515       0.236\n",
            "NAICS_722511     0.3447      0.213      1.618      0.106      -0.073       0.763\n",
            "book/price       0.0189      0.110      0.172      0.864      -0.198       0.235\n",
            "e/p             -0.0066      0.322     -0.020      0.984      -0.639       0.626\n",
            "ebit/p          -1.4423      0.379     -3.809      0.000      -2.185      -0.699\n",
            "sales/p          0.2344      0.084      2.779      0.006       0.069       0.400\n",
            "==============================================================================\n",
            "Omnibus:                     1209.207   Durbin-Watson:                   2.069\n",
            "Prob(Omnibus):                  0.000   Jarque-Bera (JB):            66310.937\n",
            "Skew:                           4.102   Prob(JB):                         0.00\n",
            "Kurtosis:                      36.821   Cond. No.                     6.04e+15\n",
            "==============================================================================\n",
            "\n",
            "Warnings:\n",
            "[1] Standard Errors assume that the covariance matrix of the errors is correctly specified.\n",
            "[2] The smallest eigenvalue is 5.35e-29. This might indicate that there are\n",
            "strong multicollinearity problems or that the design matrix is singular.\n"
          ],
          "name": "stdout"
        }
      ]
    },
    {
      "cell_type": "markdown",
      "metadata": {
        "id": "AXNtEOuQC2L3"
      },
      "source": [
        "#### SIC"
      ]
    },
    {
      "cell_type": "code",
      "metadata": {
        "id": "mWBKZX-LC3sb"
      },
      "source": [
        "dd6 = pd.get_dummies(sic_25_returns, columns=['SIC'])"
      ],
      "execution_count": null,
      "outputs": []
    },
    {
      "cell_type": "code",
      "metadata": {
        "id": "1By7RVEQC3vT"
      },
      "source": [
        "new6 = pd.merge(dd6, mr, on='TICKER')"
      ],
      "execution_count": null,
      "outputs": []
    },
    {
      "cell_type": "code",
      "metadata": {
        "id": "prgYooYt6UMp"
      },
      "source": [
        "new6['book/price'] = new6['ceq']/(new6['prcc_c']*new6['csho'])\n",
        "new6['e/p'] = new6['ni']/(new6['prcc_c']*new6['csho'])\n",
        "new6['ebit/p'] = new6['ebit']/(new6['prcc_c']*new6['csho'])\n",
        "new6['sales/p'] = new6['sale']/(new6['prcc_c']*new6['csho'])"
      ],
      "execution_count": null,
      "outputs": []
    },
    {
      "cell_type": "code",
      "metadata": {
        "id": "CBEAxSR56UPG"
      },
      "source": [
        "new6.drop(['gvkey', 'datadate', 'fyear', 'indfmt', 'consol', 'popsrc', 'datafmt', 'curcd', 'ceq', 'csho', \n",
        "            'ebit', 'ni', 'sale', 'costat', 'prcc_c'], axis=1, inplace=True)"
      ],
      "execution_count": null,
      "outputs": []
    },
    {
      "cell_type": "code",
      "metadata": {
        "id": "npZmgS0F6UR_"
      },
      "source": [
        "#winsorize the ratio variables at 1% and 99% values\n",
        "new6['book/price'] = winsorize(new6['book/price'], (0.01, 0.01))\n",
        "new6['e/p'] = winsorize(new6['e/p'], (0.01, 0.01))\n",
        "new6['ebit/p'] = winsorize(new6['ebit/p'], (0.01, 0.01))\n",
        "new6['sales/p'] = winsorize(new6['sales/p'], (0.01, 0.01))"
      ],
      "execution_count": null,
      "outputs": []
    },
    {
      "cell_type": "code",
      "metadata": {
        "colab": {
          "base_uri": "https://localhost:8080/"
        },
        "id": "WVtDddRn6cW2",
        "outputId": "f71b0a68-571e-42a4-efd8-23c73e3d4f8e"
      },
      "source": [
        "subset = new6.iloc[:, 28: 32]\n",
        "subset.info()"
      ],
      "execution_count": null,
      "outputs": [
        {
          "output_type": "stream",
          "text": [
            "<class 'pandas.core.frame.DataFrame'>\n",
            "Int64Index: 1393 entries, 0 to 1392\n",
            "Data columns (total 4 columns):\n",
            " #   Column      Non-Null Count  Dtype  \n",
            "---  ------      --------------  -----  \n",
            " 0   book/price  1393 non-null   float64\n",
            " 1   e/p         1393 non-null   float64\n",
            " 2   ebit/p      1393 non-null   float64\n",
            " 3   sales/p     1393 non-null   float64\n",
            "dtypes: float64(4)\n",
            "memory usage: 54.4 KB\n"
          ],
          "name": "stdout"
        }
      ]
    },
    {
      "cell_type": "code",
      "metadata": {
        "colab": {
          "base_uri": "https://localhost:8080/"
        },
        "id": "W6D-ouob6UUH",
        "outputId": "1c986bd3-4bd9-4690-b814-4a93880961e2"
      },
      "source": [
        "subset1 = new6.iloc[:, 3:28]\n",
        "subset1.info()"
      ],
      "execution_count": null,
      "outputs": [
        {
          "output_type": "stream",
          "text": [
            "<class 'pandas.core.frame.DataFrame'>\n",
            "Int64Index: 1393 entries, 0 to 1392\n",
            "Data columns (total 25 columns):\n",
            " #   Column    Non-Null Count  Dtype\n",
            "---  ------    --------------  -----\n",
            " 0   SIC_1311  1393 non-null   uint8\n",
            " 1   SIC_1531  1393 non-null   uint8\n",
            " 2   SIC_2834  1393 non-null   uint8\n",
            " 3   SIC_2835  1393 non-null   uint8\n",
            " 4   SIC_2836  1393 non-null   uint8\n",
            " 5   SIC_3674  1393 non-null   uint8\n",
            " 6   SIC_3714  1393 non-null   uint8\n",
            " 7   SIC_3826  1393 non-null   uint8\n",
            " 8   SIC_3841  1393 non-null   uint8\n",
            " 9   SIC_3842  1393 non-null   uint8\n",
            " 10  SIC_3845  1393 non-null   uint8\n",
            " 11  SIC_4911  1393 non-null   uint8\n",
            " 12  SIC_4931  1393 non-null   uint8\n",
            " 13  SIC_5500  1393 non-null   uint8\n",
            " 14  SIC_5812  1393 non-null   uint8\n",
            " 15  SIC_6020  1393 non-null   uint8\n",
            " 16  SIC_6035  1393 non-null   uint8\n",
            " 17  SIC_6141  1393 non-null   uint8\n",
            " 18  SIC_6282  1393 non-null   uint8\n",
            " 19  SIC_6331  1393 non-null   uint8\n",
            " 20  SIC_6798  1393 non-null   uint8\n",
            " 21  SIC_7370  1393 non-null   uint8\n",
            " 22  SIC_7372  1393 non-null   uint8\n",
            " 23  SIC_7373  1393 non-null   uint8\n",
            " 24  SIC_7374  1393 non-null   uint8\n",
            "dtypes: uint8(25)\n",
            "memory usage: 44.9 KB\n"
          ],
          "name": "stdout"
        }
      ]
    },
    {
      "cell_type": "code",
      "metadata": {
        "colab": {
          "base_uri": "https://localhost:8080/"
        },
        "id": "WwnEG9lf6gEq",
        "outputId": "12cbf6a1-dfa1-4d5e-964f-66305f4bd87d"
      },
      "source": [
        "Y = new6['RetLate2020']\n",
        "X = subset\n",
        "X = sm.add_constant(X)\n",
        "model_market_early = sm.OLS(Y, X).fit()\n",
        "print(model_market_early.summary())"
      ],
      "execution_count": null,
      "outputs": [
        {
          "output_type": "stream",
          "text": [
            "                            OLS Regression Results                            \n",
            "==============================================================================\n",
            "Dep. Variable:            RetLate2020   R-squared:                       0.077\n",
            "Model:                            OLS   Adj. R-squared:                  0.074\n",
            "Method:                 Least Squares   F-statistic:                     29.01\n",
            "Date:                Wed, 07 Jul 2021   Prob (F-statistic):           3.46e-23\n",
            "Time:                        19:26:09   Log-Likelihood:                -1901.8\n",
            "No. Observations:                1393   AIC:                             3814.\n",
            "Df Residuals:                    1388   BIC:                             3840.\n",
            "Df Model:                           4                                         \n",
            "Covariance Type:            nonrobust                                         \n",
            "==============================================================================\n",
            "                 coef    std err          t      P>|t|      [0.025      0.975]\n",
            "------------------------------------------------------------------------------\n",
            "const          0.6820      0.041     16.467      0.000       0.601       0.763\n",
            "book/price    -0.1450      0.078     -1.857      0.064      -0.298       0.008\n",
            "e/p           -0.1499      0.283     -0.529      0.597      -0.705       0.406\n",
            "ebit/p        -1.1965      0.301     -3.980      0.000      -1.786      -0.607\n",
            "sales/p        0.3322      0.039      8.520      0.000       0.256       0.409\n",
            "==============================================================================\n",
            "Omnibus:                     1233.818   Durbin-Watson:                   2.051\n",
            "Prob(Omnibus):                  0.000   Jarque-Bera (JB):            58128.779\n",
            "Skew:                           3.922   Prob(JB):                         0.00\n",
            "Kurtosis:                      33.659   Cond. No.                         19.1\n",
            "==============================================================================\n",
            "\n",
            "Warnings:\n",
            "[1] Standard Errors assume that the covariance matrix of the errors is correctly specified.\n"
          ],
          "name": "stdout"
        }
      ]
    },
    {
      "cell_type": "code",
      "metadata": {
        "colab": {
          "base_uri": "https://localhost:8080/"
        },
        "id": "8je1bimj6gLY",
        "outputId": "fbced43a-52a5-4103-fbfa-f12fd895df52"
      },
      "source": [
        "X1 = subset1\n",
        "model_naics_early = sm.OLS(Y, X1).fit()\n",
        "print(model_naics_early.summary())"
      ],
      "execution_count": null,
      "outputs": [
        {
          "output_type": "stream",
          "text": [
            "                            OLS Regression Results                            \n",
            "==============================================================================\n",
            "Dep. Variable:            RetLate2020   R-squared:                       0.146\n",
            "Model:                            OLS   Adj. R-squared:                  0.131\n",
            "Method:                 Least Squares   F-statistic:                     9.746\n",
            "Date:                Wed, 07 Jul 2021   Prob (F-statistic):           3.88e-33\n",
            "Time:                        19:26:09   Log-Likelihood:                -1847.8\n",
            "No. Observations:                1393   AIC:                             3746.\n",
            "Df Residuals:                    1368   BIC:                             3877.\n",
            "Df Model:                          24                                         \n",
            "Covariance Type:            nonrobust                                         \n",
            "==============================================================================\n",
            "                 coef    std err          t      P>|t|      [0.025      0.975]\n",
            "------------------------------------------------------------------------------\n",
            "SIC_1311       1.3432      0.153      8.760      0.000       1.042       1.644\n",
            "SIC_1531       1.2402      0.230      5.392      0.000       0.789       1.691\n",
            "SIC_2834       0.3509      0.108      3.259      0.001       0.140       0.562\n",
            "SIC_2835       1.0132      0.201      5.047      0.000       0.619       1.407\n",
            "SIC_2836       0.7927      0.064     12.306      0.000       0.666       0.919\n",
            "SIC_3674       1.4325      0.129     11.120      0.000       1.180       1.685\n",
            "SIC_3714       1.6018      0.223      7.179      0.000       1.164       2.040\n",
            "SIC_3826       1.1389      0.238      4.794      0.000       0.673       1.605\n",
            "SIC_3841       0.4137      0.206      2.011      0.044       0.010       0.817\n",
            "SIC_3842       0.7675      0.217      3.539      0.000       0.342       1.193\n",
            "SIC_3845       0.7374      0.151      4.876      0.000       0.441       1.034\n",
            "SIC_4911       0.1787      0.196      0.911      0.362      -0.206       0.564\n",
            "SIC_4931       0.1448      0.201      0.721      0.471      -0.249       0.539\n",
            "SIC_5500       1.7324      0.238      7.293      0.000       1.266       2.198\n",
            "SIC_5812       1.1492      0.165      6.955      0.000       0.825       1.473\n",
            "SIC_6020       0.4221      0.057      7.356      0.000       0.310       0.535\n",
            "SIC_6035       0.2940      0.206      1.429      0.153      -0.110       0.698\n",
            "SIC_6141       0.9368      0.238      3.944      0.000       0.471       1.403\n",
            "SIC_6282       0.7732      0.160      4.828      0.000       0.459       1.087\n",
            "SIC_6331       0.2000      0.136      1.475      0.141      -0.066       0.466\n",
            "SIC_6798       0.4437      0.068      6.542      0.000       0.311       0.577\n",
            "SIC_7370       1.1502      0.075     15.312      0.000       1.003       1.298\n",
            "SIC_7372       1.0824      0.133      8.151      0.000       0.822       1.343\n",
            "SIC_7373       0.5037      0.211      2.386      0.017       0.090       0.918\n",
            "SIC_7374       0.7647      0.188      4.072      0.000       0.396       1.133\n",
            "==============================================================================\n",
            "Omnibus:                     1323.728   Durbin-Watson:                   2.076\n",
            "Prob(Omnibus):                  0.000   Jarque-Bera (JB):            77663.828\n",
            "Skew:                           4.317   Prob(JB):                         0.00\n",
            "Kurtosis:                      38.546   Cond. No.                         4.14\n",
            "==============================================================================\n",
            "\n",
            "Warnings:\n",
            "[1] Standard Errors assume that the covariance matrix of the errors is correctly specified.\n"
          ],
          "name": "stdout"
        }
      ]
    },
    {
      "cell_type": "code",
      "metadata": {
        "colab": {
          "base_uri": "https://localhost:8080/"
        },
        "id": "ot64iEu9C3z4",
        "outputId": "943d5dbd-d3d3-4fad-c20f-ee0bc0c78ef4"
      },
      "source": [
        "X2 = new6.drop(columns=['TICKER', 'RetEarly2020','RetLate2020'])\n",
        "X2 = sm.add_constant(X2)\n",
        "m_early = sm.OLS(Y, X2).fit()\n",
        "print(m_early.summary())"
      ],
      "execution_count": null,
      "outputs": [
        {
          "output_type": "stream",
          "text": [
            "                            OLS Regression Results                            \n",
            "==============================================================================\n",
            "Dep. Variable:            RetLate2020   R-squared:                       0.178\n",
            "Model:                            OLS   Adj. R-squared:                  0.161\n",
            "Method:                 Least Squares   F-statistic:                     10.56\n",
            "Date:                Wed, 07 Jul 2021   Prob (F-statistic):           1.98e-41\n",
            "Time:                        19:26:09   Log-Likelihood:                -1821.1\n",
            "No. Observations:                1393   AIC:                             3700.\n",
            "Df Residuals:                    1364   BIC:                             3852.\n",
            "Df Model:                          28                                         \n",
            "Covariance Type:            nonrobust                                         \n",
            "==============================================================================\n",
            "                 coef    std err          t      P>|t|      [0.025      0.975]\n",
            "------------------------------------------------------------------------------\n",
            "const          0.6620      0.052     12.713      0.000       0.560       0.764\n",
            "SIC_1311       0.4398      0.154      2.859      0.004       0.138       0.742\n",
            "SIC_1531       0.3043      0.226      1.348      0.178      -0.139       0.747\n",
            "SIC_2834      -0.4629      0.112     -4.143      0.000      -0.682      -0.244\n",
            "SIC_2835       0.2685      0.194      1.382      0.167      -0.113       0.650\n",
            "SIC_2836      -0.1130      0.086     -1.308      0.191      -0.283       0.057\n",
            "SIC_3674       0.6624      0.127      5.221      0.000       0.413       0.911\n",
            "SIC_3714       0.6332      0.223      2.839      0.005       0.196       1.071\n",
            "SIC_3826       0.3965      0.228      1.743      0.082      -0.050       0.843\n",
            "SIC_3841      -0.3360      0.199     -1.692      0.091      -0.726       0.054\n",
            "SIC_3842      -0.0621      0.209     -0.298      0.766      -0.471       0.347\n",
            "SIC_3845      -0.0220      0.150     -0.147      0.883      -0.316       0.272\n",
            "SIC_4911      -0.5404      0.189     -2.858      0.004      -0.911      -0.169\n",
            "SIC_4931      -0.6218      0.193     -3.223      0.001      -1.000      -0.243\n",
            "SIC_5500       0.5592      0.261      2.139      0.033       0.046       1.072\n",
            "SIC_5812       0.2685      0.165      1.628      0.104      -0.055       0.592\n",
            "SIC_6020      -0.2611      0.081     -3.233      0.001      -0.420      -0.103\n",
            "SIC_6035      -0.3945      0.202     -1.952      0.051      -0.791       0.002\n",
            "SIC_6141       0.2958      0.232      1.273      0.203      -0.160       0.752\n",
            "SIC_6282       0.0899      0.156      0.577      0.564      -0.216       0.395\n",
            "SIC_6331      -0.6247      0.138     -4.543      0.000      -0.894      -0.355\n",
            "SIC_6798      -0.2697      0.080     -3.374      0.001      -0.426      -0.113\n",
            "SIC_7370       0.3671      0.081      4.525      0.000       0.208       0.526\n",
            "SIC_7372       0.3495      0.131      2.661      0.008       0.092       0.607\n",
            "SIC_7373      -0.2689      0.202     -1.329      0.184      -0.666       0.128\n",
            "SIC_7374       0.0043      0.181      0.024      0.981      -0.351       0.359\n",
            "book/price     0.1518      0.098      1.554      0.121      -0.040       0.344\n",
            "e/p           -0.3203      0.281     -1.142      0.254      -0.871       0.230\n",
            "ebit/p        -0.9507      0.311     -3.054      0.002      -1.561      -0.340\n",
            "sales/p        0.1694      0.051      3.345      0.001       0.070       0.269\n",
            "==============================================================================\n",
            "Omnibus:                     1267.601   Durbin-Watson:                   2.066\n",
            "Prob(Omnibus):                  0.000   Jarque-Bera (JB):            68205.636\n",
            "Skew:                           4.046   Prob(JB):                         0.00\n",
            "Kurtosis:                      36.311   Cond. No.                     6.68e+15\n",
            "==============================================================================\n",
            "\n",
            "Warnings:\n",
            "[1] Standard Errors assume that the covariance matrix of the errors is correctly specified.\n",
            "[2] The smallest eigenvalue is 5.12e-29. This might indicate that there are\n",
            "strong multicollinearity problems or that the design matrix is singular.\n"
          ],
          "name": "stdout"
        }
      ]
    },
    {
      "cell_type": "markdown",
      "metadata": {
        "id": "Bks6OolZC3-Y"
      },
      "source": [
        "#### GGROUP"
      ]
    },
    {
      "cell_type": "code",
      "metadata": {
        "id": "HkSwqZfGC5q0"
      },
      "source": [
        "dd7 = pd.get_dummies(ggroup_returns, columns=['GGROUP'])"
      ],
      "execution_count": null,
      "outputs": []
    },
    {
      "cell_type": "code",
      "metadata": {
        "id": "ui0STTWJ75Ub"
      },
      "source": [
        "new7 = pd.merge(dd7, mr, on='TICKER')"
      ],
      "execution_count": null,
      "outputs": []
    },
    {
      "cell_type": "code",
      "metadata": {
        "id": "FvLhAxDg75Xh"
      },
      "source": [
        "new7['book/price'] = new7['ceq']/(new7['prcc_c']*new7['csho'])\n",
        "new7['e/p'] = new7['ni']/(new7['prcc_c']*new7['csho'])\n",
        "new7['ebit/p'] = new7['ebit']/(new7['prcc_c']*new7['csho'])\n",
        "new7['sales/p'] = new7['sale']/(new7['prcc_c']*new7['csho'])"
      ],
      "execution_count": null,
      "outputs": []
    },
    {
      "cell_type": "code",
      "metadata": {
        "id": "SZbSwigD75Zo"
      },
      "source": [
        "new7.drop(['gvkey', 'datadate', 'fyear', 'indfmt', 'consol', 'popsrc', 'datafmt', 'curcd', 'ceq', 'csho', \n",
        "            'ebit', 'ni', 'sale', 'costat', 'prcc_c'], axis=1, inplace=True)"
      ],
      "execution_count": null,
      "outputs": []
    },
    {
      "cell_type": "code",
      "metadata": {
        "id": "bjNuDiFB75cS"
      },
      "source": [
        "#winsorize the ratio variables at 1% and 99% values\n",
        "new7['book/price'] = winsorize(new7['book/price'], (0.01, 0.01))\n",
        "new7['e/p'] = winsorize(new7['e/p'], (0.01, 0.01))\n",
        "new7['ebit/p'] = winsorize(new7['ebit/p'], (0.01, 0.01))\n",
        "new7['sales/p'] = winsorize(new7['sales/p'], (0.01, 0.01))"
      ],
      "execution_count": null,
      "outputs": []
    },
    {
      "cell_type": "code",
      "metadata": {
        "colab": {
          "base_uri": "https://localhost:8080/"
        },
        "id": "diZ3ihA275ee",
        "outputId": "9c760809-626b-4dc8-8662-2709b6f164d6"
      },
      "source": [
        "subset = new7.iloc[:, 27: 31]\n",
        "subset.info()"
      ],
      "execution_count": null,
      "outputs": [
        {
          "output_type": "stream",
          "text": [
            "<class 'pandas.core.frame.DataFrame'>\n",
            "Int64Index: 2666 entries, 0 to 2665\n",
            "Data columns (total 4 columns):\n",
            " #   Column      Non-Null Count  Dtype  \n",
            "---  ------      --------------  -----  \n",
            " 0   book/price  2666 non-null   float64\n",
            " 1   e/p         2666 non-null   float64\n",
            " 2   ebit/p      2666 non-null   float64\n",
            " 3   sales/p     2666 non-null   float64\n",
            "dtypes: float64(4)\n",
            "memory usage: 104.1 KB\n"
          ],
          "name": "stdout"
        }
      ]
    },
    {
      "cell_type": "code",
      "metadata": {
        "colab": {
          "base_uri": "https://localhost:8080/"
        },
        "id": "nqFz48kkC5to",
        "outputId": "38bbb8a5-dccc-48d7-ed0c-88e8e3536eda"
      },
      "source": [
        "subset1 = new7.iloc[:, 3:27]\n",
        "subset1.info()"
      ],
      "execution_count": null,
      "outputs": [
        {
          "output_type": "stream",
          "text": [
            "<class 'pandas.core.frame.DataFrame'>\n",
            "Int64Index: 2666 entries, 0 to 2665\n",
            "Data columns (total 24 columns):\n",
            " #   Column       Non-Null Count  Dtype\n",
            "---  ------       --------------  -----\n",
            " 0   GGROUP_1010  2666 non-null   uint8\n",
            " 1   GGROUP_1510  2666 non-null   uint8\n",
            " 2   GGROUP_2010  2666 non-null   uint8\n",
            " 3   GGROUP_2020  2666 non-null   uint8\n",
            " 4   GGROUP_2030  2666 non-null   uint8\n",
            " 5   GGROUP_2510  2666 non-null   uint8\n",
            " 6   GGROUP_2520  2666 non-null   uint8\n",
            " 7   GGROUP_2530  2666 non-null   uint8\n",
            " 8   GGROUP_2550  2666 non-null   uint8\n",
            " 9   GGROUP_3010  2666 non-null   uint8\n",
            " 10  GGROUP_3020  2666 non-null   uint8\n",
            " 11  GGROUP_3030  2666 non-null   uint8\n",
            " 12  GGROUP_3510  2666 non-null   uint8\n",
            " 13  GGROUP_3520  2666 non-null   uint8\n",
            " 14  GGROUP_4010  2666 non-null   uint8\n",
            " 15  GGROUP_4020  2666 non-null   uint8\n",
            " 16  GGROUP_4030  2666 non-null   uint8\n",
            " 17  GGROUP_4510  2666 non-null   uint8\n",
            " 18  GGROUP_4520  2666 non-null   uint8\n",
            " 19  GGROUP_4530  2666 non-null   uint8\n",
            " 20  GGROUP_5010  2666 non-null   uint8\n",
            " 21  GGROUP_5020  2666 non-null   uint8\n",
            " 22  GGROUP_5510  2666 non-null   uint8\n",
            " 23  GGROUP_6010  2666 non-null   uint8\n",
            "dtypes: uint8(24)\n",
            "memory usage: 83.3 KB\n"
          ],
          "name": "stdout"
        }
      ]
    },
    {
      "cell_type": "code",
      "metadata": {
        "colab": {
          "base_uri": "https://localhost:8080/"
        },
        "id": "SxNdpRwq8YYk",
        "outputId": "2772844c-3619-4bb1-e90a-51af742c9f58"
      },
      "source": [
        "Y = new7['RetLate2020']\n",
        "X = subset\n",
        "X = sm.add_constant(X)\n",
        "model_market_early = sm.OLS(Y, X).fit()\n",
        "print(model_market_early.summary())"
      ],
      "execution_count": null,
      "outputs": [
        {
          "output_type": "stream",
          "text": [
            "                            OLS Regression Results                            \n",
            "==============================================================================\n",
            "Dep. Variable:            RetLate2020   R-squared:                       0.070\n",
            "Model:                            OLS   Adj. R-squared:                  0.068\n",
            "Method:                 Least Squares   F-statistic:                     49.98\n",
            "Date:                Wed, 07 Jul 2021   Prob (F-statistic):           1.30e-40\n",
            "Time:                        19:26:09   Log-Likelihood:                -3876.9\n",
            "No. Observations:                2666   AIC:                             7764.\n",
            "Df Residuals:                    2661   BIC:                             7793.\n",
            "Df Model:                           4                                         \n",
            "Covariance Type:            nonrobust                                         \n",
            "==============================================================================\n",
            "                 coef    std err          t      P>|t|      [0.025      0.975]\n",
            "------------------------------------------------------------------------------\n",
            "const          0.7715      0.031     24.775      0.000       0.710       0.833\n",
            "book/price    -0.2078      0.055     -3.760      0.000      -0.316      -0.099\n",
            "e/p           -0.9642      0.212     -4.542      0.000      -1.380      -0.548\n",
            "ebit/p        -0.5304      0.250     -2.123      0.034      -1.020      -0.041\n",
            "sales/p        0.1995      0.019     10.420      0.000       0.162       0.237\n",
            "==============================================================================\n",
            "Omnibus:                     2778.586   Durbin-Watson:                   1.992\n",
            "Prob(Omnibus):                  0.000   Jarque-Bera (JB):           303298.176\n",
            "Skew:                           4.923   Prob(JB):                         0.00\n",
            "Kurtosis:                      54.317   Cond. No.                         25.4\n",
            "==============================================================================\n",
            "\n",
            "Warnings:\n",
            "[1] Standard Errors assume that the covariance matrix of the errors is correctly specified.\n"
          ],
          "name": "stdout"
        }
      ]
    },
    {
      "cell_type": "code",
      "metadata": {
        "colab": {
          "base_uri": "https://localhost:8080/"
        },
        "id": "YuTwJq2u8YfQ",
        "outputId": "73648c58-9822-423d-c8f0-a749eb154dac"
      },
      "source": [
        "X1 = subset1\n",
        "model_naics_early = sm.OLS(Y, X1).fit()\n",
        "print(model_naics_early.summary())"
      ],
      "execution_count": null,
      "outputs": [
        {
          "output_type": "stream",
          "text": [
            "                            OLS Regression Results                            \n",
            "==============================================================================\n",
            "Dep. Variable:            RetLate2020   R-squared:                       0.110\n",
            "Model:                            OLS   Adj. R-squared:                  0.102\n",
            "Method:                 Least Squares   F-statistic:                     14.14\n",
            "Date:                Wed, 07 Jul 2021   Prob (F-statistic):           1.16e-51\n",
            "Time:                        19:26:09   Log-Likelihood:                -3818.7\n",
            "No. Observations:                2666   AIC:                             7685.\n",
            "Df Residuals:                    2642   BIC:                             7827.\n",
            "Df Model:                          23                                         \n",
            "Covariance Type:            nonrobust                                         \n",
            "===============================================================================\n",
            "                  coef    std err          t      P>|t|      [0.025      0.975]\n",
            "-------------------------------------------------------------------------------\n",
            "GGROUP_1010     1.0175      0.100     10.192      0.000       0.822       1.213\n",
            "GGROUP_1510     0.8732      0.093      9.435      0.000       0.692       1.055\n",
            "GGROUP_2010     0.8981      0.067     13.436      0.000       0.767       1.029\n",
            "GGROUP_2020     0.6055      0.112      5.418      0.000       0.386       0.825\n",
            "GGROUP_2030     0.7097      0.141      5.027      0.000       0.433       0.987\n",
            "GGROUP_2510     1.8114      0.189      9.581      0.000       1.441       2.182\n",
            "GGROUP_2520     1.5944      0.112     14.181      0.000       1.374       1.815\n",
            "GGROUP_2530     1.1311      0.108     10.481      0.000       0.919       1.343\n",
            "GGROUP_2550     1.7803      0.101     17.660      0.000       1.583       1.978\n",
            "GGROUP_3010     0.4041      0.217      1.862      0.063      -0.022       0.830\n",
            "GGROUP_3020     0.5335      0.131      4.059      0.000       0.276       0.791\n",
            "GGROUP_3030     0.6115      0.208      2.942      0.003       0.204       1.019\n",
            "GGROUP_3510     0.7397      0.077      9.557      0.000       0.588       0.892\n",
            "GGROUP_3520     0.7397      0.058     12.731      0.000       0.626       0.854\n",
            "GGROUP_4010     0.4338      0.059      7.331      0.000       0.318       0.550\n",
            "GGROUP_4020     0.7456      0.091      8.154      0.000       0.566       0.925\n",
            "GGROUP_4030     0.3584      0.111      3.227      0.001       0.141       0.576\n",
            "GGROUP_4510     1.0270      0.074     13.794      0.000       0.881       1.173\n",
            "GGROUP_4520     0.8171      0.106      7.740      0.000       0.610       1.024\n",
            "GGROUP_4530     1.2186      0.129      9.424      0.000       0.965       1.472\n",
            "GGROUP_5010     0.4901      0.228      2.153      0.031       0.044       0.936\n",
            "GGROUP_5020     0.8547      0.118      7.270      0.000       0.624       1.085\n",
            "GGROUP_5510     0.1812      0.123      1.478      0.139      -0.059       0.422\n",
            "GGROUP_6010     0.4567      0.077      5.951      0.000       0.306       0.607\n",
            "==============================================================================\n",
            "Omnibus:                     2894.346   Durbin-Watson:                   1.964\n",
            "Prob(Omnibus):                  0.000   Jarque-Bera (JB):           348758.789\n",
            "Skew:                           5.258   Prob(JB):                         0.00\n",
            "Kurtosis:                      58.037   Cond. No.                         3.92\n",
            "==============================================================================\n",
            "\n",
            "Warnings:\n",
            "[1] Standard Errors assume that the covariance matrix of the errors is correctly specified.\n"
          ],
          "name": "stdout"
        }
      ]
    },
    {
      "cell_type": "code",
      "metadata": {
        "colab": {
          "base_uri": "https://localhost:8080/"
        },
        "id": "sv2-Fcu28YiE",
        "outputId": "63f162a2-d530-480c-c25d-ebe984574a67"
      },
      "source": [
        "X2 = new7.drop(columns=['TICKER', 'RetEarly2020','RetLate2020'])\n",
        "X2 = sm.add_constant(X2)\n",
        "m_early = sm.OLS(Y, X2).fit()\n",
        "print(m_early.summary())"
      ],
      "execution_count": null,
      "outputs": [
        {
          "output_type": "stream",
          "text": [
            "                            OLS Regression Results                            \n",
            "==============================================================================\n",
            "Dep. Variable:            RetLate2020   R-squared:                       0.150\n",
            "Model:                            OLS   Adj. R-squared:                  0.141\n",
            "Method:                 Least Squares   F-statistic:                     17.22\n",
            "Date:                Wed, 07 Jul 2021   Prob (F-statistic):           3.43e-74\n",
            "Time:                        19:26:09   Log-Likelihood:                -3757.1\n",
            "No. Observations:                2666   AIC:                             7570.\n",
            "Df Residuals:                    2638   BIC:                             7735.\n",
            "Df Model:                          27                                         \n",
            "Covariance Type:            nonrobust                                         \n",
            "===============================================================================\n",
            "                  coef    std err          t      P>|t|      [0.025      0.975]\n",
            "-------------------------------------------------------------------------------\n",
            "const           0.7571      0.037     20.451      0.000       0.685       0.830\n",
            "GGROUP_1010     0.1759      0.100      1.751      0.080      -0.021       0.373\n",
            "GGROUP_1510     0.0736      0.090      0.815      0.415      -0.104       0.251\n",
            "GGROUP_2010     0.1181      0.067      1.750      0.080      -0.014       0.250\n",
            "GGROUP_2020    -0.1793      0.108     -1.663      0.096      -0.391       0.032\n",
            "GGROUP_2030    -0.1023      0.135     -0.757      0.449      -0.367       0.163\n",
            "GGROUP_2510     0.8848      0.180      4.905      0.000       0.531       1.239\n",
            "GGROUP_2520     0.7783      0.109      7.170      0.000       0.565       0.991\n",
            "GGROUP_2530     0.3459      0.104      3.310      0.001       0.141       0.551\n",
            "GGROUP_2550     0.8213      0.101      8.113      0.000       0.623       1.020\n",
            "GGROUP_3010    -0.7238      0.211     -3.431      0.001      -1.137      -0.310\n",
            "GGROUP_3020    -0.2491      0.126     -1.981      0.048      -0.496      -0.003\n",
            "GGROUP_3030    -0.1900      0.197     -0.966      0.334      -0.576       0.196\n",
            "GGROUP_3510    -0.1165      0.078     -1.497      0.135      -0.269       0.036\n",
            "GGROUP_3520    -0.2223      0.070     -3.172      0.002      -0.360      -0.085\n",
            "GGROUP_4010    -0.1226      0.070     -1.753      0.080      -0.260       0.015\n",
            "GGROUP_4020     0.1510      0.094      1.598      0.110      -0.034       0.336\n",
            "GGROUP_4030    -0.3053      0.111     -2.760      0.006      -0.522      -0.088\n",
            "GGROUP_4510     0.2352      0.076      3.093      0.002       0.086       0.384\n",
            "GGROUP_4520    -0.0259      0.102     -0.254      0.800      -0.226       0.175\n",
            "GGROUP_4530     0.4666      0.125      3.747      0.000       0.222       0.711\n",
            "GGROUP_5010    -0.3841      0.215     -1.786      0.074      -0.806       0.038\n",
            "GGROUP_5020     0.0802      0.113      0.709      0.479      -0.142       0.302\n",
            "GGROUP_5510    -0.5191      0.118     -4.395      0.000      -0.751      -0.288\n",
            "GGROUP_6010    -0.2334      0.078     -2.993      0.003      -0.386      -0.080\n",
            "book/price     -0.0954      0.062     -1.527      0.127      -0.218       0.027\n",
            "e/p            -1.1395      0.209     -5.441      0.000      -1.550      -0.729\n",
            "ebit/p         -0.6294      0.264     -2.382      0.017      -1.148      -0.111\n",
            "sales/p         0.1308      0.022      5.947      0.000       0.088       0.174\n",
            "==============================================================================\n",
            "Omnibus:                     2851.784   Durbin-Watson:                   1.977\n",
            "Prob(Omnibus):                  0.000   Jarque-Bera (JB):           354096.206\n",
            "Skew:                           5.105   Prob(JB):                         0.00\n",
            "Kurtosis:                      58.529   Cond. No.                     8.47e+15\n",
            "==============================================================================\n",
            "\n",
            "Warnings:\n",
            "[1] Standard Errors assume that the covariance matrix of the errors is correctly specified.\n",
            "[2] The smallest eigenvalue is 1.08e-28. This might indicate that there are\n",
            "strong multicollinearity problems or that the design matrix is singular.\n"
          ],
          "name": "stdout"
        }
      ]
    },
    {
      "cell_type": "markdown",
      "metadata": {
        "id": "-7dkdPAEC5-a"
      },
      "source": [
        "#### GSECTOR"
      ]
    },
    {
      "cell_type": "code",
      "metadata": {
        "id": "2pFWXCxlC7yQ"
      },
      "source": [
        "dd8 = pd.get_dummies(gsector_returns, columns=['GSECTOR'])"
      ],
      "execution_count": null,
      "outputs": []
    },
    {
      "cell_type": "code",
      "metadata": {
        "id": "zPNCpU_39CWB"
      },
      "source": [
        "new8 = pd.merge(dd8, mr, on='TICKER')"
      ],
      "execution_count": null,
      "outputs": []
    },
    {
      "cell_type": "code",
      "metadata": {
        "id": "4YS1-zsC9CZF"
      },
      "source": [
        "new8['book/price'] = new8['ceq']/(new8['prcc_c']*new8['csho'])\n",
        "new8['e/p'] = new8['ni']/(new8['prcc_c']*new8['csho'])\n",
        "new8['ebit/p'] = new8['ebit']/(new8['prcc_c']*new8['csho'])\n",
        "new8['sales/p'] = new8['sale']/(new8['prcc_c']*new8['csho'])"
      ],
      "execution_count": null,
      "outputs": []
    },
    {
      "cell_type": "code",
      "metadata": {
        "id": "ijNqUcH39CbO"
      },
      "source": [
        "new8.drop(['gvkey', 'datadate', 'fyear', 'indfmt', 'consol', 'popsrc', 'datafmt', 'curcd', 'ceq', 'csho', \n",
        "            'ebit', 'ni', 'sale', 'costat', 'prcc_c'], axis=1, inplace=True)"
      ],
      "execution_count": null,
      "outputs": []
    },
    {
      "cell_type": "code",
      "metadata": {
        "id": "GZ5HIV8T9Cd6"
      },
      "source": [
        "#winsorize the ratio variables at 1% and 99% values\n",
        "new8['book/price'] = winsorize(new8['book/price'], (0.01, 0.01))\n",
        "new8['e/p'] = winsorize(new8['e/p'], (0.01, 0.01))\n",
        "new8['ebit/p'] = winsorize(new8['ebit/p'], (0.01, 0.01))\n",
        "new8['sales/p'] = winsorize(new8['sales/p'], (0.01, 0.01))"
      ],
      "execution_count": null,
      "outputs": []
    },
    {
      "cell_type": "code",
      "metadata": {
        "colab": {
          "base_uri": "https://localhost:8080/"
        },
        "id": "yECwz0mTCXFy",
        "outputId": "bda5da57-e8ef-4f4a-ad1b-fdc54b3a5524"
      },
      "source": [
        "new8.info()"
      ],
      "execution_count": null,
      "outputs": [
        {
          "output_type": "stream",
          "text": [
            "<class 'pandas.core.frame.DataFrame'>\n",
            "Int64Index: 2666 entries, 0 to 2665\n",
            "Data columns (total 18 columns):\n",
            " #   Column        Non-Null Count  Dtype  \n",
            "---  ------        --------------  -----  \n",
            " 0   TICKER        2666 non-null   object \n",
            " 1   RetEarly2020  2666 non-null   float64\n",
            " 2   RetLate2020   2666 non-null   float64\n",
            " 3   GSECTOR_10    2666 non-null   uint8  \n",
            " 4   GSECTOR_15    2666 non-null   uint8  \n",
            " 5   GSECTOR_20    2666 non-null   uint8  \n",
            " 6   GSECTOR_25    2666 non-null   uint8  \n",
            " 7   GSECTOR_30    2666 non-null   uint8  \n",
            " 8   GSECTOR_35    2666 non-null   uint8  \n",
            " 9   GSECTOR_40    2666 non-null   uint8  \n",
            " 10  GSECTOR_45    2666 non-null   uint8  \n",
            " 11  GSECTOR_50    2666 non-null   uint8  \n",
            " 12  GSECTOR_55    2666 non-null   uint8  \n",
            " 13  GSECTOR_60    2666 non-null   uint8  \n",
            " 14  book/price    2666 non-null   float64\n",
            " 15  e/p           2666 non-null   float64\n",
            " 16  ebit/p        2666 non-null   float64\n",
            " 17  sales/p       2666 non-null   float64\n",
            "dtypes: float64(6), object(1), uint8(11)\n",
            "memory usage: 195.3+ KB\n"
          ],
          "name": "stdout"
        }
      ]
    },
    {
      "cell_type": "code",
      "metadata": {
        "colab": {
          "base_uri": "https://localhost:8080/"
        },
        "id": "hzIqgVXxC718",
        "outputId": "18be2ad2-3dca-47cd-eb74-2a1598cf5b08"
      },
      "source": [
        "subset = new8.iloc[:, 14: 18]\n",
        "subset.info()"
      ],
      "execution_count": null,
      "outputs": [
        {
          "output_type": "stream",
          "text": [
            "<class 'pandas.core.frame.DataFrame'>\n",
            "Int64Index: 2666 entries, 0 to 2665\n",
            "Data columns (total 4 columns):\n",
            " #   Column      Non-Null Count  Dtype  \n",
            "---  ------      --------------  -----  \n",
            " 0   book/price  2666 non-null   float64\n",
            " 1   e/p         2666 non-null   float64\n",
            " 2   ebit/p      2666 non-null   float64\n",
            " 3   sales/p     2666 non-null   float64\n",
            "dtypes: float64(4)\n",
            "memory usage: 104.1 KB\n"
          ],
          "name": "stdout"
        }
      ]
    },
    {
      "cell_type": "code",
      "metadata": {
        "colab": {
          "base_uri": "https://localhost:8080/"
        },
        "id": "VztMs2VX9MOA",
        "outputId": "7c04821f-cc8a-4de0-c08c-c5da1481371b"
      },
      "source": [
        "subset1 = new8.iloc[:, 3:14]\n",
        "subset1.info()"
      ],
      "execution_count": null,
      "outputs": [
        {
          "output_type": "stream",
          "text": [
            "<class 'pandas.core.frame.DataFrame'>\n",
            "Int64Index: 2666 entries, 0 to 2665\n",
            "Data columns (total 11 columns):\n",
            " #   Column      Non-Null Count  Dtype\n",
            "---  ------      --------------  -----\n",
            " 0   GSECTOR_10  2666 non-null   uint8\n",
            " 1   GSECTOR_15  2666 non-null   uint8\n",
            " 2   GSECTOR_20  2666 non-null   uint8\n",
            " 3   GSECTOR_25  2666 non-null   uint8\n",
            " 4   GSECTOR_30  2666 non-null   uint8\n",
            " 5   GSECTOR_35  2666 non-null   uint8\n",
            " 6   GSECTOR_40  2666 non-null   uint8\n",
            " 7   GSECTOR_45  2666 non-null   uint8\n",
            " 8   GSECTOR_50  2666 non-null   uint8\n",
            " 9   GSECTOR_55  2666 non-null   uint8\n",
            " 10  GSECTOR_60  2666 non-null   uint8\n",
            "dtypes: uint8(11)\n",
            "memory usage: 49.5 KB\n"
          ],
          "name": "stdout"
        }
      ]
    },
    {
      "cell_type": "code",
      "metadata": {
        "colab": {
          "base_uri": "https://localhost:8080/"
        },
        "id": "8Jepkdj89MQ7",
        "outputId": "05cabded-1e54-45f3-ebbc-a83c65f0041a"
      },
      "source": [
        "Y = new8['RetLate2020']\n",
        "X = subset\n",
        "X = sm.add_constant(X)\n",
        "model_market_early = sm.OLS(Y, X).fit()\n",
        "print(model_market_early.summary())"
      ],
      "execution_count": null,
      "outputs": [
        {
          "output_type": "stream",
          "text": [
            "                            OLS Regression Results                            \n",
            "==============================================================================\n",
            "Dep. Variable:            RetLate2020   R-squared:                       0.070\n",
            "Model:                            OLS   Adj. R-squared:                  0.068\n",
            "Method:                 Least Squares   F-statistic:                     49.98\n",
            "Date:                Wed, 07 Jul 2021   Prob (F-statistic):           1.30e-40\n",
            "Time:                        19:26:09   Log-Likelihood:                -3876.9\n",
            "No. Observations:                2666   AIC:                             7764.\n",
            "Df Residuals:                    2661   BIC:                             7793.\n",
            "Df Model:                           4                                         \n",
            "Covariance Type:            nonrobust                                         \n",
            "==============================================================================\n",
            "                 coef    std err          t      P>|t|      [0.025      0.975]\n",
            "------------------------------------------------------------------------------\n",
            "const          0.7715      0.031     24.775      0.000       0.710       0.833\n",
            "book/price    -0.2078      0.055     -3.760      0.000      -0.316      -0.099\n",
            "e/p           -0.9642      0.212     -4.542      0.000      -1.380      -0.548\n",
            "ebit/p        -0.5304      0.250     -2.123      0.034      -1.020      -0.041\n",
            "sales/p        0.1995      0.019     10.420      0.000       0.162       0.237\n",
            "==============================================================================\n",
            "Omnibus:                     2778.586   Durbin-Watson:                   1.992\n",
            "Prob(Omnibus):                  0.000   Jarque-Bera (JB):           303298.176\n",
            "Skew:                           4.923   Prob(JB):                         0.00\n",
            "Kurtosis:                      54.317   Cond. No.                         25.4\n",
            "==============================================================================\n",
            "\n",
            "Warnings:\n",
            "[1] Standard Errors assume that the covariance matrix of the errors is correctly specified.\n"
          ],
          "name": "stdout"
        }
      ]
    },
    {
      "cell_type": "code",
      "metadata": {
        "colab": {
          "base_uri": "https://localhost:8080/"
        },
        "id": "ElBHObuD9MTf",
        "outputId": "182fb3ed-a9ce-4f58-cce1-727a1db15e3e"
      },
      "source": [
        "X1 = subset1\n",
        "model_naics_early = sm.OLS(Y, X1).fit()\n",
        "print(model_naics_early.summary())"
      ],
      "execution_count": null,
      "outputs": [
        {
          "output_type": "stream",
          "text": [
            "                            OLS Regression Results                            \n",
            "==============================================================================\n",
            "Dep. Variable:            RetLate2020   R-squared:                       0.094\n",
            "Model:                            OLS   Adj. R-squared:                  0.091\n",
            "Method:                 Least Squares   F-statistic:                     27.52\n",
            "Date:                Wed, 07 Jul 2021   Prob (F-statistic):           1.43e-50\n",
            "Time:                        19:26:09   Log-Likelihood:                -3841.9\n",
            "No. Observations:                2666   AIC:                             7706.\n",
            "Df Residuals:                    2655   BIC:                             7771.\n",
            "Df Model:                          10                                         \n",
            "Covariance Type:            nonrobust                                         \n",
            "==============================================================================\n",
            "                 coef    std err          t      P>|t|      [0.025      0.975]\n",
            "------------------------------------------------------------------------------\n",
            "GSECTOR_10     1.0175      0.100     10.128      0.000       0.821       1.215\n",
            "GSECTOR_15     0.8732      0.093      9.376      0.000       0.691       1.056\n",
            "GSECTOR_20     0.8052      0.053     15.057      0.000       0.700       0.910\n",
            "GSECTOR_25     1.5415      0.059     26.147      0.000       1.426       1.657\n",
            "GSECTOR_30     0.5243      0.100      5.269      0.000       0.329       0.719\n",
            "GSECTOR_35     0.7397      0.047     15.819      0.000       0.648       0.831\n",
            "GSECTOR_40     0.4980      0.046     10.912      0.000       0.408       0.587\n",
            "GSECTOR_45     1.0047      0.055     18.135      0.000       0.896       1.113\n",
            "GSECTOR_50     0.7779      0.105      7.401      0.000       0.572       0.984\n",
            "GSECTOR_55     0.1812      0.123      1.469      0.142      -0.061       0.423\n",
            "GSECTOR_60     0.4567      0.077      5.913      0.000       0.305       0.608\n",
            "==============================================================================\n",
            "Omnibus:                     2886.436   Durbin-Watson:                   1.946\n",
            "Prob(Omnibus):                  0.000   Jarque-Bera (JB):           339198.770\n",
            "Skew:                           5.243   Prob(JB):                         0.00\n",
            "Kurtosis:                      57.255   Cond. No.                         2.70\n",
            "==============================================================================\n",
            "\n",
            "Warnings:\n",
            "[1] Standard Errors assume that the covariance matrix of the errors is correctly specified.\n"
          ],
          "name": "stdout"
        }
      ]
    },
    {
      "cell_type": "code",
      "metadata": {
        "colab": {
          "base_uri": "https://localhost:8080/"
        },
        "id": "Z3wOhK0jC75P",
        "outputId": "3a57c86c-2096-4352-e2f2-af8c8f7872b1"
      },
      "source": [
        "X2 = new8.drop(columns=['TICKER', 'RetEarly2020','RetLate2020'])\n",
        "X2 = sm.add_constant(X2)\n",
        "m_early = sm.OLS(Y, X2).fit()\n",
        "print(m_early.summary())"
      ],
      "execution_count": null,
      "outputs": [
        {
          "output_type": "stream",
          "text": [
            "                            OLS Regression Results                            \n",
            "==============================================================================\n",
            "Dep. Variable:            RetLate2020   R-squared:                       0.134\n",
            "Model:                            OLS   Adj. R-squared:                  0.129\n",
            "Method:                 Least Squares   F-statistic:                     29.24\n",
            "Date:                Wed, 07 Jul 2021   Prob (F-statistic):           9.59e-73\n",
            "Time:                        19:26:09   Log-Likelihood:                -3782.0\n",
            "No. Observations:                2666   AIC:                             7594.\n",
            "Df Residuals:                    2651   BIC:                             7682.\n",
            "Df Model:                          14                                         \n",
            "Covariance Type:            nonrobust                                         \n",
            "==============================================================================\n",
            "                 coef    std err          t      P>|t|      [0.025      0.975]\n",
            "------------------------------------------------------------------------------\n",
            "const          0.6780      0.034     19.820      0.000       0.611       0.745\n",
            "GSECTOR_10     0.2634      0.096      2.740      0.006       0.075       0.452\n",
            "GSECTOR_15     0.1553      0.087      1.794      0.073      -0.014       0.325\n",
            "GSECTOR_20     0.1004      0.053      1.879      0.060      -0.004       0.205\n",
            "GSECTOR_25     0.7592      0.060     12.707      0.000       0.642       0.876\n",
            "GSECTOR_30    -0.2515      0.093     -2.716      0.007      -0.433      -0.070\n",
            "GSECTOR_35    -0.0942      0.054     -1.760      0.079      -0.199       0.011\n",
            "GSECTOR_40    -0.0125      0.055     -0.228      0.820      -0.121       0.095\n",
            "GSECTOR_45     0.2890      0.055      5.208      0.000       0.180       0.398\n",
            "GSECTOR_50     0.0619      0.097      0.641      0.522      -0.128       0.251\n",
            "GSECTOR_55    -0.4420      0.113     -3.921      0.000      -0.663      -0.221\n",
            "GSECTOR_60    -0.1508      0.074     -2.045      0.041      -0.295      -0.006\n",
            "book/price    -0.1102      0.062     -1.779      0.075      -0.232       0.011\n",
            "e/p           -1.2002      0.209     -5.745      0.000      -1.610      -0.791\n",
            "ebit/p        -0.4486      0.259     -1.735      0.083      -0.956       0.058\n",
            "sales/p        0.1241      0.021      5.875      0.000       0.083       0.166\n",
            "==============================================================================\n",
            "Omnibus:                     2841.446   Durbin-Watson:                   1.960\n",
            "Prob(Omnibus):                  0.000   Jarque-Bera (JB):           343008.871\n",
            "Skew:                           5.083   Prob(JB):                         0.00\n",
            "Kurtosis:                      57.631   Cond. No.                     6.07e+15\n",
            "==============================================================================\n",
            "\n",
            "Warnings:\n",
            "[1] Standard Errors assume that the covariance matrix of the errors is correctly specified.\n",
            "[2] The smallest eigenvalue is 2.13e-28. This might indicate that there are\n",
            "strong multicollinearity problems or that the design matrix is singular.\n"
          ],
          "name": "stdout"
        }
      ]
    },
    {
      "cell_type": "markdown",
      "metadata": {
        "id": "Y7plaOT2JMFQ"
      },
      "source": [
        "# Conclusion"
      ]
    },
    {
      "cell_type": "markdown",
      "metadata": {
        "id": "2hp4VDxVJWzN"
      },
      "source": [
        "The SIC industry identifier has the highest explanatory power among the four different industry identifiers for both ealy 2020 returns and late 2020 returns. \n",
        "\n",
        "In general, industry variables have more explanatory power than the market ratio variables. When the industry fixed effects are combined with the market ratios, the explanatory power gets boosted and can better explain the differences in Stock Returns for early and late 2020."
      ]
    }
  ]
}